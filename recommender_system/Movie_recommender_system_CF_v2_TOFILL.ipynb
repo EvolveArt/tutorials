{
  "nbformat": 4,
  "nbformat_minor": 0,
  "metadata": {
    "colab": {
      "name": "Movie_recommender_system_CF_v2_TOFILL.ipynb",
      "version": "0.3.2",
      "provenance": [],
      "collapsed_sections": []
    },
    "kernelspec": {
      "name": "python3",
      "display_name": "Python 3"
    }
  },
  "cells": [
    {
      "cell_type": "markdown",
      "metadata": {
        "id": "hZzLBRl0iNfE",
        "colab_type": "text"
      },
      "source": [
        "# Hands-on: movie recommender system\n",
        "## Collaborative filtering (matrix factorization)\n",
        "\n",
        "You are an online retailer/travel agent/movie review website, and you would like to help the visitors of your website to explore more of your products/destinations/movies. You got data which either describe the different products/destinations/films, or past transactions/trips/views (or preferences) of your visitors (or both!). You decide to leverage that data to provide relevant and meaningful recommendations.\n",
        "\n",
        "This notebook implements a simple collaborative system using  factorization of the user-item matrix."
      ]
    },
    {
      "cell_type": "code",
      "metadata": {
        "id": "J8u8ZXvkhkfY",
        "colab_type": "code",
        "colab": {}
      },
      "source": [
        "import pandas as pd\n",
        "import numpy as np\n",
        "import matplotlib.pyplot as plt\n",
        "import seaborn as sns\n",
        "\n",
        "%matplotlib inline"
      ],
      "execution_count": 0,
      "outputs": []
    },
    {
      "cell_type": "code",
      "metadata": {
        "id": "CPVCIslerd5e",
        "colab_type": "code",
        "colab": {}
      },
      "source": [
        "ratings=\"https://github.com/couturierc/tutorials/raw/master/recommender_system/data/ratings.csv\"\n",
        "movies=\"https://github.com/couturierc/tutorials/raw/master/recommender_system/data/movies.csv\"\n",
        "\n",
        "# If data stored locally\n",
        "# ratings=\"./data/ratings.csv\"\n",
        "# movies=\"./data/movies.csv\"\n",
        "\n",
        "df_ratings = pd.read_csv(ratings, sep=',')\n",
        "df_ratings.columns = ['userId', 'itemId', 'rating', 'timestamp']\n",
        "df_movies = pd.read_csv(movies, sep=',')\n",
        "df_movies.columns = ['itemId', 'title', 'genres']"
      ],
      "execution_count": 0,
      "outputs": []
    },
    {
      "cell_type": "code",
      "metadata": {
        "id": "IvyAYay5rzcS",
        "colab_type": "code",
        "outputId": "f81e5fb5-f91c-4514-a4a3-553a653dcdef",
        "colab": {
          "base_uri": "https://localhost:8080/",
          "height": 204
        }
      },
      "source": [
        "df_movies.head()"
      ],
      "execution_count": 0,
      "outputs": [
        {
          "output_type": "execute_result",
          "data": {
            "text/html": [
              "<div>\n",
              "<style scoped>\n",
              "    .dataframe tbody tr th:only-of-type {\n",
              "        vertical-align: middle;\n",
              "    }\n",
              "\n",
              "    .dataframe tbody tr th {\n",
              "        vertical-align: top;\n",
              "    }\n",
              "\n",
              "    .dataframe thead th {\n",
              "        text-align: right;\n",
              "    }\n",
              "</style>\n",
              "<table border=\"1\" class=\"dataframe\">\n",
              "  <thead>\n",
              "    <tr style=\"text-align: right;\">\n",
              "      <th></th>\n",
              "      <th>itemId</th>\n",
              "      <th>title</th>\n",
              "      <th>genres</th>\n",
              "    </tr>\n",
              "  </thead>\n",
              "  <tbody>\n",
              "    <tr>\n",
              "      <th>0</th>\n",
              "      <td>1</td>\n",
              "      <td>Toy Story (1995)</td>\n",
              "      <td>Adventure|Animation|Children|Comedy|Fantasy</td>\n",
              "    </tr>\n",
              "    <tr>\n",
              "      <th>1</th>\n",
              "      <td>2</td>\n",
              "      <td>Jumanji (1995)</td>\n",
              "      <td>Adventure|Children|Fantasy</td>\n",
              "    </tr>\n",
              "    <tr>\n",
              "      <th>2</th>\n",
              "      <td>3</td>\n",
              "      <td>Grumpier Old Men (1995)</td>\n",
              "      <td>Comedy|Romance</td>\n",
              "    </tr>\n",
              "    <tr>\n",
              "      <th>3</th>\n",
              "      <td>4</td>\n",
              "      <td>Waiting to Exhale (1995)</td>\n",
              "      <td>Comedy|Drama|Romance</td>\n",
              "    </tr>\n",
              "    <tr>\n",
              "      <th>4</th>\n",
              "      <td>5</td>\n",
              "      <td>Father of the Bride Part II (1995)</td>\n",
              "      <td>Comedy</td>\n",
              "    </tr>\n",
              "  </tbody>\n",
              "</table>\n",
              "</div>"
            ],
            "text/plain": [
              "   itemId                               title  \\\n",
              "0       1                    Toy Story (1995)   \n",
              "1       2                      Jumanji (1995)   \n",
              "2       3             Grumpier Old Men (1995)   \n",
              "3       4            Waiting to Exhale (1995)   \n",
              "4       5  Father of the Bride Part II (1995)   \n",
              "\n",
              "                                        genres  \n",
              "0  Adventure|Animation|Children|Comedy|Fantasy  \n",
              "1                   Adventure|Children|Fantasy  \n",
              "2                               Comedy|Romance  \n",
              "3                         Comedy|Drama|Romance  \n",
              "4                                       Comedy  "
            ]
          },
          "metadata": {
            "tags": []
          },
          "execution_count": 3
        }
      ]
    },
    {
      "cell_type": "code",
      "metadata": {
        "id": "R4K08KX3sYhr",
        "colab_type": "code",
        "outputId": "2d834206-6ed3-4e28-972d-b82a63041864",
        "colab": {
          "base_uri": "https://localhost:8080/",
          "height": 204
        }
      },
      "source": [
        "df_ratings.head()"
      ],
      "execution_count": 0,
      "outputs": [
        {
          "output_type": "execute_result",
          "data": {
            "text/html": [
              "<div>\n",
              "<style scoped>\n",
              "    .dataframe tbody tr th:only-of-type {\n",
              "        vertical-align: middle;\n",
              "    }\n",
              "\n",
              "    .dataframe tbody tr th {\n",
              "        vertical-align: top;\n",
              "    }\n",
              "\n",
              "    .dataframe thead th {\n",
              "        text-align: right;\n",
              "    }\n",
              "</style>\n",
              "<table border=\"1\" class=\"dataframe\">\n",
              "  <thead>\n",
              "    <tr style=\"text-align: right;\">\n",
              "      <th></th>\n",
              "      <th>userId</th>\n",
              "      <th>itemId</th>\n",
              "      <th>rating</th>\n",
              "      <th>timestamp</th>\n",
              "    </tr>\n",
              "  </thead>\n",
              "  <tbody>\n",
              "    <tr>\n",
              "      <th>0</th>\n",
              "      <td>1</td>\n",
              "      <td>1</td>\n",
              "      <td>4.0</td>\n",
              "      <td>964982703</td>\n",
              "    </tr>\n",
              "    <tr>\n",
              "      <th>1</th>\n",
              "      <td>1</td>\n",
              "      <td>3</td>\n",
              "      <td>4.0</td>\n",
              "      <td>964981247</td>\n",
              "    </tr>\n",
              "    <tr>\n",
              "      <th>2</th>\n",
              "      <td>1</td>\n",
              "      <td>6</td>\n",
              "      <td>4.0</td>\n",
              "      <td>964982224</td>\n",
              "    </tr>\n",
              "    <tr>\n",
              "      <th>3</th>\n",
              "      <td>1</td>\n",
              "      <td>47</td>\n",
              "      <td>5.0</td>\n",
              "      <td>964983815</td>\n",
              "    </tr>\n",
              "    <tr>\n",
              "      <th>4</th>\n",
              "      <td>1</td>\n",
              "      <td>50</td>\n",
              "      <td>5.0</td>\n",
              "      <td>964982931</td>\n",
              "    </tr>\n",
              "  </tbody>\n",
              "</table>\n",
              "</div>"
            ],
            "text/plain": [
              "   userId  itemId  rating  timestamp\n",
              "0       1       1     4.0  964982703\n",
              "1       1       3     4.0  964981247\n",
              "2       1       6     4.0  964982224\n",
              "3       1      47     5.0  964983815\n",
              "4       1      50     5.0  964982931"
            ]
          },
          "metadata": {
            "tags": []
          },
          "execution_count": 4
        }
      ]
    },
    {
      "cell_type": "markdown",
      "metadata": {
        "id": "2hUKyFxYdsT5",
        "colab_type": "text"
      },
      "source": [
        "## Quick exploration\n",
        "\n",
        "Hints: use df.describe(), df.column_name.hist(), scatterplot matrix (sns.pairplot(df[column_range])), correlation matrix (sns.heatmap(df.corr()) ), check duplicates, ..."
      ]
    },
    {
      "cell_type": "code",
      "metadata": {
        "id": "LVqBtDNmJ5vL",
        "colab_type": "code",
        "colab": {}
      },
      "source": [
        "# Start your exploration -- use as many cells as you need !\n"
      ],
      "execution_count": 0,
      "outputs": []
    },
    {
      "cell_type": "markdown",
      "metadata": {
        "id": "MffuKcE5s8fQ",
        "colab_type": "text"
      },
      "source": [
        "## Obtain the user-item matrice by pivoting df_ratings"
      ]
    },
    {
      "cell_type": "code",
      "metadata": {
        "id": "qOt3GI3zs2Ts",
        "colab_type": "code",
        "colab": {}
      },
      "source": [
        "##### FILL HERE (1 line) ######\n",
        "df_user_item = NULL # Use df.pivot, rows ~ userId's, columns ~ itemId's\n",
        "################################\n",
        "\n",
        "# Sort index/rows (userId's) and columns (itemId's)\n",
        "df_user_item.sort_index(axis=0, inplace=True)\n",
        "df_user_item.sort_index(axis=1, inplace=True)"
      ],
      "execution_count": 0,
      "outputs": []
    },
    {
      "cell_type": "markdown",
      "metadata": {
        "id": "90Q7L3SQtc1t",
        "colab_type": "text"
      },
      "source": [
        "This matrix has **many** missing values:"
      ]
    },
    {
      "cell_type": "code",
      "metadata": {
        "id": "P6tkf_s3tgsL",
        "colab_type": "code",
        "outputId": "328b431c-384a-4e63-b303-34e28e347384",
        "colab": {
          "base_uri": "https://localhost:8080/",
          "height": 284
        }
      },
      "source": [
        "df_user_item.head()"
      ],
      "execution_count": 0,
      "outputs": [
        {
          "output_type": "execute_result",
          "data": {
            "text/html": [
              "<div>\n",
              "<style scoped>\n",
              "    .dataframe tbody tr th:only-of-type {\n",
              "        vertical-align: middle;\n",
              "    }\n",
              "\n",
              "    .dataframe tbody tr th {\n",
              "        vertical-align: top;\n",
              "    }\n",
              "\n",
              "    .dataframe thead th {\n",
              "        text-align: right;\n",
              "    }\n",
              "</style>\n",
              "<table border=\"1\" class=\"dataframe\">\n",
              "  <thead>\n",
              "    <tr style=\"text-align: right;\">\n",
              "      <th>itemId</th>\n",
              "      <th>1</th>\n",
              "      <th>2</th>\n",
              "      <th>3</th>\n",
              "      <th>4</th>\n",
              "      <th>5</th>\n",
              "      <th>6</th>\n",
              "      <th>7</th>\n",
              "      <th>8</th>\n",
              "      <th>9</th>\n",
              "      <th>10</th>\n",
              "      <th>...</th>\n",
              "      <th>193565</th>\n",
              "      <th>193567</th>\n",
              "      <th>193571</th>\n",
              "      <th>193573</th>\n",
              "      <th>193579</th>\n",
              "      <th>193581</th>\n",
              "      <th>193583</th>\n",
              "      <th>193585</th>\n",
              "      <th>193587</th>\n",
              "      <th>193609</th>\n",
              "    </tr>\n",
              "    <tr>\n",
              "      <th>userId</th>\n",
              "      <th></th>\n",
              "      <th></th>\n",
              "      <th></th>\n",
              "      <th></th>\n",
              "      <th></th>\n",
              "      <th></th>\n",
              "      <th></th>\n",
              "      <th></th>\n",
              "      <th></th>\n",
              "      <th></th>\n",
              "      <th></th>\n",
              "      <th></th>\n",
              "      <th></th>\n",
              "      <th></th>\n",
              "      <th></th>\n",
              "      <th></th>\n",
              "      <th></th>\n",
              "      <th></th>\n",
              "      <th></th>\n",
              "      <th></th>\n",
              "      <th></th>\n",
              "    </tr>\n",
              "  </thead>\n",
              "  <tbody>\n",
              "    <tr>\n",
              "      <th>1</th>\n",
              "      <td>4.0</td>\n",
              "      <td>NaN</td>\n",
              "      <td>4.0</td>\n",
              "      <td>NaN</td>\n",
              "      <td>NaN</td>\n",
              "      <td>4.0</td>\n",
              "      <td>NaN</td>\n",
              "      <td>NaN</td>\n",
              "      <td>NaN</td>\n",
              "      <td>NaN</td>\n",
              "      <td>...</td>\n",
              "      <td>NaN</td>\n",
              "      <td>NaN</td>\n",
              "      <td>NaN</td>\n",
              "      <td>NaN</td>\n",
              "      <td>NaN</td>\n",
              "      <td>NaN</td>\n",
              "      <td>NaN</td>\n",
              "      <td>NaN</td>\n",
              "      <td>NaN</td>\n",
              "      <td>NaN</td>\n",
              "    </tr>\n",
              "    <tr>\n",
              "      <th>2</th>\n",
              "      <td>NaN</td>\n",
              "      <td>NaN</td>\n",
              "      <td>NaN</td>\n",
              "      <td>NaN</td>\n",
              "      <td>NaN</td>\n",
              "      <td>NaN</td>\n",
              "      <td>NaN</td>\n",
              "      <td>NaN</td>\n",
              "      <td>NaN</td>\n",
              "      <td>NaN</td>\n",
              "      <td>...</td>\n",
              "      <td>NaN</td>\n",
              "      <td>NaN</td>\n",
              "      <td>NaN</td>\n",
              "      <td>NaN</td>\n",
              "      <td>NaN</td>\n",
              "      <td>NaN</td>\n",
              "      <td>NaN</td>\n",
              "      <td>NaN</td>\n",
              "      <td>NaN</td>\n",
              "      <td>NaN</td>\n",
              "    </tr>\n",
              "    <tr>\n",
              "      <th>3</th>\n",
              "      <td>NaN</td>\n",
              "      <td>NaN</td>\n",
              "      <td>NaN</td>\n",
              "      <td>NaN</td>\n",
              "      <td>NaN</td>\n",
              "      <td>NaN</td>\n",
              "      <td>NaN</td>\n",
              "      <td>NaN</td>\n",
              "      <td>NaN</td>\n",
              "      <td>NaN</td>\n",
              "      <td>...</td>\n",
              "      <td>NaN</td>\n",
              "      <td>NaN</td>\n",
              "      <td>NaN</td>\n",
              "      <td>NaN</td>\n",
              "      <td>NaN</td>\n",
              "      <td>NaN</td>\n",
              "      <td>NaN</td>\n",
              "      <td>NaN</td>\n",
              "      <td>NaN</td>\n",
              "      <td>NaN</td>\n",
              "    </tr>\n",
              "    <tr>\n",
              "      <th>4</th>\n",
              "      <td>NaN</td>\n",
              "      <td>NaN</td>\n",
              "      <td>NaN</td>\n",
              "      <td>NaN</td>\n",
              "      <td>NaN</td>\n",
              "      <td>NaN</td>\n",
              "      <td>NaN</td>\n",
              "      <td>NaN</td>\n",
              "      <td>NaN</td>\n",
              "      <td>NaN</td>\n",
              "      <td>...</td>\n",
              "      <td>NaN</td>\n",
              "      <td>NaN</td>\n",
              "      <td>NaN</td>\n",
              "      <td>NaN</td>\n",
              "      <td>NaN</td>\n",
              "      <td>NaN</td>\n",
              "      <td>NaN</td>\n",
              "      <td>NaN</td>\n",
              "      <td>NaN</td>\n",
              "      <td>NaN</td>\n",
              "    </tr>\n",
              "    <tr>\n",
              "      <th>5</th>\n",
              "      <td>4.0</td>\n",
              "      <td>NaN</td>\n",
              "      <td>NaN</td>\n",
              "      <td>NaN</td>\n",
              "      <td>NaN</td>\n",
              "      <td>NaN</td>\n",
              "      <td>NaN</td>\n",
              "      <td>NaN</td>\n",
              "      <td>NaN</td>\n",
              "      <td>NaN</td>\n",
              "      <td>...</td>\n",
              "      <td>NaN</td>\n",
              "      <td>NaN</td>\n",
              "      <td>NaN</td>\n",
              "      <td>NaN</td>\n",
              "      <td>NaN</td>\n",
              "      <td>NaN</td>\n",
              "      <td>NaN</td>\n",
              "      <td>NaN</td>\n",
              "      <td>NaN</td>\n",
              "      <td>NaN</td>\n",
              "    </tr>\n",
              "  </tbody>\n",
              "</table>\n",
              "<p>5 rows × 9724 columns</p>\n",
              "</div>"
            ],
            "text/plain": [
              "itemId  1       2       3       4       5       6       7       8       \\\n",
              "userId                                                                   \n",
              "1          4.0     NaN     4.0     NaN     NaN     4.0     NaN     NaN   \n",
              "2          NaN     NaN     NaN     NaN     NaN     NaN     NaN     NaN   \n",
              "3          NaN     NaN     NaN     NaN     NaN     NaN     NaN     NaN   \n",
              "4          NaN     NaN     NaN     NaN     NaN     NaN     NaN     NaN   \n",
              "5          4.0     NaN     NaN     NaN     NaN     NaN     NaN     NaN   \n",
              "\n",
              "itemId  9       10      ...  193565  193567  193571  193573  193579  193581  \\\n",
              "userId                  ...                                                   \n",
              "1          NaN     NaN  ...     NaN     NaN     NaN     NaN     NaN     NaN   \n",
              "2          NaN     NaN  ...     NaN     NaN     NaN     NaN     NaN     NaN   \n",
              "3          NaN     NaN  ...     NaN     NaN     NaN     NaN     NaN     NaN   \n",
              "4          NaN     NaN  ...     NaN     NaN     NaN     NaN     NaN     NaN   \n",
              "5          NaN     NaN  ...     NaN     NaN     NaN     NaN     NaN     NaN   \n",
              "\n",
              "itemId  193583  193585  193587  193609  \n",
              "userId                                  \n",
              "1          NaN     NaN     NaN     NaN  \n",
              "2          NaN     NaN     NaN     NaN  \n",
              "3          NaN     NaN     NaN     NaN  \n",
              "4          NaN     NaN     NaN     NaN  \n",
              "5          NaN     NaN     NaN     NaN  \n",
              "\n",
              "[5 rows x 9724 columns]"
            ]
          },
          "metadata": {
            "tags": []
          },
          "execution_count": 9
        }
      ]
    },
    {
      "cell_type": "code",
      "metadata": {
        "id": "J0EfDXLIRWaG",
        "colab_type": "code",
        "outputId": "c383a6cc-566a-4c24-8e79-bfff7d8db0e2",
        "colab": {
          "base_uri": "https://localhost:8080/",
          "height": 346
        }
      },
      "source": [
        "df_user_item.describe()"
      ],
      "execution_count": 0,
      "outputs": [
        {
          "output_type": "execute_result",
          "data": {
            "text/html": [
              "<div>\n",
              "<style scoped>\n",
              "    .dataframe tbody tr th:only-of-type {\n",
              "        vertical-align: middle;\n",
              "    }\n",
              "\n",
              "    .dataframe tbody tr th {\n",
              "        vertical-align: top;\n",
              "    }\n",
              "\n",
              "    .dataframe thead th {\n",
              "        text-align: right;\n",
              "    }\n",
              "</style>\n",
              "<table border=\"1\" class=\"dataframe\">\n",
              "  <thead>\n",
              "    <tr style=\"text-align: right;\">\n",
              "      <th>itemId</th>\n",
              "      <th>1</th>\n",
              "      <th>2</th>\n",
              "      <th>3</th>\n",
              "      <th>4</th>\n",
              "      <th>5</th>\n",
              "      <th>6</th>\n",
              "      <th>7</th>\n",
              "      <th>8</th>\n",
              "      <th>9</th>\n",
              "      <th>10</th>\n",
              "      <th>...</th>\n",
              "      <th>193565</th>\n",
              "      <th>193567</th>\n",
              "      <th>193571</th>\n",
              "      <th>193573</th>\n",
              "      <th>193579</th>\n",
              "      <th>193581</th>\n",
              "      <th>193583</th>\n",
              "      <th>193585</th>\n",
              "      <th>193587</th>\n",
              "      <th>193609</th>\n",
              "    </tr>\n",
              "  </thead>\n",
              "  <tbody>\n",
              "    <tr>\n",
              "      <th>count</th>\n",
              "      <td>215.000000</td>\n",
              "      <td>110.000000</td>\n",
              "      <td>52.000000</td>\n",
              "      <td>7.000000</td>\n",
              "      <td>49.000000</td>\n",
              "      <td>102.000000</td>\n",
              "      <td>54.000000</td>\n",
              "      <td>8.000000</td>\n",
              "      <td>16.000000</td>\n",
              "      <td>132.000000</td>\n",
              "      <td>...</td>\n",
              "      <td>1.0</td>\n",
              "      <td>1.0</td>\n",
              "      <td>1.0</td>\n",
              "      <td>1.0</td>\n",
              "      <td>1.0</td>\n",
              "      <td>1.0</td>\n",
              "      <td>1.0</td>\n",
              "      <td>1.0</td>\n",
              "      <td>1.0</td>\n",
              "      <td>1.0</td>\n",
              "    </tr>\n",
              "    <tr>\n",
              "      <th>mean</th>\n",
              "      <td>3.920930</td>\n",
              "      <td>3.431818</td>\n",
              "      <td>3.259615</td>\n",
              "      <td>2.357143</td>\n",
              "      <td>3.071429</td>\n",
              "      <td>3.946078</td>\n",
              "      <td>3.185185</td>\n",
              "      <td>2.875000</td>\n",
              "      <td>3.125000</td>\n",
              "      <td>3.496212</td>\n",
              "      <td>...</td>\n",
              "      <td>3.5</td>\n",
              "      <td>3.0</td>\n",
              "      <td>4.0</td>\n",
              "      <td>4.0</td>\n",
              "      <td>3.5</td>\n",
              "      <td>4.0</td>\n",
              "      <td>3.5</td>\n",
              "      <td>3.5</td>\n",
              "      <td>3.5</td>\n",
              "      <td>4.0</td>\n",
              "    </tr>\n",
              "    <tr>\n",
              "      <th>std</th>\n",
              "      <td>0.834859</td>\n",
              "      <td>0.881713</td>\n",
              "      <td>1.054823</td>\n",
              "      <td>0.852168</td>\n",
              "      <td>0.907148</td>\n",
              "      <td>0.817224</td>\n",
              "      <td>0.977561</td>\n",
              "      <td>1.125992</td>\n",
              "      <td>0.974679</td>\n",
              "      <td>0.859381</td>\n",
              "      <td>...</td>\n",
              "      <td>NaN</td>\n",
              "      <td>NaN</td>\n",
              "      <td>NaN</td>\n",
              "      <td>NaN</td>\n",
              "      <td>NaN</td>\n",
              "      <td>NaN</td>\n",
              "      <td>NaN</td>\n",
              "      <td>NaN</td>\n",
              "      <td>NaN</td>\n",
              "      <td>NaN</td>\n",
              "    </tr>\n",
              "    <tr>\n",
              "      <th>min</th>\n",
              "      <td>0.500000</td>\n",
              "      <td>0.500000</td>\n",
              "      <td>0.500000</td>\n",
              "      <td>1.000000</td>\n",
              "      <td>0.500000</td>\n",
              "      <td>1.000000</td>\n",
              "      <td>1.000000</td>\n",
              "      <td>1.000000</td>\n",
              "      <td>1.500000</td>\n",
              "      <td>0.500000</td>\n",
              "      <td>...</td>\n",
              "      <td>3.5</td>\n",
              "      <td>3.0</td>\n",
              "      <td>4.0</td>\n",
              "      <td>4.0</td>\n",
              "      <td>3.5</td>\n",
              "      <td>4.0</td>\n",
              "      <td>3.5</td>\n",
              "      <td>3.5</td>\n",
              "      <td>3.5</td>\n",
              "      <td>4.0</td>\n",
              "    </tr>\n",
              "    <tr>\n",
              "      <th>25%</th>\n",
              "      <td>3.500000</td>\n",
              "      <td>3.000000</td>\n",
              "      <td>3.000000</td>\n",
              "      <td>1.750000</td>\n",
              "      <td>3.000000</td>\n",
              "      <td>3.125000</td>\n",
              "      <td>3.000000</td>\n",
              "      <td>2.750000</td>\n",
              "      <td>2.875000</td>\n",
              "      <td>3.000000</td>\n",
              "      <td>...</td>\n",
              "      <td>3.5</td>\n",
              "      <td>3.0</td>\n",
              "      <td>4.0</td>\n",
              "      <td>4.0</td>\n",
              "      <td>3.5</td>\n",
              "      <td>4.0</td>\n",
              "      <td>3.5</td>\n",
              "      <td>3.5</td>\n",
              "      <td>3.5</td>\n",
              "      <td>4.0</td>\n",
              "    </tr>\n",
              "    <tr>\n",
              "      <th>50%</th>\n",
              "      <td>4.000000</td>\n",
              "      <td>3.500000</td>\n",
              "      <td>3.000000</td>\n",
              "      <td>3.000000</td>\n",
              "      <td>3.000000</td>\n",
              "      <td>4.000000</td>\n",
              "      <td>3.000000</td>\n",
              "      <td>3.000000</td>\n",
              "      <td>3.000000</td>\n",
              "      <td>3.500000</td>\n",
              "      <td>...</td>\n",
              "      <td>3.5</td>\n",
              "      <td>3.0</td>\n",
              "      <td>4.0</td>\n",
              "      <td>4.0</td>\n",
              "      <td>3.5</td>\n",
              "      <td>4.0</td>\n",
              "      <td>3.5</td>\n",
              "      <td>3.5</td>\n",
              "      <td>3.5</td>\n",
              "      <td>4.0</td>\n",
              "    </tr>\n",
              "    <tr>\n",
              "      <th>75%</th>\n",
              "      <td>4.500000</td>\n",
              "      <td>4.000000</td>\n",
              "      <td>4.000000</td>\n",
              "      <td>3.000000</td>\n",
              "      <td>3.500000</td>\n",
              "      <td>4.500000</td>\n",
              "      <td>4.000000</td>\n",
              "      <td>3.000000</td>\n",
              "      <td>3.250000</td>\n",
              "      <td>4.000000</td>\n",
              "      <td>...</td>\n",
              "      <td>3.5</td>\n",
              "      <td>3.0</td>\n",
              "      <td>4.0</td>\n",
              "      <td>4.0</td>\n",
              "      <td>3.5</td>\n",
              "      <td>4.0</td>\n",
              "      <td>3.5</td>\n",
              "      <td>3.5</td>\n",
              "      <td>3.5</td>\n",
              "      <td>4.0</td>\n",
              "    </tr>\n",
              "    <tr>\n",
              "      <th>max</th>\n",
              "      <td>5.000000</td>\n",
              "      <td>5.000000</td>\n",
              "      <td>5.000000</td>\n",
              "      <td>3.000000</td>\n",
              "      <td>5.000000</td>\n",
              "      <td>5.000000</td>\n",
              "      <td>5.000000</td>\n",
              "      <td>5.000000</td>\n",
              "      <td>5.000000</td>\n",
              "      <td>5.000000</td>\n",
              "      <td>...</td>\n",
              "      <td>3.5</td>\n",
              "      <td>3.0</td>\n",
              "      <td>4.0</td>\n",
              "      <td>4.0</td>\n",
              "      <td>3.5</td>\n",
              "      <td>4.0</td>\n",
              "      <td>3.5</td>\n",
              "      <td>3.5</td>\n",
              "      <td>3.5</td>\n",
              "      <td>4.0</td>\n",
              "    </tr>\n",
              "  </tbody>\n",
              "</table>\n",
              "<p>8 rows × 9724 columns</p>\n",
              "</div>"
            ],
            "text/plain": [
              "itemId      1           2          3         4          5           6       \\\n",
              "count   215.000000  110.000000  52.000000  7.000000  49.000000  102.000000   \n",
              "mean      3.920930    3.431818   3.259615  2.357143   3.071429    3.946078   \n",
              "std       0.834859    0.881713   1.054823  0.852168   0.907148    0.817224   \n",
              "min       0.500000    0.500000   0.500000  1.000000   0.500000    1.000000   \n",
              "25%       3.500000    3.000000   3.000000  1.750000   3.000000    3.125000   \n",
              "50%       4.000000    3.500000   3.000000  3.000000   3.000000    4.000000   \n",
              "75%       4.500000    4.000000   4.000000  3.000000   3.500000    4.500000   \n",
              "max       5.000000    5.000000   5.000000  3.000000   5.000000    5.000000   \n",
              "\n",
              "itemId     7         8          9           10      ...  193565  193567  \\\n",
              "count   54.000000  8.000000  16.000000  132.000000  ...     1.0     1.0   \n",
              "mean     3.185185  2.875000   3.125000    3.496212  ...     3.5     3.0   \n",
              "std      0.977561  1.125992   0.974679    0.859381  ...     NaN     NaN   \n",
              "min      1.000000  1.000000   1.500000    0.500000  ...     3.5     3.0   \n",
              "25%      3.000000  2.750000   2.875000    3.000000  ...     3.5     3.0   \n",
              "50%      3.000000  3.000000   3.000000    3.500000  ...     3.5     3.0   \n",
              "75%      4.000000  3.000000   3.250000    4.000000  ...     3.5     3.0   \n",
              "max      5.000000  5.000000   5.000000    5.000000  ...     3.5     3.0   \n",
              "\n",
              "itemId  193571  193573  193579  193581  193583  193585  193587  193609  \n",
              "count      1.0     1.0     1.0     1.0     1.0     1.0     1.0     1.0  \n",
              "mean       4.0     4.0     3.5     4.0     3.5     3.5     3.5     4.0  \n",
              "std        NaN     NaN     NaN     NaN     NaN     NaN     NaN     NaN  \n",
              "min        4.0     4.0     3.5     4.0     3.5     3.5     3.5     4.0  \n",
              "25%        4.0     4.0     3.5     4.0     3.5     3.5     3.5     4.0  \n",
              "50%        4.0     4.0     3.5     4.0     3.5     3.5     3.5     4.0  \n",
              "75%        4.0     4.0     3.5     4.0     3.5     3.5     3.5     4.0  \n",
              "max        4.0     4.0     3.5     4.0     3.5     3.5     3.5     4.0  \n",
              "\n",
              "[8 rows x 9724 columns]"
            ]
          },
          "metadata": {
            "tags": []
          },
          "execution_count": 10
        }
      ]
    },
    {
      "cell_type": "markdown",
      "metadata": {
        "id": "HXanXrqI4xJ4",
        "colab_type": "text"
      },
      "source": [
        "For instance, rating for userId=1 for movies with itemId 1 to 10:"
      ]
    },
    {
      "cell_type": "code",
      "metadata": {
        "id": "QLI0gnwT4obE",
        "colab_type": "code",
        "outputId": "bc6695e2-a400-4257-d9d7-19796aeea577",
        "colab": {
          "base_uri": "https://localhost:8080/",
          "height": 221
        }
      },
      "source": [
        "df_user_item.loc[1][:10]"
      ],
      "execution_count": 0,
      "outputs": [
        {
          "output_type": "execute_result",
          "data": {
            "text/plain": [
              "itemId\n",
              "1     4.0\n",
              "2     NaN\n",
              "3     4.0\n",
              "4     NaN\n",
              "5     NaN\n",
              "6     4.0\n",
              "7     NaN\n",
              "8     NaN\n",
              "9     NaN\n",
              "10    NaN\n",
              "Name: 1, dtype: float64"
            ]
          },
          "metadata": {
            "tags": []
          },
          "execution_count": 11
        }
      ]
    },
    {
      "cell_type": "code",
      "metadata": {
        "id": "3SM4RU3njy2K",
        "colab_type": "code",
        "colab": {}
      },
      "source": [
        "# df_user_item.loc[1].dropna().sort_values(ascending=False)"
      ],
      "execution_count": 0,
      "outputs": []
    },
    {
      "cell_type": "markdown",
      "metadata": {
        "id": "-dtJPkm1knNC",
        "colab_type": "text"
      },
      "source": [
        "Save the movie ids for user 1 for later:"
      ]
    },
    {
      "cell_type": "code",
      "metadata": {
        "id": "C05fKcNrkmYv",
        "colab_type": "code",
        "outputId": "865eff9f-a4c4-4eb3-b17f-3fefbc42db4e",
        "colab": {
          "base_uri": "https://localhost:8080/",
          "height": 85
        }
      },
      "source": [
        "item_rated_user_1 = df_user_item.loc[1].dropna().index\n",
        "item_rated_user_1"
      ],
      "execution_count": 0,
      "outputs": [
        {
          "output_type": "execute_result",
          "data": {
            "text/plain": [
              "Int64Index([   1,    3,    6,   47,   50,   70,  101,  110,  151,  157,\n",
              "            ...\n",
              "            3671, 3702, 3703, 3729, 3740, 3744, 3793, 3809, 4006, 5060],\n",
              "           dtype='int64', name='itemId', length=232)"
            ]
          },
          "metadata": {
            "tags": []
          },
          "execution_count": 13
        }
      ]
    },
    {
      "cell_type": "markdown",
      "metadata": {
        "id": "oR-pEwd5thyy",
        "colab_type": "text"
      },
      "source": [
        "We want to find the matrix of rank $k$ which is closest to the original matrix.\n",
        "\n"
      ]
    },
    {
      "cell_type": "markdown",
      "metadata": {
        "id": "gAUU_b5ma5bA",
        "colab_type": "text"
      },
      "source": [
        "## What not to do: Fill with 0's or mean values, then Singular Value Decomposition (SVD)"
      ]
    },
    {
      "cell_type": "markdown",
      "metadata": {
        "id": "5ixiAfGIH6VU",
        "colab_type": "text"
      },
      "source": [
        "(Adapted from https://github.com/beckernick/matrix_factorization_recommenders/blob/master/matrix_factorization_recommender.ipynb)\n",
        "\n",
        "Singular Value Decomposition decomposes a matrix $R$ into the best lower rank (i.e. smaller/simpler) approximation of the original matrix $R$. Mathematically, it decomposes R into a two unitary matrices and a diagonal matrix:\n",
        "\n",
        "$$\\begin{equation}\n",
        "R = U\\Sigma V^{T}\n",
        "\\end{equation}$$\n",
        "\n",
        "where: \n",
        "- R is users's ratings matrix, \n",
        "- $U$ is the user \"features\" matrix, it represents how much users \"like\" each feature,\n",
        "- $\\Sigma$ is the diagonal matrix of singular values (essentially weights), \n",
        "- $V^{T}$ is the movie \"features\" matrix, it represents how relevant each feature is to each movie,\n",
        "\n",
        "with $U$ and $V^{T}$ orthogonal."
      ]
    },
    {
      "cell_type": "code",
      "metadata": {
        "id": "MMVe_feVQQK_",
        "colab_type": "code",
        "outputId": "51cba029-8470-4f6a-9644-6cd277ef3185",
        "colab": {
          "base_uri": "https://localhost:8080/",
          "height": 284
        }
      },
      "source": [
        "df_user_item = df_user_item.fillna(0)\n",
        "df_user_item.head()"
      ],
      "execution_count": 0,
      "outputs": [
        {
          "output_type": "execute_result",
          "data": {
            "text/html": [
              "<div>\n",
              "<style scoped>\n",
              "    .dataframe tbody tr th:only-of-type {\n",
              "        vertical-align: middle;\n",
              "    }\n",
              "\n",
              "    .dataframe tbody tr th {\n",
              "        vertical-align: top;\n",
              "    }\n",
              "\n",
              "    .dataframe thead th {\n",
              "        text-align: right;\n",
              "    }\n",
              "</style>\n",
              "<table border=\"1\" class=\"dataframe\">\n",
              "  <thead>\n",
              "    <tr style=\"text-align: right;\">\n",
              "      <th>itemId</th>\n",
              "      <th>1</th>\n",
              "      <th>2</th>\n",
              "      <th>3</th>\n",
              "      <th>4</th>\n",
              "      <th>5</th>\n",
              "      <th>6</th>\n",
              "      <th>7</th>\n",
              "      <th>8</th>\n",
              "      <th>9</th>\n",
              "      <th>10</th>\n",
              "      <th>...</th>\n",
              "      <th>193565</th>\n",
              "      <th>193567</th>\n",
              "      <th>193571</th>\n",
              "      <th>193573</th>\n",
              "      <th>193579</th>\n",
              "      <th>193581</th>\n",
              "      <th>193583</th>\n",
              "      <th>193585</th>\n",
              "      <th>193587</th>\n",
              "      <th>193609</th>\n",
              "    </tr>\n",
              "    <tr>\n",
              "      <th>userId</th>\n",
              "      <th></th>\n",
              "      <th></th>\n",
              "      <th></th>\n",
              "      <th></th>\n",
              "      <th></th>\n",
              "      <th></th>\n",
              "      <th></th>\n",
              "      <th></th>\n",
              "      <th></th>\n",
              "      <th></th>\n",
              "      <th></th>\n",
              "      <th></th>\n",
              "      <th></th>\n",
              "      <th></th>\n",
              "      <th></th>\n",
              "      <th></th>\n",
              "      <th></th>\n",
              "      <th></th>\n",
              "      <th></th>\n",
              "      <th></th>\n",
              "      <th></th>\n",
              "    </tr>\n",
              "  </thead>\n",
              "  <tbody>\n",
              "    <tr>\n",
              "      <th>1</th>\n",
              "      <td>4.0</td>\n",
              "      <td>0.0</td>\n",
              "      <td>4.0</td>\n",
              "      <td>0.0</td>\n",
              "      <td>0.0</td>\n",
              "      <td>4.0</td>\n",
              "      <td>0.0</td>\n",
              "      <td>0.0</td>\n",
              "      <td>0.0</td>\n",
              "      <td>0.0</td>\n",
              "      <td>...</td>\n",
              "      <td>0.0</td>\n",
              "      <td>0.0</td>\n",
              "      <td>0.0</td>\n",
              "      <td>0.0</td>\n",
              "      <td>0.0</td>\n",
              "      <td>0.0</td>\n",
              "      <td>0.0</td>\n",
              "      <td>0.0</td>\n",
              "      <td>0.0</td>\n",
              "      <td>0.0</td>\n",
              "    </tr>\n",
              "    <tr>\n",
              "      <th>2</th>\n",
              "      <td>0.0</td>\n",
              "      <td>0.0</td>\n",
              "      <td>0.0</td>\n",
              "      <td>0.0</td>\n",
              "      <td>0.0</td>\n",
              "      <td>0.0</td>\n",
              "      <td>0.0</td>\n",
              "      <td>0.0</td>\n",
              "      <td>0.0</td>\n",
              "      <td>0.0</td>\n",
              "      <td>...</td>\n",
              "      <td>0.0</td>\n",
              "      <td>0.0</td>\n",
              "      <td>0.0</td>\n",
              "      <td>0.0</td>\n",
              "      <td>0.0</td>\n",
              "      <td>0.0</td>\n",
              "      <td>0.0</td>\n",
              "      <td>0.0</td>\n",
              "      <td>0.0</td>\n",
              "      <td>0.0</td>\n",
              "    </tr>\n",
              "    <tr>\n",
              "      <th>3</th>\n",
              "      <td>0.0</td>\n",
              "      <td>0.0</td>\n",
              "      <td>0.0</td>\n",
              "      <td>0.0</td>\n",
              "      <td>0.0</td>\n",
              "      <td>0.0</td>\n",
              "      <td>0.0</td>\n",
              "      <td>0.0</td>\n",
              "      <td>0.0</td>\n",
              "      <td>0.0</td>\n",
              "      <td>...</td>\n",
              "      <td>0.0</td>\n",
              "      <td>0.0</td>\n",
              "      <td>0.0</td>\n",
              "      <td>0.0</td>\n",
              "      <td>0.0</td>\n",
              "      <td>0.0</td>\n",
              "      <td>0.0</td>\n",
              "      <td>0.0</td>\n",
              "      <td>0.0</td>\n",
              "      <td>0.0</td>\n",
              "    </tr>\n",
              "    <tr>\n",
              "      <th>4</th>\n",
              "      <td>0.0</td>\n",
              "      <td>0.0</td>\n",
              "      <td>0.0</td>\n",
              "      <td>0.0</td>\n",
              "      <td>0.0</td>\n",
              "      <td>0.0</td>\n",
              "      <td>0.0</td>\n",
              "      <td>0.0</td>\n",
              "      <td>0.0</td>\n",
              "      <td>0.0</td>\n",
              "      <td>...</td>\n",
              "      <td>0.0</td>\n",
              "      <td>0.0</td>\n",
              "      <td>0.0</td>\n",
              "      <td>0.0</td>\n",
              "      <td>0.0</td>\n",
              "      <td>0.0</td>\n",
              "      <td>0.0</td>\n",
              "      <td>0.0</td>\n",
              "      <td>0.0</td>\n",
              "      <td>0.0</td>\n",
              "    </tr>\n",
              "    <tr>\n",
              "      <th>5</th>\n",
              "      <td>4.0</td>\n",
              "      <td>0.0</td>\n",
              "      <td>0.0</td>\n",
              "      <td>0.0</td>\n",
              "      <td>0.0</td>\n",
              "      <td>0.0</td>\n",
              "      <td>0.0</td>\n",
              "      <td>0.0</td>\n",
              "      <td>0.0</td>\n",
              "      <td>0.0</td>\n",
              "      <td>...</td>\n",
              "      <td>0.0</td>\n",
              "      <td>0.0</td>\n",
              "      <td>0.0</td>\n",
              "      <td>0.0</td>\n",
              "      <td>0.0</td>\n",
              "      <td>0.0</td>\n",
              "      <td>0.0</td>\n",
              "      <td>0.0</td>\n",
              "      <td>0.0</td>\n",
              "      <td>0.0</td>\n",
              "    </tr>\n",
              "  </tbody>\n",
              "</table>\n",
              "<p>5 rows × 9724 columns</p>\n",
              "</div>"
            ],
            "text/plain": [
              "itemId  1       2       3       4       5       6       7       8       \\\n",
              "userId                                                                   \n",
              "1          4.0     0.0     4.0     0.0     0.0     4.0     0.0     0.0   \n",
              "2          0.0     0.0     0.0     0.0     0.0     0.0     0.0     0.0   \n",
              "3          0.0     0.0     0.0     0.0     0.0     0.0     0.0     0.0   \n",
              "4          0.0     0.0     0.0     0.0     0.0     0.0     0.0     0.0   \n",
              "5          4.0     0.0     0.0     0.0     0.0     0.0     0.0     0.0   \n",
              "\n",
              "itemId  9       10      ...  193565  193567  193571  193573  193579  193581  \\\n",
              "userId                  ...                                                   \n",
              "1          0.0     0.0  ...     0.0     0.0     0.0     0.0     0.0     0.0   \n",
              "2          0.0     0.0  ...     0.0     0.0     0.0     0.0     0.0     0.0   \n",
              "3          0.0     0.0  ...     0.0     0.0     0.0     0.0     0.0     0.0   \n",
              "4          0.0     0.0  ...     0.0     0.0     0.0     0.0     0.0     0.0   \n",
              "5          0.0     0.0  ...     0.0     0.0     0.0     0.0     0.0     0.0   \n",
              "\n",
              "itemId  193583  193585  193587  193609  \n",
              "userId                                  \n",
              "1          0.0     0.0     0.0     0.0  \n",
              "2          0.0     0.0     0.0     0.0  \n",
              "3          0.0     0.0     0.0     0.0  \n",
              "4          0.0     0.0     0.0     0.0  \n",
              "5          0.0     0.0     0.0     0.0  \n",
              "\n",
              "[5 rows x 9724 columns]"
            ]
          },
          "metadata": {
            "tags": []
          },
          "execution_count": 14
        }
      ]
    },
    {
      "cell_type": "code",
      "metadata": {
        "id": "Pz16Rlw4tlom",
        "colab_type": "code",
        "colab": {}
      },
      "source": [
        "R = df_user_item.values"
      ],
      "execution_count": 0,
      "outputs": []
    },
    {
      "cell_type": "code",
      "metadata": {
        "id": "_R9inUPkH1Hm",
        "colab_type": "code",
        "outputId": "0b68c991-f5ec-404a-e009-ca9e2dd31178",
        "colab": {
          "base_uri": "https://localhost:8080/",
          "height": 136
        }
      },
      "source": [
        "R"
      ],
      "execution_count": 0,
      "outputs": [
        {
          "output_type": "execute_result",
          "data": {
            "text/plain": [
              "array([[4. , 0. , 4. , ..., 0. , 0. , 0. ],\n",
              "       [0. , 0. , 0. , ..., 0. , 0. , 0. ],\n",
              "       [0. , 0. , 0. , ..., 0. , 0. , 0. ],\n",
              "       ...,\n",
              "       [2.5, 2. , 2. , ..., 0. , 0. , 0. ],\n",
              "       [3. , 0. , 0. , ..., 0. , 0. , 0. ],\n",
              "       [5. , 0. , 0. , ..., 0. , 0. , 0. ]])"
            ]
          },
          "metadata": {
            "tags": []
          },
          "execution_count": 16
        }
      ]
    },
    {
      "cell_type": "markdown",
      "metadata": {
        "id": "gypFSYCYHg63",
        "colab_type": "text"
      },
      "source": [
        "Apply SVD to R (e.g. using NumPy or SciPy)"
      ]
    },
    {
      "cell_type": "code",
      "metadata": {
        "id": "XGSFlWxLHYVE",
        "colab_type": "code",
        "colab": {}
      },
      "source": [
        "from scipy.sparse.linalg import svds\n",
        "U, sigma, Vt = svds(R, k = 50)"
      ],
      "execution_count": 0,
      "outputs": []
    },
    {
      "cell_type": "markdown",
      "metadata": {
        "id": "slRJZ23uIVLt",
        "colab_type": "text"
      },
      "source": [
        "What do $U$, $\\Sigma$, $V^T$ look like?"
      ]
    },
    {
      "cell_type": "code",
      "metadata": {
        "id": "jfifORX6IIga",
        "colab_type": "code",
        "outputId": "1f8d105f-02c0-4506-96f1-b5c17436cacb",
        "colab": {
          "base_uri": "https://localhost:8080/",
          "height": 238
        }
      },
      "source": [
        "U"
      ],
      "execution_count": 0,
      "outputs": [
        {
          "output_type": "execute_result",
          "data": {
            "text/plain": [
              "array([[ 0.0169691 ,  0.00367604,  0.01446425, ...,  0.01089745,\n",
              "         0.06167385,  0.05555415],\n",
              "       [ 0.0051006 ,  0.00091157,  0.01728319, ...,  0.00442345,\n",
              "        -0.01773772,  0.0058663 ],\n",
              "       [-0.00098164, -0.00537681, -0.00556381, ..., -0.00171517,\n",
              "         0.00206861,  0.00135323],\n",
              "       ...,\n",
              "       [ 0.15137458, -0.10809064, -0.05384249, ...,  0.00976291,\n",
              "         0.01184704,  0.11611442],\n",
              "       [-0.00911714,  0.01038794, -0.00867598, ...,  0.03974124,\n",
              "         0.01378463,  0.00757944],\n",
              "       [-0.01073109,  0.02748873,  0.05781424, ..., -0.09267536,\n",
              "        -0.20218445,  0.13886488]])"
            ]
          },
          "metadata": {
            "tags": []
          },
          "execution_count": 18
        }
      ]
    },
    {
      "cell_type": "code",
      "metadata": {
        "id": "nXkKnGWcISzH",
        "colab_type": "code",
        "outputId": "8b8dd4db-6f86-47a4-f4ab-072a813bb47e",
        "colab": {
          "base_uri": "https://localhost:8080/",
          "height": 238
        }
      },
      "source": [
        "sigma"
      ],
      "execution_count": 0,
      "outputs": [
        {
          "output_type": "execute_result",
          "data": {
            "text/plain": [
              "array([ 67.8676482 ,  68.43455046,  69.07855191,  69.50676339,\n",
              "        69.93495369,  70.02143448,  70.20660519,  71.70985332,\n",
              "        72.46953282,  73.2246949 ,  73.45188037,  74.05266585,\n",
              "        74.29201322,  74.96494138,  75.40667214,  75.6272454 ,\n",
              "        76.71225804,  78.00723454,  78.84651534,  79.16948319,\n",
              "        79.52408732,  80.86997674,  81.73690785,  82.40743887,\n",
              "        83.04476272,  85.15393734,  86.05702164,  87.29627026,\n",
              "        88.83466993,  90.42515264,  90.97607986,  92.32408574,\n",
              "        93.40879296,  97.11713355,  99.28999246,  99.87323589,\n",
              "       102.05675293, 105.97376877, 107.93266172, 109.60313933,\n",
              "       113.11144323, 121.44217651, 122.66302989, 135.65556768,\n",
              "       147.33575651, 154.552948  , 170.42250831, 191.1508762 ,\n",
              "       231.23661142, 534.41989777])"
            ]
          },
          "metadata": {
            "tags": []
          },
          "execution_count": 19
        }
      ]
    },
    {
      "cell_type": "code",
      "metadata": {
        "id": "v0H56AlQIUTM",
        "colab_type": "code",
        "outputId": "1a10b26a-7e96-4c34-ca81-9c672d917694",
        "colab": {
          "base_uri": "https://localhost:8080/",
          "height": 238
        }
      },
      "source": [
        "Vt"
      ],
      "execution_count": 0,
      "outputs": [
        {
          "output_type": "execute_result",
          "data": {
            "text/plain": [
              "array([[-4.82157420e-02,  1.34410623e-03,  4.23829329e-03, ...,\n",
              "        -1.19645832e-03, -1.19645832e-03,  3.02375151e-03],\n",
              "       [ 1.66110170e-02, -3.11283049e-02,  1.32801055e-02, ...,\n",
              "         1.22335963e-03,  1.22335963e-03, -1.71230857e-03],\n",
              "       [-6.99543488e-02, -1.05175632e-02,  3.05311947e-02, ...,\n",
              "        -1.19421011e-04, -1.19421011e-04, -4.26918965e-04],\n",
              "       ...,\n",
              "       [ 7.84438842e-02,  5.68447103e-02,  1.80051145e-02, ...,\n",
              "        -8.71093879e-05, -8.71093879e-05,  1.22833344e-04],\n",
              "       [ 2.75911949e-02,  2.06662722e-03,  2.47146155e-02, ...,\n",
              "        -5.97586244e-04, -5.97586244e-04, -1.27236200e-03],\n",
              "       [ 7.04498985e-02,  3.85393459e-02,  1.59129220e-02, ...,\n",
              "         6.46836073e-05,  6.46836073e-05,  2.71729303e-04]])"
            ]
          },
          "metadata": {
            "tags": []
          },
          "execution_count": 20
        }
      ]
    },
    {
      "cell_type": "markdown",
      "metadata": {
        "id": "baQzWyVHKQVN",
        "colab_type": "text"
      },
      "source": [
        "Get recommendations:"
      ]
    },
    {
      "cell_type": "code",
      "metadata": {
        "id": "CyzbchyIKnkW",
        "colab_type": "code",
        "colab": {}
      },
      "source": [
        "# First make sigma a diagonal matrix:\n",
        "sigma = np.diag(sigma)"
      ],
      "execution_count": 0,
      "outputs": []
    },
    {
      "cell_type": "code",
      "metadata": {
        "id": "uouELHsfKtOU",
        "colab_type": "code",
        "outputId": "b1639f2a-de7e-4342-8469-28fe4d37aa57",
        "colab": {
          "base_uri": "https://localhost:8080/",
          "height": 238
        }
      },
      "source": [
        "R_after_svd = np.dot(np.dot(U, sigma), Vt)\n",
        "R_after_svd"
      ],
      "execution_count": 0,
      "outputs": [
        {
          "output_type": "execute_result",
          "data": {
            "text/plain": [
              "array([[ 2.18187197e+00,  3.93674189e-01,  8.38185756e-01, ...,\n",
              "        -2.49842711e-02, -2.49842711e-02, -5.89881001e-02],\n",
              "       [ 2.09809067e-01,  4.82051887e-03,  3.07424005e-02, ...,\n",
              "         1.88951263e-02,  1.88951263e-02,  3.19658766e-02],\n",
              "       [ 1.33940814e-02,  3.47258164e-02,  5.05247472e-02, ...,\n",
              "        -1.61232411e-03, -1.61232411e-03, -5.29984436e-04],\n",
              "       ...,\n",
              "       [ 2.30963539e+00,  2.70243898e+00,  2.26419696e+00, ...,\n",
              "        -1.25165145e-02, -1.25165145e-02,  9.27520866e-02],\n",
              "       [ 7.83182598e-01,  5.30142683e-01,  9.79748203e-02, ...,\n",
              "         9.84577917e-04,  9.84577917e-04, -5.49383653e-03],\n",
              "       [ 5.35809290e+00, -2.88817350e-01, -9.07680249e-02, ...,\n",
              "        -2.79227416e-02, -2.79227416e-02,  3.55476113e-02]])"
            ]
          },
          "metadata": {
            "tags": []
          },
          "execution_count": 22
        }
      ]
    },
    {
      "cell_type": "code",
      "metadata": {
        "id": "mFID_6eWKskb",
        "colab_type": "code",
        "colab": {}
      },
      "source": [
        ""
      ],
      "execution_count": 0,
      "outputs": []
    },
    {
      "cell_type": "markdown",
      "metadata": {
        "id": "z6NRarPjJ0DI",
        "colab_type": "text"
      },
      "source": [
        "Drawbacks of this approach: \n",
        "- the missing values (here filled with 0's) is feedback that the user did not give, we should not cannot consider it negative/null rating.\n",
        "- the dense matrix is huge, applying SVD is not scalable."
      ]
    },
    {
      "cell_type": "markdown",
      "metadata": {
        "id": "Keb06kCFbIPl",
        "colab_type": "text"
      },
      "source": [
        "## Approximate SVD with stochastic gradient descend (SGD)\n",
        "\n",
        "\n",
        "This time, we do **not** fill missing values. \n",
        "\n",
        "We inject $\\Sigma$ into U and V, and try to find P and q such that $\\widehat{R} = P Q^{T}$ is close to  $R$ **for the item-user pairs already rated**.\n"
      ]
    },
    {
      "cell_type": "markdown",
      "metadata": {
        "id": "tkr8jfzbVS_R",
        "colab_type": "text"
      },
      "source": [
        "A first function to simplify the entries (userId/itemId) : we map the set of "
      ]
    },
    {
      "cell_type": "code",
      "metadata": {
        "id": "F_HgEkPAQSTG",
        "colab_type": "code",
        "colab": {}
      },
      "source": [
        "def encode_ids(data):\n",
        "    '''Takes a rating dataframe and return: \n",
        "    - a simplified rating dataframe with ids in range(nb unique id) for users and movies\n",
        "    - 2 mapping disctionaries\n",
        "    \n",
        "    '''\n",
        "\n",
        "    data_encoded = data.copy()\n",
        "    \n",
        "    users = pd.DataFrame(data_encoded.userId.unique(),columns=['userId'])  # df of all unique users\n",
        "    dict_users = users.to_dict()    \n",
        "    inv_dict_users = {v: k for k, v in dict_users['userId'].items()}\n",
        "\n",
        "    items = pd.DataFrame(data_encoded.itemId.unique(),columns=['itemId']) # df of all unique items\n",
        "    dict_items = items.to_dict()    \n",
        "    inv_dict_items = {v: k for k, v in dict_items['itemId'].items()}\n",
        "\n",
        "    data_encoded.userId = data_encoded.userId.map(inv_dict_users)\n",
        "    data_encoded.itemId = data_encoded.itemId.map(inv_dict_items)\n",
        "\n",
        "    return data_encoded, dict_users, dict_items\n",
        "  "
      ],
      "execution_count": 0,
      "outputs": []
    },
    {
      "cell_type": "markdown",
      "metadata": {
        "id": "Yt6SYVvAX3Di",
        "colab_type": "text"
      },
      "source": [
        "Here is the procedure we would like to implement in the function SGD():\n",
        "\n",
        "1.   itinialize P and Q to random values\n",
        "\n",
        "2.   for $n_{epochs}$ passes on the data:\n",
        "\n",
        "    *   for all known ratings $r_{ui}$\n",
        "        *   compute the error between the predicted rating $p_u \\cdot q_i$ and the known ratings $r_{ui}$:\n",
        "        $$ err = r_{ui} - p_u \\cdot q_i $$\n",
        "        *   update $p_u$ and $q_i$ with the following rule:\n",
        "        $$ p_u \\leftarrow p_u + \\alpha \\cdot err \\cdot q_i  $$\n",
        "        $$ q_i \\leftarrow q_i + \\alpha \\cdot err \\cdot p_u$$\n",
        "\n",
        "\n",
        "\n",
        "\n",
        "\n"
      ]
    },
    {
      "cell_type": "code",
      "metadata": {
        "id": "iA0tyBHJ5xyI",
        "colab_type": "code",
        "colab": {}
      },
      "source": [
        "# Adapted from http://nicolas-hug.com/blog/matrix_facto_4\n",
        "def SGD(data,           # dataframe containing 1 user|item|rating per row\n",
        "        n_factors = 10, # number of factors\n",
        "        alpha = .01,    # number of factors\n",
        "        n_epochs = 3,   # number of iteration of the SGD procedure\n",
        "       ):\n",
        "    '''Learn the vectors P and Q (ie all the weights p_u and q_i) with SGD.\n",
        "    '''\n",
        "\n",
        "    # Encoding userId's and itemId's in data\n",
        "    data, dict_users, dict_items = encode_ids(data)\n",
        "    \n",
        "    ##### FILL HERE (2 lines) ######\n",
        "    n_users = NULL  # number of unique users\n",
        "    n_items = NULL  # number of unique items\n",
        "    ################################\n",
        "    \n",
        "    # Randomly initialize the user and item factors.\n",
        "    p = np.random.normal(0, .1, (n_users, n_factors))\n",
        "    q = np.random.normal(0, .1, (n_items, n_factors))\n",
        "\n",
        "    # Optimization procedure\n",
        "    for epoch in range(n_epochs):\n",
        "        print ('epoch: ', epoch)\n",
        "        # Loop over the rows in data\n",
        "        for index in range(data.shape[0]):\n",
        "            row = data.iloc[[index]]\n",
        "            u = int(row.userId)      # current userId = position in the p vector (thanks to the encoding)\n",
        "            i = int(row.itemId)      # current itemId = position in the q vector\n",
        "            r_ui = float(row.rating) # rating associated to the couple (user u , item i)\n",
        "            \n",
        "            ##### FILL HERE (1 line) ######\n",
        "            err = NULL    # difference between the predicted rating (p_u . q_i) and the known ratings r_ui\n",
        "            ################################\n",
        "            \n",
        "            # Update vectors p_u and q_i\n",
        "            ##### FILL HERE (2 lines) ######\n",
        "            p[u] = NULL  # cf. update rule above \n",
        "            q[i] = NULL\n",
        "            ################################\n",
        "            \n",
        "    return p, q\n",
        "    \n",
        "    \n",
        "def estimate(u, i, p, q):\n",
        "    '''Estimate rating of user u for item i.'''\n",
        "    ##### FILL HERE (1 line) ######\n",
        "    return NULL             #scalar product of p[u] and q[i] /!\\ dimensions\n",
        "    ################################  "
      ],
      "execution_count": 0,
      "outputs": []
    },
    {
      "cell_type": "code",
      "metadata": {
        "id": "_MYUUm18-id6",
        "colab_type": "code",
        "outputId": "07794a88-20e8-4c21-8429-fc8a8847b464",
        "colab": {
          "base_uri": "https://localhost:8080/",
          "height": 68
        }
      },
      "source": [
        "p, q = SGD(df_ratings)"
      ],
      "execution_count": 0,
      "outputs": [
        {
          "output_type": "stream",
          "text": [
            "epoch:  0\n",
            "epoch:  1\n",
            "epoch:  2\n"
          ],
          "name": "stdout"
        }
      ]
    },
    {
      "cell_type": "markdown",
      "metadata": {
        "id": "qJd80gNgNuUR",
        "colab_type": "text"
      },
      "source": [
        "## Get the estimate for all user-item pairs:"
      ]
    },
    {
      "cell_type": "markdown",
      "metadata": {
        "id": "hj4Pc-FjPJK6",
        "colab_type": "text"
      },
      "source": [
        "Get the user-item matrix filled with predicted ratings:"
      ]
    },
    {
      "cell_type": "code",
      "metadata": {
        "id": "YRCg3k2IPMSc",
        "colab_type": "code",
        "outputId": "0da9f542-722e-4dc1-a9c6-f43c62f52a22",
        "colab": {
          "base_uri": "https://localhost:8080/",
          "height": 253
        }
      },
      "source": [
        "df_user_item_filled = pd.DataFrame(np.dot(p, q.transpose()))\n",
        "df_user_item_filled.head()"
      ],
      "execution_count": 0,
      "outputs": [
        {
          "output_type": "execute_result",
          "data": {
            "text/html": [
              "<div>\n",
              "<style scoped>\n",
              "    .dataframe tbody tr th:only-of-type {\n",
              "        vertical-align: middle;\n",
              "    }\n",
              "\n",
              "    .dataframe tbody tr th {\n",
              "        vertical-align: top;\n",
              "    }\n",
              "\n",
              "    .dataframe thead th {\n",
              "        text-align: right;\n",
              "    }\n",
              "</style>\n",
              "<table border=\"1\" class=\"dataframe\">\n",
              "  <thead>\n",
              "    <tr style=\"text-align: right;\">\n",
              "      <th></th>\n",
              "      <th>0</th>\n",
              "      <th>1</th>\n",
              "      <th>2</th>\n",
              "      <th>3</th>\n",
              "      <th>4</th>\n",
              "      <th>5</th>\n",
              "      <th>6</th>\n",
              "      <th>7</th>\n",
              "      <th>8</th>\n",
              "      <th>9</th>\n",
              "      <th>...</th>\n",
              "      <th>9714</th>\n",
              "      <th>9715</th>\n",
              "      <th>9716</th>\n",
              "      <th>9717</th>\n",
              "      <th>9718</th>\n",
              "      <th>9719</th>\n",
              "      <th>9720</th>\n",
              "      <th>9721</th>\n",
              "      <th>9722</th>\n",
              "      <th>9723</th>\n",
              "    </tr>\n",
              "  </thead>\n",
              "  <tbody>\n",
              "    <tr>\n",
              "      <th>0</th>\n",
              "      <td>4.195120</td>\n",
              "      <td>3.646650</td>\n",
              "      <td>4.770994</td>\n",
              "      <td>4.723633</td>\n",
              "      <td>5.166779</td>\n",
              "      <td>3.863587</td>\n",
              "      <td>4.428188</td>\n",
              "      <td>4.524247</td>\n",
              "      <td>5.169087</td>\n",
              "      <td>3.215067</td>\n",
              "      <td>...</td>\n",
              "      <td>1.338584</td>\n",
              "      <td>1.327075</td>\n",
              "      <td>1.307370</td>\n",
              "      <td>1.328688</td>\n",
              "      <td>1.112436</td>\n",
              "      <td>0.802079</td>\n",
              "      <td>1.793594</td>\n",
              "      <td>1.202617</td>\n",
              "      <td>1.710734</td>\n",
              "      <td>1.233806</td>\n",
              "    </tr>\n",
              "    <tr>\n",
              "      <th>1</th>\n",
              "      <td>1.710783</td>\n",
              "      <td>1.791638</td>\n",
              "      <td>2.214130</td>\n",
              "      <td>2.199346</td>\n",
              "      <td>2.125607</td>\n",
              "      <td>2.036473</td>\n",
              "      <td>2.172976</td>\n",
              "      <td>1.579970</td>\n",
              "      <td>2.389387</td>\n",
              "      <td>1.649571</td>\n",
              "      <td>...</td>\n",
              "      <td>0.653825</td>\n",
              "      <td>0.647394</td>\n",
              "      <td>0.592676</td>\n",
              "      <td>0.641900</td>\n",
              "      <td>0.487238</td>\n",
              "      <td>0.301559</td>\n",
              "      <td>0.806451</td>\n",
              "      <td>0.583298</td>\n",
              "      <td>0.801552</td>\n",
              "      <td>0.620889</td>\n",
              "    </tr>\n",
              "    <tr>\n",
              "      <th>2</th>\n",
              "      <td>0.789019</td>\n",
              "      <td>0.856004</td>\n",
              "      <td>0.977775</td>\n",
              "      <td>1.088079</td>\n",
              "      <td>1.153905</td>\n",
              "      <td>0.914294</td>\n",
              "      <td>1.016302</td>\n",
              "      <td>0.772786</td>\n",
              "      <td>1.201006</td>\n",
              "      <td>0.769170</td>\n",
              "      <td>...</td>\n",
              "      <td>0.392188</td>\n",
              "      <td>0.315683</td>\n",
              "      <td>0.344761</td>\n",
              "      <td>0.269493</td>\n",
              "      <td>0.230205</td>\n",
              "      <td>0.164607</td>\n",
              "      <td>0.321160</td>\n",
              "      <td>0.238634</td>\n",
              "      <td>0.387512</td>\n",
              "      <td>0.279880</td>\n",
              "    </tr>\n",
              "    <tr>\n",
              "      <th>3</th>\n",
              "      <td>3.185667</td>\n",
              "      <td>2.945218</td>\n",
              "      <td>3.657897</td>\n",
              "      <td>3.707626</td>\n",
              "      <td>3.938680</td>\n",
              "      <td>2.942156</td>\n",
              "      <td>3.511712</td>\n",
              "      <td>3.461051</td>\n",
              "      <td>4.050755</td>\n",
              "      <td>2.494731</td>\n",
              "      <td>...</td>\n",
              "      <td>1.113513</td>\n",
              "      <td>1.040798</td>\n",
              "      <td>1.063283</td>\n",
              "      <td>1.047779</td>\n",
              "      <td>0.931484</td>\n",
              "      <td>0.704998</td>\n",
              "      <td>1.413862</td>\n",
              "      <td>0.924568</td>\n",
              "      <td>1.383933</td>\n",
              "      <td>0.974599</td>\n",
              "    </tr>\n",
              "    <tr>\n",
              "      <th>4</th>\n",
              "      <td>2.471003</td>\n",
              "      <td>1.797064</td>\n",
              "      <td>2.496036</td>\n",
              "      <td>2.704220</td>\n",
              "      <td>3.040842</td>\n",
              "      <td>1.854444</td>\n",
              "      <td>2.146399</td>\n",
              "      <td>2.966600</td>\n",
              "      <td>2.763359</td>\n",
              "      <td>1.541677</td>\n",
              "      <td>...</td>\n",
              "      <td>0.704799</td>\n",
              "      <td>0.651197</td>\n",
              "      <td>0.796864</td>\n",
              "      <td>0.705160</td>\n",
              "      <td>0.582905</td>\n",
              "      <td>0.472495</td>\n",
              "      <td>0.938227</td>\n",
              "      <td>0.585541</td>\n",
              "      <td>0.933370</td>\n",
              "      <td>0.634422</td>\n",
              "    </tr>\n",
              "  </tbody>\n",
              "</table>\n",
              "<p>5 rows × 9724 columns</p>\n",
              "</div>"
            ],
            "text/plain": [
              "       0         1         2         3         4         5         6     \\\n",
              "0  4.195120  3.646650  4.770994  4.723633  5.166779  3.863587  4.428188   \n",
              "1  1.710783  1.791638  2.214130  2.199346  2.125607  2.036473  2.172976   \n",
              "2  0.789019  0.856004  0.977775  1.088079  1.153905  0.914294  1.016302   \n",
              "3  3.185667  2.945218  3.657897  3.707626  3.938680  2.942156  3.511712   \n",
              "4  2.471003  1.797064  2.496036  2.704220  3.040842  1.854444  2.146399   \n",
              "\n",
              "       7         8         9     ...      9714      9715      9716      9717  \\\n",
              "0  4.524247  5.169087  3.215067  ...  1.338584  1.327075  1.307370  1.328688   \n",
              "1  1.579970  2.389387  1.649571  ...  0.653825  0.647394  0.592676  0.641900   \n",
              "2  0.772786  1.201006  0.769170  ...  0.392188  0.315683  0.344761  0.269493   \n",
              "3  3.461051  4.050755  2.494731  ...  1.113513  1.040798  1.063283  1.047779   \n",
              "4  2.966600  2.763359  1.541677  ...  0.704799  0.651197  0.796864  0.705160   \n",
              "\n",
              "       9718      9719      9720      9721      9722      9723  \n",
              "0  1.112436  0.802079  1.793594  1.202617  1.710734  1.233806  \n",
              "1  0.487238  0.301559  0.806451  0.583298  0.801552  0.620889  \n",
              "2  0.230205  0.164607  0.321160  0.238634  0.387512  0.279880  \n",
              "3  0.931484  0.704998  1.413862  0.924568  1.383933  0.974599  \n",
              "4  0.582905  0.472495  0.938227  0.585541  0.933370  0.634422  \n",
              "\n",
              "[5 rows x 9724 columns]"
            ]
          },
          "metadata": {
            "tags": []
          },
          "execution_count": 26
        }
      ]
    },
    {
      "cell_type": "markdown",
      "metadata": {
        "id": "LLHPMdpyN96R",
        "colab_type": "text"
      },
      "source": [
        "However, it is using the encode ids ; we need to retrieve the association of encoded ids to original ids, and apply it:"
      ]
    },
    {
      "cell_type": "code",
      "metadata": {
        "id": "cuft25TRN4CY",
        "colab_type": "code",
        "colab": {}
      },
      "source": [
        "df_ratings_encoded, dict_users, dict_items = encode_ids(df_ratings)"
      ],
      "execution_count": 0,
      "outputs": []
    },
    {
      "cell_type": "code",
      "metadata": {
        "id": "mCidjCrUl2tx",
        "colab_type": "code",
        "outputId": "f51ddb5f-48c3-4ce7-fb97-6770959abbae",
        "colab": {
          "base_uri": "https://localhost:8080/",
          "height": 253
        }
      },
      "source": [
        "df_user_item_filled.rename(columns=(dict_items['itemId']), inplace=True)\n",
        "df_user_item_filled.rename(index=(dict_users['userId']), inplace=True)\n",
        "\n",
        "# Sort index/rows (userId's) and columns (itemId's)\n",
        "df_user_item_filled.sort_index(axis=0, inplace=True)\n",
        "df_user_item_filled.sort_index(axis=1, inplace=True)\n",
        "\n",
        "df_user_item_filled.head()"
      ],
      "execution_count": 0,
      "outputs": [
        {
          "output_type": "execute_result",
          "data": {
            "text/html": [
              "<div>\n",
              "<style scoped>\n",
              "    .dataframe tbody tr th:only-of-type {\n",
              "        vertical-align: middle;\n",
              "    }\n",
              "\n",
              "    .dataframe tbody tr th {\n",
              "        vertical-align: top;\n",
              "    }\n",
              "\n",
              "    .dataframe thead th {\n",
              "        text-align: right;\n",
              "    }\n",
              "</style>\n",
              "<table border=\"1\" class=\"dataframe\">\n",
              "  <thead>\n",
              "    <tr style=\"text-align: right;\">\n",
              "      <th></th>\n",
              "      <th>1</th>\n",
              "      <th>2</th>\n",
              "      <th>3</th>\n",
              "      <th>4</th>\n",
              "      <th>5</th>\n",
              "      <th>6</th>\n",
              "      <th>7</th>\n",
              "      <th>8</th>\n",
              "      <th>9</th>\n",
              "      <th>10</th>\n",
              "      <th>...</th>\n",
              "      <th>193565</th>\n",
              "      <th>193567</th>\n",
              "      <th>193571</th>\n",
              "      <th>193573</th>\n",
              "      <th>193579</th>\n",
              "      <th>193581</th>\n",
              "      <th>193583</th>\n",
              "      <th>193585</th>\n",
              "      <th>193587</th>\n",
              "      <th>193609</th>\n",
              "    </tr>\n",
              "  </thead>\n",
              "  <tbody>\n",
              "    <tr>\n",
              "      <th>1</th>\n",
              "      <td>4.195120</td>\n",
              "      <td>4.115866</td>\n",
              "      <td>3.646650</td>\n",
              "      <td>1.676802</td>\n",
              "      <td>3.344185</td>\n",
              "      <td>4.770994</td>\n",
              "      <td>3.847754</td>\n",
              "      <td>2.436408</td>\n",
              "      <td>3.270790</td>\n",
              "      <td>4.443133</td>\n",
              "      <td>...</td>\n",
              "      <td>0.487156</td>\n",
              "      <td>0.604013</td>\n",
              "      <td>1.021152</td>\n",
              "      <td>0.895469</td>\n",
              "      <td>0.403743</td>\n",
              "      <td>0.415509</td>\n",
              "      <td>0.676512</td>\n",
              "      <td>0.722694</td>\n",
              "      <td>0.658691</td>\n",
              "      <td>1.364273</td>\n",
              "    </tr>\n",
              "    <tr>\n",
              "      <th>2</th>\n",
              "      <td>1.710783</td>\n",
              "      <td>1.815002</td>\n",
              "      <td>1.791638</td>\n",
              "      <td>0.808710</td>\n",
              "      <td>1.542880</td>\n",
              "      <td>2.214130</td>\n",
              "      <td>1.848502</td>\n",
              "      <td>1.195241</td>\n",
              "      <td>1.508239</td>\n",
              "      <td>2.066793</td>\n",
              "      <td>...</td>\n",
              "      <td>0.181261</td>\n",
              "      <td>0.340422</td>\n",
              "      <td>0.538887</td>\n",
              "      <td>0.493597</td>\n",
              "      <td>0.254402</td>\n",
              "      <td>0.246640</td>\n",
              "      <td>0.337079</td>\n",
              "      <td>0.246432</td>\n",
              "      <td>0.367124</td>\n",
              "      <td>0.790713</td>\n",
              "    </tr>\n",
              "    <tr>\n",
              "      <th>3</th>\n",
              "      <td>0.789019</td>\n",
              "      <td>0.885836</td>\n",
              "      <td>0.856004</td>\n",
              "      <td>0.410771</td>\n",
              "      <td>0.694700</td>\n",
              "      <td>0.977775</td>\n",
              "      <td>0.883386</td>\n",
              "      <td>0.524789</td>\n",
              "      <td>0.684351</td>\n",
              "      <td>0.999344</td>\n",
              "      <td>...</td>\n",
              "      <td>0.081667</td>\n",
              "      <td>0.173749</td>\n",
              "      <td>0.185066</td>\n",
              "      <td>0.210050</td>\n",
              "      <td>0.105538</td>\n",
              "      <td>0.070614</td>\n",
              "      <td>0.182921</td>\n",
              "      <td>0.093267</td>\n",
              "      <td>0.230083</td>\n",
              "      <td>0.390324</td>\n",
              "    </tr>\n",
              "    <tr>\n",
              "      <th>4</th>\n",
              "      <td>3.185667</td>\n",
              "      <td>3.250935</td>\n",
              "      <td>2.945218</td>\n",
              "      <td>1.355171</td>\n",
              "      <td>2.682441</td>\n",
              "      <td>3.657897</td>\n",
              "      <td>3.149466</td>\n",
              "      <td>1.969156</td>\n",
              "      <td>2.678482</td>\n",
              "      <td>3.590795</td>\n",
              "      <td>...</td>\n",
              "      <td>0.367021</td>\n",
              "      <td>0.474567</td>\n",
              "      <td>0.717169</td>\n",
              "      <td>0.715680</td>\n",
              "      <td>0.352299</td>\n",
              "      <td>0.421521</td>\n",
              "      <td>0.539508</td>\n",
              "      <td>0.495842</td>\n",
              "      <td>0.630814</td>\n",
              "      <td>1.087694</td>\n",
              "    </tr>\n",
              "    <tr>\n",
              "      <th>5</th>\n",
              "      <td>2.471003</td>\n",
              "      <td>2.302174</td>\n",
              "      <td>1.797064</td>\n",
              "      <td>0.952661</td>\n",
              "      <td>1.760048</td>\n",
              "      <td>2.496036</td>\n",
              "      <td>1.997266</td>\n",
              "      <td>1.211738</td>\n",
              "      <td>1.802595</td>\n",
              "      <td>2.371534</td>\n",
              "      <td>...</td>\n",
              "      <td>0.285611</td>\n",
              "      <td>0.234617</td>\n",
              "      <td>0.430081</td>\n",
              "      <td>0.366324</td>\n",
              "      <td>0.153739</td>\n",
              "      <td>0.199917</td>\n",
              "      <td>0.362460</td>\n",
              "      <td>0.506857</td>\n",
              "      <td>0.343069</td>\n",
              "      <td>0.724392</td>\n",
              "    </tr>\n",
              "  </tbody>\n",
              "</table>\n",
              "<p>5 rows × 9724 columns</p>\n",
              "</div>"
            ],
            "text/plain": [
              "     1         2         3         4         5         6         7       \\\n",
              "1  4.195120  4.115866  3.646650  1.676802  3.344185  4.770994  3.847754   \n",
              "2  1.710783  1.815002  1.791638  0.808710  1.542880  2.214130  1.848502   \n",
              "3  0.789019  0.885836  0.856004  0.410771  0.694700  0.977775  0.883386   \n",
              "4  3.185667  3.250935  2.945218  1.355171  2.682441  3.657897  3.149466   \n",
              "5  2.471003  2.302174  1.797064  0.952661  1.760048  2.496036  1.997266   \n",
              "\n",
              "     8         9         10      ...    193565    193567    193571    193573  \\\n",
              "1  2.436408  3.270790  4.443133  ...  0.487156  0.604013  1.021152  0.895469   \n",
              "2  1.195241  1.508239  2.066793  ...  0.181261  0.340422  0.538887  0.493597   \n",
              "3  0.524789  0.684351  0.999344  ...  0.081667  0.173749  0.185066  0.210050   \n",
              "4  1.969156  2.678482  3.590795  ...  0.367021  0.474567  0.717169  0.715680   \n",
              "5  1.211738  1.802595  2.371534  ...  0.285611  0.234617  0.430081  0.366324   \n",
              "\n",
              "     193579    193581    193583    193585    193587    193609  \n",
              "1  0.403743  0.415509  0.676512  0.722694  0.658691  1.364273  \n",
              "2  0.254402  0.246640  0.337079  0.246432  0.367124  0.790713  \n",
              "3  0.105538  0.070614  0.182921  0.093267  0.230083  0.390324  \n",
              "4  0.352299  0.421521  0.539508  0.495842  0.630814  1.087694  \n",
              "5  0.153739  0.199917  0.362460  0.506857  0.343069  0.724392  \n",
              "\n",
              "[5 rows x 9724 columns]"
            ]
          },
          "metadata": {
            "tags": []
          },
          "execution_count": 28
        }
      ]
    },
    {
      "cell_type": "markdown",
      "metadata": {
        "id": "AVXIqXAdOPzX",
        "colab_type": "text"
      },
      "source": [
        "Originally available ratings for user 1:"
      ]
    },
    {
      "cell_type": "code",
      "metadata": {
        "id": "iyka6nXcOPo4",
        "colab_type": "code",
        "outputId": "8a44a2bf-93b9-45ed-8f6c-d988c0f11208",
        "colab": {
          "base_uri": "https://localhost:8080/",
          "height": 221
        }
      },
      "source": [
        "df_user_item.loc[1][:10]"
      ],
      "execution_count": 0,
      "outputs": [
        {
          "output_type": "execute_result",
          "data": {
            "text/plain": [
              "itemId\n",
              "1     4.0\n",
              "2     0.0\n",
              "3     4.0\n",
              "4     0.0\n",
              "5     0.0\n",
              "6     4.0\n",
              "7     0.0\n",
              "8     0.0\n",
              "9     0.0\n",
              "10    0.0\n",
              "Name: 1, dtype: float64"
            ]
          },
          "metadata": {
            "tags": []
          },
          "execution_count": 29
        }
      ]
    },
    {
      "cell_type": "markdown",
      "metadata": {
        "id": "Pphixa2wOPeh",
        "colab_type": "text"
      },
      "source": [
        "Estimated ratings after the approximate SVD:"
      ]
    },
    {
      "cell_type": "code",
      "metadata": {
        "id": "YDczh7x5Q6in",
        "colab_type": "code",
        "outputId": "c307cdf2-5387-4519-b6f3-c523f1dcf896",
        "colab": {
          "base_uri": "https://localhost:8080/",
          "height": 204
        }
      },
      "source": [
        "df_user_item_filled.loc[1][:10]"
      ],
      "execution_count": 0,
      "outputs": [
        {
          "output_type": "execute_result",
          "data": {
            "text/plain": [
              "1     4.195120\n",
              "2     4.115866\n",
              "3     3.646650\n",
              "4     1.676802\n",
              "5     3.344185\n",
              "6     4.770994\n",
              "7     3.847754\n",
              "8     2.436408\n",
              "9     3.270790\n",
              "10    4.443133\n",
              "Name: 1, dtype: float64"
            ]
          },
          "metadata": {
            "tags": []
          },
          "execution_count": 30
        }
      ]
    },
    {
      "cell_type": "markdown",
      "metadata": {
        "id": "Uk8zB0HCmLvk",
        "colab_type": "text"
      },
      "source": [
        "## Give recommendation to a user\n",
        "\n",
        "For instance 10 recommended movies for user 1"
      ]
    },
    {
      "cell_type": "code",
      "metadata": {
        "id": "G8zxuZ2VmaIs",
        "colab_type": "code",
        "outputId": "8041e637-52ba-463a-ea9f-01fbefab3307",
        "colab": {
          "base_uri": "https://localhost:8080/",
          "height": 34
        }
      },
      "source": [
        "recommendations = list((df_user_item_filled.loc[10]).sort_values(ascending=False)[:10].index)\n",
        "recommendations"
      ],
      "execution_count": 0,
      "outputs": [
        {
          "output_type": "execute_result",
          "data": {
            "text/plain": [
              "[2959, 1104, 1223, 1272, 2324, 2571, 1267, 4993, 4226, 898]"
            ]
          },
          "metadata": {
            "tags": []
          },
          "execution_count": 31
        }
      ]
    },
    {
      "cell_type": "code",
      "metadata": {
        "id": "5U7R7lyTuOy_",
        "colab_type": "code",
        "outputId": "dfa6de84-f740-4252-d149-0fdc86f91cf4",
        "colab": {
          "base_uri": "https://localhost:8080/",
          "height": 359
        }
      },
      "source": [
        "df_movies[df_movies.itemId.isin(recommendations)]"
      ],
      "execution_count": 0,
      "outputs": [
        {
          "output_type": "execute_result",
          "data": {
            "text/html": [
              "<div>\n",
              "<style scoped>\n",
              "    .dataframe tbody tr th:only-of-type {\n",
              "        vertical-align: middle;\n",
              "    }\n",
              "\n",
              "    .dataframe tbody tr th {\n",
              "        vertical-align: top;\n",
              "    }\n",
              "\n",
              "    .dataframe thead th {\n",
              "        text-align: right;\n",
              "    }\n",
              "</style>\n",
              "<table border=\"1\" class=\"dataframe\">\n",
              "  <thead>\n",
              "    <tr style=\"text-align: right;\">\n",
              "      <th></th>\n",
              "      <th>itemId</th>\n",
              "      <th>title</th>\n",
              "      <th>genres</th>\n",
              "    </tr>\n",
              "  </thead>\n",
              "  <tbody>\n",
              "    <tr>\n",
              "      <th>680</th>\n",
              "      <td>898</td>\n",
              "      <td>Philadelphia Story, The (1940)</td>\n",
              "      <td>Comedy|Drama|Romance</td>\n",
              "    </tr>\n",
              "    <tr>\n",
              "      <th>841</th>\n",
              "      <td>1104</td>\n",
              "      <td>Streetcar Named Desire, A (1951)</td>\n",
              "      <td>Drama</td>\n",
              "    </tr>\n",
              "    <tr>\n",
              "      <th>924</th>\n",
              "      <td>1223</td>\n",
              "      <td>Grand Day Out with Wallace and Gromit, A (1989)</td>\n",
              "      <td>Adventure|Animation|Children|Comedy|Sci-Fi</td>\n",
              "    </tr>\n",
              "    <tr>\n",
              "      <th>966</th>\n",
              "      <td>1267</td>\n",
              "      <td>Manchurian Candidate, The (1962)</td>\n",
              "      <td>Crime|Thriller|War</td>\n",
              "    </tr>\n",
              "    <tr>\n",
              "      <th>971</th>\n",
              "      <td>1272</td>\n",
              "      <td>Patton (1970)</td>\n",
              "      <td>Drama|War</td>\n",
              "    </tr>\n",
              "    <tr>\n",
              "      <th>1730</th>\n",
              "      <td>2324</td>\n",
              "      <td>Life Is Beautiful (La Vita è bella) (1997)</td>\n",
              "      <td>Comedy|Drama|Romance|War</td>\n",
              "    </tr>\n",
              "    <tr>\n",
              "      <th>1939</th>\n",
              "      <td>2571</td>\n",
              "      <td>Matrix, The (1999)</td>\n",
              "      <td>Action|Sci-Fi|Thriller</td>\n",
              "    </tr>\n",
              "    <tr>\n",
              "      <th>2226</th>\n",
              "      <td>2959</td>\n",
              "      <td>Fight Club (1999)</td>\n",
              "      <td>Action|Crime|Drama|Thriller</td>\n",
              "    </tr>\n",
              "    <tr>\n",
              "      <th>3141</th>\n",
              "      <td>4226</td>\n",
              "      <td>Memento (2000)</td>\n",
              "      <td>Mystery|Thriller</td>\n",
              "    </tr>\n",
              "    <tr>\n",
              "      <th>3638</th>\n",
              "      <td>4993</td>\n",
              "      <td>Lord of the Rings: The Fellowship of the Ring,...</td>\n",
              "      <td>Adventure|Fantasy</td>\n",
              "    </tr>\n",
              "  </tbody>\n",
              "</table>\n",
              "</div>"
            ],
            "text/plain": [
              "      itemId                                              title  \\\n",
              "680      898                     Philadelphia Story, The (1940)   \n",
              "841     1104                   Streetcar Named Desire, A (1951)   \n",
              "924     1223    Grand Day Out with Wallace and Gromit, A (1989)   \n",
              "966     1267                   Manchurian Candidate, The (1962)   \n",
              "971     1272                                      Patton (1970)   \n",
              "1730    2324         Life Is Beautiful (La Vita è bella) (1997)   \n",
              "1939    2571                                 Matrix, The (1999)   \n",
              "2226    2959                                  Fight Club (1999)   \n",
              "3141    4226                                     Memento (2000)   \n",
              "3638    4993  Lord of the Rings: The Fellowship of the Ring,...   \n",
              "\n",
              "                                          genres  \n",
              "680                         Comedy|Drama|Romance  \n",
              "841                                        Drama  \n",
              "924   Adventure|Animation|Children|Comedy|Sci-Fi  \n",
              "966                           Crime|Thriller|War  \n",
              "971                                    Drama|War  \n",
              "1730                    Comedy|Drama|Romance|War  \n",
              "1939                      Action|Sci-Fi|Thriller  \n",
              "2226                 Action|Crime|Drama|Thriller  \n",
              "3141                            Mystery|Thriller  \n",
              "3638                           Adventure|Fantasy  "
            ]
          },
          "metadata": {
            "tags": []
          },
          "execution_count": 32
        }
      ]
    },
    {
      "cell_type": "markdown",
      "metadata": {
        "id": "3fhXmfLeuDZo",
        "colab_type": "text"
      },
      "source": [
        "vs the ones that were rated initially:"
      ]
    },
    {
      "cell_type": "code",
      "metadata": {
        "id": "4ooeCcRnuI8y",
        "colab_type": "code",
        "outputId": "7239f099-b58c-4934-9320-9e8ee672d965",
        "colab": {
          "base_uri": "https://localhost:8080/",
          "height": 34
        }
      },
      "source": [
        "already_rated = list((df_user_item.loc[10]).sort_values(ascending=False)[:10].index)\n",
        "already_rated"
      ],
      "execution_count": 0,
      "outputs": [
        {
          "output_type": "execute_result",
          "data": {
            "text/plain": [
              "[49286, 81845, 7458, 79091, 71579, 91529, 140110, 96079, 49272, 92259]"
            ]
          },
          "metadata": {
            "tags": []
          },
          "execution_count": 33
        }
      ]
    },
    {
      "cell_type": "code",
      "metadata": {
        "id": "0SM3mJYwyF1g",
        "colab_type": "code",
        "outputId": "288531d5-cbf8-4d14-fcb5-1e45784e4cbf",
        "colab": {
          "base_uri": "https://localhost:8080/",
          "height": 359
        }
      },
      "source": [
        "df_movies[df_movies.itemId.isin(already_rated)]"
      ],
      "execution_count": 0,
      "outputs": [
        {
          "output_type": "execute_result",
          "data": {
            "text/html": [
              "<div>\n",
              "<style scoped>\n",
              "    .dataframe tbody tr th:only-of-type {\n",
              "        vertical-align: middle;\n",
              "    }\n",
              "\n",
              "    .dataframe tbody tr th {\n",
              "        vertical-align: top;\n",
              "    }\n",
              "\n",
              "    .dataframe thead th {\n",
              "        text-align: right;\n",
              "    }\n",
              "</style>\n",
              "<table border=\"1\" class=\"dataframe\">\n",
              "  <thead>\n",
              "    <tr style=\"text-align: right;\">\n",
              "      <th></th>\n",
              "      <th>itemId</th>\n",
              "      <th>title</th>\n",
              "      <th>genres</th>\n",
              "    </tr>\n",
              "  </thead>\n",
              "  <tbody>\n",
              "    <tr>\n",
              "      <th>4948</th>\n",
              "      <td>7458</td>\n",
              "      <td>Troy (2004)</td>\n",
              "      <td>Action|Adventure|Drama|War</td>\n",
              "    </tr>\n",
              "    <tr>\n",
              "      <th>6346</th>\n",
              "      <td>49272</td>\n",
              "      <td>Casino Royale (2006)</td>\n",
              "      <td>Action|Adventure|Thriller</td>\n",
              "    </tr>\n",
              "    <tr>\n",
              "      <th>6352</th>\n",
              "      <td>49286</td>\n",
              "      <td>Holiday, The (2006)</td>\n",
              "      <td>Comedy|Romance</td>\n",
              "    </tr>\n",
              "    <tr>\n",
              "      <th>7156</th>\n",
              "      <td>71579</td>\n",
              "      <td>Education, An (2009)</td>\n",
              "      <td>Drama|Romance</td>\n",
              "    </tr>\n",
              "    <tr>\n",
              "      <th>7371</th>\n",
              "      <td>79091</td>\n",
              "      <td>Despicable Me (2010)</td>\n",
              "      <td>Animation|Children|Comedy|Crime</td>\n",
              "    </tr>\n",
              "    <tr>\n",
              "      <th>7466</th>\n",
              "      <td>81845</td>\n",
              "      <td>King's Speech, The (2010)</td>\n",
              "      <td>Drama</td>\n",
              "    </tr>\n",
              "    <tr>\n",
              "      <th>7768</th>\n",
              "      <td>91529</td>\n",
              "      <td>Dark Knight Rises, The (2012)</td>\n",
              "      <td>Action|Adventure|Crime|IMAX</td>\n",
              "    </tr>\n",
              "    <tr>\n",
              "      <th>7802</th>\n",
              "      <td>92259</td>\n",
              "      <td>Intouchables (2011)</td>\n",
              "      <td>Comedy|Drama</td>\n",
              "    </tr>\n",
              "    <tr>\n",
              "      <th>7955</th>\n",
              "      <td>96079</td>\n",
              "      <td>Skyfall (2012)</td>\n",
              "      <td>Action|Adventure|Thriller|IMAX</td>\n",
              "    </tr>\n",
              "    <tr>\n",
              "      <th>9006</th>\n",
              "      <td>140110</td>\n",
              "      <td>The Intern (2015)</td>\n",
              "      <td>Comedy</td>\n",
              "    </tr>\n",
              "  </tbody>\n",
              "</table>\n",
              "</div>"
            ],
            "text/plain": [
              "      itemId                          title                           genres\n",
              "4948    7458                    Troy (2004)       Action|Adventure|Drama|War\n",
              "6346   49272           Casino Royale (2006)        Action|Adventure|Thriller\n",
              "6352   49286            Holiday, The (2006)                   Comedy|Romance\n",
              "7156   71579           Education, An (2009)                    Drama|Romance\n",
              "7371   79091           Despicable Me (2010)  Animation|Children|Comedy|Crime\n",
              "7466   81845      King's Speech, The (2010)                            Drama\n",
              "7768   91529  Dark Knight Rises, The (2012)      Action|Adventure|Crime|IMAX\n",
              "7802   92259            Intouchables (2011)                     Comedy|Drama\n",
              "7955   96079                 Skyfall (2012)   Action|Adventure|Thriller|IMAX\n",
              "9006  140110              The Intern (2015)                           Comedy"
            ]
          },
          "metadata": {
            "tags": []
          },
          "execution_count": 34
        }
      ]
    },
    {
      "cell_type": "markdown",
      "metadata": {
        "id": "qKarQdgbm4tw",
        "colab_type": "text"
      },
      "source": [
        "This is all the movies in descending order of predicted rating. Let's remove the ones that where alread rated."
      ]
    },
    {
      "cell_type": "markdown",
      "metadata": {
        "id": "hkvVcbTALIji",
        "colab_type": "text"
      },
      "source": [
        "\n",
        "\n",
        "\n",
        "---\n",
        "\n",
        "\n",
        "\n",
        "To put this into production, you'd first separate data into a training and validation set and optimize the number of latent factors (n_factors) by minimizing the Root Mean Square Error. \n",
        "It is easier to use a framework that allows to do this, do cross-validation, grid search, etc."
      ]
    },
    {
      "cell_type": "markdown",
      "metadata": {
        "id": "nMdbrNdLldG9",
        "colab_type": "text"
      },
      "source": [
        "# Gradient Descent SVD using Surprise"
      ]
    },
    {
      "cell_type": "code",
      "metadata": {
        "id": "4VdMT5PnbIn9",
        "colab_type": "code",
        "outputId": "4c977a90-3bc6-46da-9a9a-c119eabd16a1",
        "colab": {
          "base_uri": "https://localhost:8080/",
          "height": 292
        }
      },
      "source": [
        "!pip install surprise\n",
        "#!pip install scikit-surprise # if the first line does not work"
      ],
      "execution_count": 0,
      "outputs": [
        {
          "output_type": "stream",
          "text": [
            "Collecting surprise\n",
            "  Downloading https://files.pythonhosted.org/packages/61/de/e5cba8682201fcf9c3719a6fdda95693468ed061945493dea2dd37c5618b/surprise-0.1-py2.py3-none-any.whl\n",
            "Collecting scikit-surprise (from surprise)\n",
            "\u001b[?25l  Downloading https://files.pythonhosted.org/packages/4d/fc/cd4210b247d1dca421c25994740cbbf03c5e980e31881f10eaddf45fdab0/scikit-surprise-1.0.6.tar.gz (3.3MB)\n",
            "\u001b[K     |████████████████████████████████| 3.3MB 4.3MB/s \n",
            "\u001b[?25hRequirement already satisfied: joblib>=0.11 in /usr/local/lib/python3.6/dist-packages (from scikit-surprise->surprise) (0.12.5)\n",
            "Requirement already satisfied: numpy>=1.11.2 in /usr/local/lib/python3.6/dist-packages (from scikit-surprise->surprise) (1.16.3)\n",
            "Requirement already satisfied: scipy>=1.0.0 in /usr/local/lib/python3.6/dist-packages (from scikit-surprise->surprise) (1.2.1)\n",
            "Requirement already satisfied: six>=1.10.0 in /usr/local/lib/python3.6/dist-packages (from scikit-surprise->surprise) (1.12.0)\n",
            "Building wheels for collected packages: scikit-surprise\n",
            "  Building wheel for scikit-surprise (setup.py) ... \u001b[?25l\u001b[?25hdone\n",
            "  Stored in directory: /root/.cache/pip/wheels/ec/c0/55/3a28eab06b53c220015063ebbdb81213cd3dcbb72c088251ec\n",
            "Successfully built scikit-surprise\n",
            "Installing collected packages: scikit-surprise, surprise\n",
            "Successfully installed scikit-surprise-1.0.6 surprise-0.1\n"
          ],
          "name": "stdout"
        }
      ]
    },
    {
      "cell_type": "code",
      "metadata": {
        "id": "Ed0lnuff4NOw",
        "colab_type": "code",
        "outputId": "b35d47d9-bee8-4813-ce20-a2115f58fbdc",
        "colab": {
          "base_uri": "https://localhost:8080/",
          "height": 340
        }
      },
      "source": [
        "# from surprise import Reader, Dataset, SVD, evaluate\n",
        "\n",
        "# Following Surprise documentation examples \n",
        "# https://surprise.readthedocs.io/en/stable/getting_started.html\n",
        "\n",
        "from surprise import Reader, Dataset, SVD, evaluate, NormalPredictor\n",
        "from surprise.model_selection import cross_validate\n",
        "from collections import defaultdict\n",
        "\n",
        "# As we're loading a custom dataset, we need to define a reader.\n",
        "reader = Reader(rating_scale=(0.5, 5))\n",
        "\n",
        "# The columns must correspond to user id, item id and ratings (in that order).\n",
        "data = Dataset.load_from_df(df_ratings[['userId', 'itemId', 'rating']], reader)\n",
        "\n",
        "# We'll use the famous SVD algorithm.\n",
        "algo = SVD()\n",
        "\n",
        "# Run 5-fold cross-validation and print results\n",
        "cross_validate(algo, data, measures=['RMSE', 'MAE'], cv=5, verbose=True)"
      ],
      "execution_count": 0,
      "outputs": [
        {
          "output_type": "stream",
          "text": [
            "Evaluating RMSE, MAE of algorithm SVD on 5 split(s).\n",
            "\n",
            "                  Fold 1  Fold 2  Fold 3  Fold 4  Fold 5  Mean    Std     \n",
            "RMSE (testset)    0.8790  0.8691  0.8718  0.8705  0.8735  0.8728  0.0034  \n",
            "MAE (testset)     0.6759  0.6637  0.6710  0.6686  0.6725  0.6703  0.0041  \n",
            "Fit time          6.16    6.17    6.02    6.00    6.06    6.08    0.07    \n",
            "Test time         0.15    0.25    0.15    0.24    0.16    0.19    0.04    \n"
          ],
          "name": "stdout"
        },
        {
          "output_type": "execute_result",
          "data": {
            "text/plain": [
              "{'fit_time': (6.163897752761841,\n",
              "  6.169508457183838,\n",
              "  6.022744417190552,\n",
              "  6.003763914108276,\n",
              "  6.055308103561401),\n",
              " 'test_mae': array([0.67592377, 0.66373146, 0.67098329, 0.66855377, 0.67245158]),\n",
              " 'test_rmse': array([0.87898001, 0.86914204, 0.8718201 , 0.87049578, 0.87348853]),\n",
              " 'test_time': (0.15217208862304688,\n",
              "  0.24907231330871582,\n",
              "  0.15253186225891113,\n",
              "  0.23854446411132812,\n",
              "  0.15514850616455078)}"
            ]
          },
          "metadata": {
            "tags": []
          },
          "execution_count": 36
        }
      ]
    },
    {
      "cell_type": "markdown",
      "metadata": {
        "id": "YyciPjWI4Q94",
        "colab_type": "text"
      },
      "source": [
        "#### Tune algorithm parameters with GridSearchCV\n",
        "\n"
      ]
    },
    {
      "cell_type": "code",
      "metadata": {
        "id": "tG3nlrAKzLZg",
        "colab_type": "code",
        "outputId": "50dbc015-e288-4a5c-a2cf-b2061b94c5d0",
        "colab": {
          "base_uri": "https://localhost:8080/",
          "height": 51
        }
      },
      "source": [
        "from surprise.model_selection import GridSearchCV\n",
        "\n",
        "param_grid = {'n_epochs': [5, 10], 'lr_all': [0.002, 0.005],\n",
        "              'reg_all': [0.4, 0.6]}\n",
        "gs = GridSearchCV(SVD, param_grid, measures=['rmse', 'mae'], cv=3)\n",
        "\n",
        "gs.fit(data)\n",
        "\n",
        "# best RMSE score\n",
        "print(gs.best_score['rmse'])\n",
        "\n",
        "# combination of parameters that gave the best RMSE score\n",
        "print(gs.best_params['rmse'])"
      ],
      "execution_count": 0,
      "outputs": [
        {
          "output_type": "stream",
          "text": [
            "0.8943199768202422\n",
            "{'n_epochs': 10, 'lr_all': 0.005, 'reg_all': 0.4}\n"
          ],
          "name": "stdout"
        }
      ]
    },
    {
      "cell_type": "code",
      "metadata": {
        "id": "LnfvwVPvzUsw",
        "colab_type": "code",
        "outputId": "89e44308-cac8-4125-e703-e7f0b90c9241",
        "colab": {
          "base_uri": "https://localhost:8080/",
          "height": 34
        }
      },
      "source": [
        "# We can now use the algorithm that yields the best rmse:\n",
        "algo = gs.best_estimator['rmse']\n",
        "trainset = data.build_full_trainset()\n",
        "algo.fit(trainset)"
      ],
      "execution_count": 0,
      "outputs": [
        {
          "output_type": "execute_result",
          "data": {
            "text/plain": [
              "<surprise.prediction_algorithms.matrix_factorization.SVD at 0x7f770a4ed390>"
            ]
          },
          "metadata": {
            "tags": []
          },
          "execution_count": 38
        }
      ]
    },
    {
      "cell_type": "code",
      "metadata": {
        "id": "JVAeYFgTzppL",
        "colab_type": "code",
        "outputId": "7781328e-d648-4272-d52d-85e8671a14ee",
        "colab": {
          "base_uri": "https://localhost:8080/",
          "height": 34
        }
      },
      "source": [
        "algo.predict(621,1)"
      ],
      "execution_count": 0,
      "outputs": [
        {
          "output_type": "execute_result",
          "data": {
            "text/plain": [
              "Prediction(uid=621, iid=1, r_ui=None, est=3.782323475434416, details={'was_impossible': False})"
            ]
          },
          "metadata": {
            "tags": []
          },
          "execution_count": 39
        }
      ]
    },
    {
      "cell_type": "code",
      "metadata": {
        "id": "li7UhY6fz1oG",
        "colab_type": "code",
        "outputId": "43c04a48-d02b-4967-de80-3835f425c964",
        "colab": {
          "base_uri": "https://localhost:8080/",
          "height": 359
        }
      },
      "source": [
        "df_data = data.df\n",
        "df_data = df_data.join(df_movies,how=\"left\", on='itemId',rsuffix='_', lsuffix='')\n",
        "df_data[df_data['userId']==1].sort_values(by = 'rating',ascending=False)[:10]"
      ],
      "execution_count": 0,
      "outputs": [
        {
          "output_type": "execute_result",
          "data": {
            "text/html": [
              "<div>\n",
              "<style scoped>\n",
              "    .dataframe tbody tr th:only-of-type {\n",
              "        vertical-align: middle;\n",
              "    }\n",
              "\n",
              "    .dataframe tbody tr th {\n",
              "        vertical-align: top;\n",
              "    }\n",
              "\n",
              "    .dataframe thead th {\n",
              "        text-align: right;\n",
              "    }\n",
              "</style>\n",
              "<table border=\"1\" class=\"dataframe\">\n",
              "  <thead>\n",
              "    <tr style=\"text-align: right;\">\n",
              "      <th></th>\n",
              "      <th>userId</th>\n",
              "      <th>itemId</th>\n",
              "      <th>rating</th>\n",
              "      <th>itemId_</th>\n",
              "      <th>title</th>\n",
              "      <th>genres</th>\n",
              "    </tr>\n",
              "  </thead>\n",
              "  <tbody>\n",
              "    <tr>\n",
              "      <th>231</th>\n",
              "      <td>1</td>\n",
              "      <td>5060</td>\n",
              "      <td>5.0</td>\n",
              "      <td>7932.0</td>\n",
              "      <td>Dark Days (2000)</td>\n",
              "      <td>Documentary</td>\n",
              "    </tr>\n",
              "    <tr>\n",
              "      <th>185</th>\n",
              "      <td>1</td>\n",
              "      <td>2872</td>\n",
              "      <td>5.0</td>\n",
              "      <td>3840.0</td>\n",
              "      <td>Pumpkinhead (1988)</td>\n",
              "      <td>Horror</td>\n",
              "    </tr>\n",
              "    <tr>\n",
              "      <th>89</th>\n",
              "      <td>1</td>\n",
              "      <td>1291</td>\n",
              "      <td>5.0</td>\n",
              "      <td>1721.0</td>\n",
              "      <td>Titanic (1997)</td>\n",
              "      <td>Drama|Romance</td>\n",
              "    </tr>\n",
              "    <tr>\n",
              "      <th>90</th>\n",
              "      <td>1</td>\n",
              "      <td>1298</td>\n",
              "      <td>5.0</td>\n",
              "      <td>1732.0</td>\n",
              "      <td>Big Lebowski, The (1998)</td>\n",
              "      <td>Comedy|Crime</td>\n",
              "    </tr>\n",
              "    <tr>\n",
              "      <th>190</th>\n",
              "      <td>1</td>\n",
              "      <td>2948</td>\n",
              "      <td>5.0</td>\n",
              "      <td>3952.0</td>\n",
              "      <td>Contender, The (2000)</td>\n",
              "      <td>Drama|Thriller</td>\n",
              "    </tr>\n",
              "    <tr>\n",
              "      <th>189</th>\n",
              "      <td>1</td>\n",
              "      <td>2947</td>\n",
              "      <td>5.0</td>\n",
              "      <td>3951.0</td>\n",
              "      <td>Two Family House (2000)</td>\n",
              "      <td>Drama</td>\n",
              "    </tr>\n",
              "    <tr>\n",
              "      <th>188</th>\n",
              "      <td>1</td>\n",
              "      <td>2944</td>\n",
              "      <td>5.0</td>\n",
              "      <td>3948.0</td>\n",
              "      <td>Meet the Parents (2000)</td>\n",
              "      <td>Comedy</td>\n",
              "    </tr>\n",
              "    <tr>\n",
              "      <th>186</th>\n",
              "      <td>1</td>\n",
              "      <td>2899</td>\n",
              "      <td>5.0</td>\n",
              "      <td>3882.0</td>\n",
              "      <td>Bring It On (2000)</td>\n",
              "      <td>Comedy</td>\n",
              "    </tr>\n",
              "    <tr>\n",
              "      <th>184</th>\n",
              "      <td>1</td>\n",
              "      <td>2858</td>\n",
              "      <td>5.0</td>\n",
              "      <td>3824.0</td>\n",
              "      <td>Autumn in New York (2000)</td>\n",
              "      <td>Drama|Romance</td>\n",
              "    </tr>\n",
              "    <tr>\n",
              "      <th>179</th>\n",
              "      <td>1</td>\n",
              "      <td>2700</td>\n",
              "      <td>5.0</td>\n",
              "      <td>3623.0</td>\n",
              "      <td>Mission: Impossible II (2000)</td>\n",
              "      <td>Action|Adventure|Thriller</td>\n",
              "    </tr>\n",
              "  </tbody>\n",
              "</table>\n",
              "</div>"
            ],
            "text/plain": [
              "     userId  itemId  rating  itemId_                          title  \\\n",
              "231       1    5060     5.0   7932.0               Dark Days (2000)   \n",
              "185       1    2872     5.0   3840.0             Pumpkinhead (1988)   \n",
              "89        1    1291     5.0   1721.0                 Titanic (1997)   \n",
              "90        1    1298     5.0   1732.0       Big Lebowski, The (1998)   \n",
              "190       1    2948     5.0   3952.0          Contender, The (2000)   \n",
              "189       1    2947     5.0   3951.0        Two Family House (2000)   \n",
              "188       1    2944     5.0   3948.0        Meet the Parents (2000)   \n",
              "186       1    2899     5.0   3882.0             Bring It On (2000)   \n",
              "184       1    2858     5.0   3824.0      Autumn in New York (2000)   \n",
              "179       1    2700     5.0   3623.0  Mission: Impossible II (2000)   \n",
              "\n",
              "                        genres  \n",
              "231                Documentary  \n",
              "185                     Horror  \n",
              "89               Drama|Romance  \n",
              "90                Comedy|Crime  \n",
              "190             Drama|Thriller  \n",
              "189                      Drama  \n",
              "188                     Comedy  \n",
              "186                     Comedy  \n",
              "184              Drama|Romance  \n",
              "179  Action|Adventure|Thriller  "
            ]
          },
          "metadata": {
            "tags": []
          },
          "execution_count": 40
        }
      ]
    },
    {
      "cell_type": "code",
      "metadata": {
        "id": "CRm97oJVz8wG",
        "colab_type": "code",
        "colab": {}
      },
      "source": [
        "# From Surprise documentation: https://surprise.readthedocs.io/en/stable/FAQ.html\n",
        "def get_top_n(predictions, n=10):\n",
        "    '''Return the top-N recommendation for each user from a set of predictions.\n",
        "\n",
        "    Args:\n",
        "        predictions(list of Prediction objects): The list of predictions, as\n",
        "            returned by the test method of an algorithm.\n",
        "        n(int): The number of recommendation to output for each user. Default\n",
        "            is 10.\n",
        "\n",
        "    Returns:\n",
        "    A dict where keys are user (raw) ids and values are lists of tuples:\n",
        "        [(raw item id, rating estimation), ...] of size n.\n",
        "    '''\n",
        "\n",
        "    # First map the predictions to each user.\n",
        "    top_n = defaultdict(list)\n",
        "    for uid, iid, true_r, est, _ in predictions:\n",
        "        top_n[uid].append((iid, est))\n",
        "\n",
        "    # Then sort the predictions for each user and retrieve the k highest ones.\n",
        "    for uid, user_ratings in top_n.items():\n",
        "        user_ratings.sort(key=lambda x: x[1], reverse=True)\n",
        "        top_n[uid] = user_ratings[:n]\n",
        "\n",
        "    return top_n"
      ],
      "execution_count": 0,
      "outputs": []
    },
    {
      "cell_type": "code",
      "metadata": {
        "id": "poADsLk634aR",
        "colab_type": "code",
        "colab": {}
      },
      "source": [
        "# Predict ratings for all pairs (u, i) that are NOT in the training set.\n",
        "testset = trainset.build_anti_testset()\n",
        "predictions = algo.test(testset)"
      ],
      "execution_count": 0,
      "outputs": []
    },
    {
      "cell_type": "code",
      "metadata": {
        "id": "zn3AViRh19eR",
        "colab_type": "code",
        "colab": {}
      },
      "source": [
        "top_n = get_top_n(predictions, n=10)"
      ],
      "execution_count": 0,
      "outputs": []
    },
    {
      "cell_type": "code",
      "metadata": {
        "id": "igRXlPxr4gCH",
        "colab_type": "code",
        "outputId": "aaef0ac1-8596-4097-ad28-7c298d032be6",
        "colab": {
          "base_uri": "https://localhost:8080/",
          "height": 54
        }
      },
      "source": [
        "top_n.items()"
      ],
      "execution_count": 0,
      "outputs": [
        {
          "output_type": "execute_result",
          "data": {
            "text/plain": [
              "dict_items([(1, [(318, 4.734885597825979), (750, 4.684112490251269), (858, 4.668114608446733), (1204, 4.661303643781753), (904, 4.650780222998474), (48516, 4.61959146862477), (1221, 4.606729861177805), (912, 4.603535216130644), (1104, 4.59829042087042), (1276, 4.596100144700121)]), (2, [(750, 4.223886829247538), (858, 4.204682386162703), (904, 4.2018042990394955), (2959, 4.196618987712081), (296, 4.17323810979213), (922, 4.153981049483229), (50, 4.153739894783362), (3275, 4.153078940419774), (1213, 4.151097062417556), (260, 4.150635998561021)]), (3, [(318, 3.4682812393504254), (1104, 3.428976257843655), (750, 3.4267936068826015), (858, 3.399194940755246), (1204, 3.393205863998405), (2959, 3.3906188652466094), (741, 3.3760247903890166), (904, 3.3734378768936732), (296, 3.3619411108304806), (50, 3.3530774277328455)]), (4, [(318, 4.045896457529509), (750, 3.9949423592376334), (858, 3.9783160515692613), (1204, 3.9574832128408617), (48516, 3.9303375810657566), (50, 3.9293407188507508), (1221, 3.9191857644021533), (1208, 3.9152058145393163), (1089, 3.9071091109888694), (4973, 3.905489710348515)]), (5, [(750, 4.093061569647593), (858, 4.075825687525388), (1204, 4.064923444028495), (898, 4.06049179589927), (2959, 4.0594775973288835), (904, 4.048567179489867), (48516, 4.031630659622331), (1276, 4.02899776157834), (1213, 4.023952931953503), (912, 4.023014788032223)]), (6, [(750, 4.144003789644931), (858, 4.125193260796537), (1204, 4.115965911585732), (2959, 4.114737716968561), (904, 4.106886182536329), (48516, 4.07704208916816), (1213, 4.06959208260263), (260, 4.0667862160078645), (1221, 4.064662707399961), (1208, 4.061495415915999)]), (7, [(318, 3.84289381484671), (1204, 3.778914280742141), (858, 3.775030291851115), (2959, 3.76587339967992), (904, 3.7570990724823936), (296, 3.738902348295265), (1213, 3.7200763777552086), (1221, 3.7175726255602113), (912, 3.715799499011783), (1197, 3.706850037721937)]), (8, [(750, 4.106147557836735), (858, 4.083976719743094), (2959, 4.073175191302511), (904, 4.0610045465186415), (1204, 4.057814378236475), (1213, 4.026987942274002), (48516, 4.026873793585547), (1221, 4.026777741047901), (260, 4.026294765991513), (1208, 4.023271716937936)]), (9, [(318, 3.9534401385302886), (858, 3.8849857148120974), (750, 3.883433556407139), (2959, 3.876941684642987), (1204, 3.8637500316258895), (904, 3.8594729451542955), (898, 3.8530587119256956), (296, 3.8522313749162103), (1213, 3.833611371023884), (50, 3.8335530849593673)]), (10, [(318, 3.9410420752571946), (750, 3.8959251477795322), (858, 3.873119036543461), (1204, 3.8644885131765556), (904, 3.85231900365739), (48516, 3.8255078709826833), (50, 3.824661642997713), (898, 3.817725985176119), (1213, 3.8172087614502983), (260, 3.814851756557204)]), (11, [(750, 4.317120528744408), (858, 4.293619594588559), (2959, 4.2841981653155585), (1204, 4.281648088343942), (904, 4.279732489091166), (296, 4.256554130997022), (50, 4.247650371964515), (48516, 4.247449658741814), (912, 4.239100345913952), (260, 4.237907581904709)]), (12, [(318, 4.74931562198277), (750, 4.706275185551075), (858, 4.68667917164463), (1204, 4.685514159526753), (2959, 4.674011122885056), (904, 4.668242079438898), (246, 4.662932155506586), (296, 4.646829710306278), (48516, 4.634703212709223), (50, 4.6341862153658875)]), (13, [(318, 4.244268663849652), (750, 4.196088234454142), (1204, 4.194438166766627), (858, 4.175259266960721), (2959, 4.1624885289086055), (904, 4.147070168992875), (1104, 4.14576076069602), (296, 4.137245593981256), (246, 4.128173425236304), (50, 4.124992140312654)]), (14, [(750, 4.018406891995351), (1204, 4.016258538220593), (858, 3.995408581561717), (922, 3.994233894158269), (2959, 3.990686038588558), (904, 3.980192544906286), (1104, 3.956190203220379), (50, 3.95412683852897), (48516, 3.946468037774055), (1213, 3.9459949375686563)]), (15, [(750, 3.9030982805360184), (1204, 3.8791635235534394), (904, 3.8710782862012056), (50, 3.8387402477428285), (48516, 3.838236320232705), (1213, 3.829633034374731), (1221, 3.827831813895955), (1208, 3.8236656409605336), (912, 3.822355519880382), (1276, 3.8207021510817447)]), (16, [(1204, 3.999660857645458), (48516, 3.9580723526982284), (1221, 3.947164350550826), (898, 3.9418681443503667), (1104, 3.934333529419016), (3275, 3.9332575289920784), (246, 3.9192835753706157), (2324, 3.91177942377545), (1225, 3.905315658951423), (908, 3.890770438266258)]), (17, [(1204, 4.3450379050401455), (1208, 4.286179060696107), (912, 4.285895885831396), (1136, 4.280108066987888), (4973, 4.279096725607632), (1276, 4.278271800997754), (898, 4.272827275897014), (1199, 4.271204644979568), (7361, 4.26874011758639), (3275, 4.264721072638426)]), (18, [(750, 4.194977175276994), (1204, 4.171785471149433), (912, 4.115460937784162), (1197, 4.11248956953616), (1104, 4.107688152097367), (898, 4.105375387598248), (1199, 4.096216523958091), (5618, 4.079217317675644), (1225, 4.078213001256451), (246, 4.075466715284722)]), (19, [(318, 3.514367691642751), (750, 3.4640120956187563), (858, 3.4469809962161007), (1204, 3.437633821511768), (296, 3.4103318287411413), (48516, 3.3992912353825413), (50, 3.3979430380674285), (1213, 3.3915527820680955), (1221, 3.3879417550704196), (912, 3.3827416053246555)]), (20, [(318, 4.1336532545198335), (750, 4.083375457908329), (858, 4.065339148903373), (1204, 4.05670724062437), (2959, 4.0563010129504455), (904, 4.04623925310687), (296, 4.029081651459471), (50, 4.017175975461803), (48516, 4.015998603834494), (1213, 4.00859741744158)]), (21, [(318, 3.8535072673403588), (750, 3.8072930257750977), (1204, 3.779382758549467), (904, 3.767519148924438), (48516, 3.73742259909404), (50, 3.737067444425828), (1213, 3.7322982533935827), (1208, 3.7226021161827543), (912, 3.7208873262200073), (1197, 3.717080389089493)]), (22, [(750, 3.1762682530561377), (904, 3.132359879461782), (1204, 3.1255705752285228), (296, 3.116706235861351), (898, 3.116677612185459), (50, 3.10556090742741), (1213, 3.096023057769773), (260, 3.090704599989491), (1221, 3.090465231999319), (912, 3.087483937506384)]), (23, [(318, 4.068950461836111), (2959, 3.9916710079039426), (1204, 3.9915043977209237), (48516, 3.9536302755184867), (260, 3.9423904068992197), (1197, 3.9341433814143523), (898, 3.930935752185906), (1104, 3.9305637495370274), (3275, 3.928270192901912), (1276, 3.9266669331997273)]), (24, [(750, 4.078691664188959), (1204, 4.065192074587295), (858, 4.064174546387454), (2959, 4.053865121967217), (904, 4.04543342670693), (48516, 4.017080810366601), (1213, 4.009226769371582), (260, 4.005965909281377), (1221, 4.003116048682516), (1208, 4.000713666696979)]), (25, [(318, 4.758657436036188), (750, 4.702792085509552), (1204, 4.70222313566564), (858, 4.684121739479787), (2959, 4.679231787795795), (904, 4.67300387837432), (296, 4.648091177037122), (3275, 4.647079097586111), (922, 4.643791949656501), (50, 4.639166240695017)]), (26, [(318, 3.966698196260475), (750, 3.919010782180556), (904, 3.9096090221149695), (858, 3.907541951946923), (1204, 3.901211544761964), (2959, 3.8891832659365355), (1104, 3.877167854678191), (48516, 3.864623111886613), (898, 3.859628796053697), (1213, 3.8533206661509523)]), (27, [(318, 4.107425161874119), (750, 4.056022921732904), (858, 4.042220193825593), (1204, 4.041310328914743), (2959, 4.0293028513268), (904, 4.019625039434569), (296, 4.004048094979422), (48516, 3.9922167800818853), (50, 3.9913787531460163), (898, 3.9869078085951757)]), (28, [(750, 3.69558407754782), (1204, 3.673266552499878), (904, 3.660680742204609), (912, 3.6154788249920515), (4973, 3.604734725547097), (1104, 3.599346297586313), (2324, 3.5889662534712103), (5618, 3.581624161089409), (2019, 3.5815834819682753), (1225, 3.5775032226646144)]), (29, [(2959, 4.366301904234113), (898, 4.340010925566103), (260, 4.320116038375027), (1221, 4.317006544010143), (1197, 4.312094906063993), (1276, 4.3114727612664545), (912, 4.311401736869011), (3275, 4.308870295140794), (4973, 4.305685073848438), (1089, 4.304641508921207)]), (30, [(750, 4.692058658555817), (1204, 4.6784789926660135), (858, 4.672547574017694), (2959, 4.664269023471189), (904, 4.644851937881899), (296, 4.63569206182341), (1221, 4.62395301504772), (246, 4.623347858576136), (50, 4.623046664959603), (48516, 4.619611184155567)]), (31, [(318, 4.363380495309994), (750, 4.312384848320938), (858, 4.297711790206323), (1204, 4.293165926280231), (2959, 4.2856648910094925), (904, 4.269912559108038), (296, 4.264424927470571), (48516, 4.251036396693195), (1221, 4.247534753090449), (50, 4.243937003457595)]), (32, [(750, 4.240604403672022), (858, 4.221181986300801), (1204, 4.217077497350562), (2959, 4.212028978452873), (904, 4.196150805362443), (48516, 4.172801684734223), (1213, 4.1649958043897275), (1221, 4.16074961096897), (1208, 4.158293099238054), (1276, 4.1582798174090785)]), (33, [(750, 4.19478332146191), (858, 4.176403666731441), (2959, 4.167416496138721), (904, 4.160513632722889), (1204, 4.154621118523483), (48516, 4.132542183065227), (260, 4.1184997319116015), (1221, 4.116572540764786), (912, 4.112763339300537), (1208, 4.111980330486053)]), (34, [(750, 4.0587158056023345), (1204, 4.040196829213169), (858, 4.034671086098153), (904, 4.020468135898868), (296, 3.9993902059339828), (48516, 3.992016638023993), (50, 3.9880386131901386), (1213, 3.979587609149556), (1104, 3.977607601675338), (260, 3.9772449624360573)]), (35, [(318, 4.450907772194994), (1204, 4.39176734275309), (858, 4.390436702143752), (904, 4.3815812352533605), (750, 4.378683037662138), (2959, 4.375034834357292), (296, 4.35299553937395), (48516, 4.338161938448717), (1221, 4.336678681992085), (1213, 4.334332176676662)]), (36, [(750, 3.4607303868285793), (1204, 3.449523796274391), (858, 3.4458784388569863), (2959, 3.4328658075035956), (296, 3.4063522729174083), (48516, 3.401502218799719), (1213, 3.3938518350626983), (50, 3.3930588808516178), (1221, 3.391282632539644), (898, 3.3910726133643867)]), (37, [(750, 4.378313905699787), (858, 4.358908482384399), (2959, 4.349325136319303), (904, 4.323276396480799), (48516, 4.320075208865186), (1204, 4.318995030396806), (2019, 4.315906589073899), (50, 4.312832765852782), (1213, 4.3126867959343), (1208, 4.307045845520074)]), (38, [(750, 3.8801127169261256), (858, 3.8700219686190285), (1204, 3.8696995401413985), (2959, 3.8594997013962464), (904, 3.846464774663585), (1104, 3.8219365422419385), (48516, 3.8179961547446837), (1213, 3.8155958769395952), (1221, 3.809903137373875), (260, 3.8093826855403514)]), (39, [(318, 4.351016907911715), (750, 4.298668283075017), (1204, 4.276413520022714), (2959, 4.273817455807269), (904, 4.267464898263328), (48516, 4.231287326083752), (898, 4.229982398014491), (912, 4.216593131243157), (3275, 4.216036502960567), (1208, 4.214286082223809)]), (40, [(750, 4.308887981203936), (1204, 4.290456412481379), (858, 4.290368444493051), (2959, 4.278250641143455), (904, 4.270741550345917), (50, 4.24103434217429), (48516, 4.238279019715904), (1213, 4.237928418216057), (260, 4.230698631429391), (1221, 4.228974875826624)]), (41, [(318, 3.8198658795197415), (1204, 3.7629676842980153), (858, 3.753038321743405), (904, 3.7310144318210643), (260, 3.692003211987206), (1221, 3.6911090624232825), (1276, 3.684095206116037), (1197, 3.6838363473155775), (912, 3.6835625260430946), (1136, 3.680442245375108)]), (42, [(750, 4.164757878285789), (1204, 4.143232071356689), (904, 4.128599262888923), (48516, 4.101529160867846), (1208, 4.085587960344348), (1136, 4.078148927546243), (4973, 4.075547914997226), (1276, 4.074637590427476), (898, 4.0738274704024775), (3275, 4.071937783192299)]), (43, [(750, 4.915440285299574), (858, 4.903245457147967), (1204, 4.899410125923608), (2959, 4.892659271392127), (904, 4.883899862175727), (50, 4.85360976744391), (48516, 4.851949391415303), (1213, 4.847321015798368), (260, 4.842415418113709), (1221, 4.841513836944054)]), (44, [(318, 4.099393226530743), (750, 4.0442487213487865), (1204, 4.043966851211205), (858, 4.031531147067031), (2959, 4.019344737543847), (904, 4.006400293995784), (296, 3.994312061110655), (48516, 3.9818718174364847), (1104, 3.9790957209373916), (1213, 3.9780337460028425)]), (45, [(318, 4.4634618856250174), (750, 4.412918905891557), (1204, 4.389915324804373), (904, 4.373764452404291), (48516, 4.347253516323966), (912, 4.334664825922873), (898, 4.332983528928718), (1208, 4.332118082834241), (1089, 4.325571313068683), (4973, 4.322251036502436)]), (46, [(750, 4.445424383030014), (858, 4.427067186580935), (1204, 4.425414754645342), (2959, 4.415118305347883), (1104, 4.412281570791741), (904, 4.41022851451479), (296, 4.388847407459413), (48516, 4.3746557440584946), (1213, 4.3733701141228165), (260, 4.369877803069056)]), (47, [(750, 3.7228377885019794), (858, 3.705062289609969), (1204, 3.68924942477621), (904, 3.6856959323101957), (296, 3.6673819465789976), (48516, 3.657092492115375), (50, 3.653322509593839), (1213, 3.6499243450696004), (260, 3.6442228457956922), (1221, 3.6419999578652886)]), (48, [(318, 4.4531313703897855), (750, 4.3970175308737955), (858, 4.386373868756159), (2959, 4.376199752384333), (1204, 4.372978653460096), (904, 4.366512015659875), (296, 4.35014789748097), (3275, 4.344853141024548), (898, 4.343799597845626), (48516, 4.343775829718135)]), (49, [(750, 4.353999603651148), (858, 4.333777936972541), (2959, 4.323627560937818), (904, 4.318748394427596), (3275, 4.31068969550594), (296, 4.3026867310467845), (1204, 4.301606545407562), (48516, 4.290788524639775), (1217, 4.288986924658499), (50, 4.286957477331367)]), (50, [(904, 3.344418751112166), (48516, 3.314381251752135), (50, 3.3112560911145295), (1213, 3.3056607682074826), (260, 3.3032261311257725), (1221, 3.3001822621998045), (912, 3.295634054981741), (1197, 3.2927435829475615), (1104, 3.2922464646724867), (1089, 3.291217512456538)]), (51, [(318, 4.347275798007352), (750, 4.300766865404272), (1204, 4.290545500161721), (2959, 4.2702427233705285), (904, 4.264086832706821), (296, 4.244460596215495), (48516, 4.235016673338428), (50, 4.231222943950679), (1213, 4.223402273373768), (1221, 4.2206335929109535)]), (52, [(750, 4.666077512968543), (858, 4.64980084617883), (1204, 4.6474518026238965), (904, 4.632511030213102), (296, 4.614034650882662), (50, 4.600234849683078), (1213, 4.594679457892322), (1221, 4.589739885306842), (912, 4.585498469271542), (1208, 4.583230139423361)]), (53, [(318, 4.915939192053117), (750, 4.884940329991726), (858, 4.851476372976417), (898, 4.85016749691822), (2959, 4.843186827832924), (246, 4.8334370287805415), (904, 4.827585060560603), (1204, 4.826210278285508), (296, 4.808996971580121), (50, 4.800718288844907)]), (54, [(750, 3.6912538839160844), (1204, 3.682020364195934), (858, 3.6789270069981037), (2959, 3.6675039107367113), (904, 3.650963278070899), (1104, 3.6411608573370158), (3275, 3.625354348144329), (48516, 3.6227549322757837), (260, 3.622558308231534), (1213, 3.62162712936869)]), (55, [(318, 3.735333495136444), (750, 3.6935987191026265), (904, 3.675788957811872), (858, 3.6689602737437936), (2959, 3.6652996569850713), (1204, 3.658601589796028), (246, 3.6399550731818233), (296, 3.638854815263104), (50, 3.6272205861698827), (1213, 3.6217535524959095)]), (56, [(750, 4.311814281787709), (858, 4.296677185261535), (2959, 4.285391012174491), (904, 4.279765295345678), (1204, 4.278349451392668), (1104, 4.248433929480718), (48516, 4.2481899058073385), (50, 4.24787230022669), (1221, 4.238891970755278), (260, 4.237718683375256)]), (57, [(318, 4.04501140267217), (2959, 3.9668310901444612), (48516, 3.929736294270549), (1213, 3.9221798071341865), (898, 3.912410234111782), (1089, 3.9077263185683373), (4973, 3.9038284601434805), (1104, 3.9008452420455932), (3275, 3.8985198320157832), (7361, 3.8960539642090293)]), (58, [(750, 4.40510584160525), (1204, 4.38957188388945), (858, 4.3873305518688825), (2959, 4.376791291550318), (904, 4.371354783614648), (48516, 4.337711648052807), (260, 4.329503994918927), (1213, 4.3294595927263195), (898, 4.326109480504018), (1221, 4.325873757842778)]), (59, [(318, 4.612173408076054), (1204, 4.540813996555119), (2959, 4.534183799036538), (296, 4.507900886288966), (48516, 4.497646421909513), (50, 4.495136831701603), (1213, 4.492177347539287), (898, 4.479555927507689), (1089, 4.476389287312748), (1197, 4.475463969247904)]), (60, [(750, 4.154770453707793), (2959, 4.121689803381687), (1204, 4.117015434407364), (904, 4.113279794283966), (1104, 4.103372663926881), (296, 4.09367877537014), (1276, 4.086340442571469), (48516, 4.08473784769545), (1197, 4.0808240677943814), (260, 4.07933264396332)]), (61, [(750, 4.288079324290986), (858, 4.277054038293767), (2959, 4.261580170476888), (904, 4.24222212596425), (1204, 4.240122030394719), (296, 4.237371552778854), (898, 4.230328343356205), (1104, 4.221037482944735), (1221, 4.220288611356673), (48516, 4.21908763862877)]), (62, [(750, 4.423795163391053), (1204, 4.398489817728936), (904, 4.388260645934043), (50, 4.356848049038686), (1213, 4.351554579352384), (1208, 4.343062796403364), (912, 4.342600016869487), (1197, 4.338466486550775), (1136, 4.337202872702785), (898, 4.335316862632333)]), (63, [(750, 4.130220961188039), (1204, 4.1131063149871485), (904, 4.096805592708803), (1197, 4.047623696640245), (898, 4.0472391262822764), (1276, 4.0442706308663645), (4973, 4.041101501781649), (3275, 4.038573950605583), (1104, 4.0322216047028085), (1199, 4.0260225914724055)]), (64, [(750, 4.253984507171306), (904, 4.216832559887652), (48516, 4.188955234339179), (912, 4.173234513442969), (898, 4.167806657419338), (1104, 4.161471371632492), (3275, 4.158997118667046), (1198, 4.153805324070984), (1199, 4.151486344792657), (58559, 4.142752677369322)]), (65, [(750, 4.262656176610471), (858, 4.244592627042783), (1204, 4.2343281440149685), (904, 4.222424061813411), (898, 4.20855060602386), (296, 4.203760127278465), (50, 4.19364828593278), (48516, 4.192076818861541), (1213, 4.191016978009128), (1276, 4.188243128806596)]), (66, [(750, 4.438238719368873), (858, 4.420985896241511), (1204, 4.411933187458721), (904, 4.401307413037127), (48516, 4.372471117358056), (1221, 4.360410435203747), (1208, 4.357573226982994), (1276, 4.35082812554038), (4973, 4.347936957424631), (898, 4.345084825468068)]), (67, [(750, 4.2005191920043705), (858, 4.1891995568455505), (1204, 4.187830835341), (904, 4.147534158427157), (50, 4.139094732853967), (48516, 4.133451709308048), (1221, 4.128465966332614), (260, 4.127106029742953), (1197, 4.125105571102409), (1213, 4.1248728677787625)]), (68, [(750, 4.064632394314006), (1204, 4.037114000618245), (904, 4.02760694270883), (1104, 3.9802401956373905), (898, 3.9789687669093077), (1199, 3.962423749634172), (1225, 3.9447771145126804), (1252, 3.944271791593213), (246, 3.9407962560747154), (922, 3.9397298179287983)]), (69, [(750, 4.562619852197488), (858, 4.537012386772573), (2959, 4.5248762217023115), (1204, 4.524395901351396), (904, 4.515951858049565), (48516, 4.489574986628368), (1213, 4.479292756012829), (1221, 4.478485046681435), (1197, 4.478443015201614), (912, 4.471824145657203)]), (70, [(750, 4.491232438806568), (1204, 4.477201717534192), (2959, 4.467727813499889), (904, 4.4630601229448805), (296, 4.440025071636741), (898, 4.43994407208671), (48516, 4.4304424195129615), (50, 4.427499590341599), (1213, 4.42391468608916), (3275, 4.422780808565455)]), (71, [(318, 4.21252451900284), (750, 4.166430686036838), (1204, 4.151550233072432), (858, 4.147940615158792), (2959, 4.136599386926838), (741, 4.125807742838531), (904, 4.12365822809993), (48516, 4.108149891876406), (296, 4.107607912919898), (50, 4.090642954737923)]), (72, [(1204, 4.3996290369052975), (750, 4.384546472226277), (2959, 4.356073373568019), (904, 4.344724924472889), (48516, 4.321312996226481), (1213, 4.313715337805242), (1276, 4.312423823333119), (1208, 4.311644406474574), (1104, 4.302854338850791), (1136, 4.302343564142357)]), (73, [(318, 4.212371091179022), (750, 4.16083432149894), (858, 4.144178857944198), (1204, 4.136458143762653), (2959, 4.13433384144879), (904, 4.119749942456369), (296, 4.1090350904505595), (50, 4.0955628660494385), (48516, 4.095352417570337), (1213, 4.089229353452321)]), (74, [(318, 4.54511683218486), (750, 4.494978595840302), (1204, 4.4695688208339135), (2959, 4.467075398822009), (904, 4.456877775420721), (50, 4.428971883221945), (1213, 4.420189840698907), (260, 4.418852264671624), (912, 4.414915713458677), (1197, 4.4093916971845175)]), (75, [(318, 3.8265067820079164), (750, 3.776852280082511), (858, 3.7600584596455464), (2959, 3.750108524663384), (904, 3.7494977567585006), (296, 3.723216635997452), (50, 3.7108813977897994), (48516, 3.709134248721601), (1213, 3.707814214422992), (898, 3.702070318624637)]), (76, [(1204, 3.663632687559628), (904, 3.6520991420389404), (50, 3.6231478047112304), (48516, 3.623146667485769), (1104, 3.6152693550184893), (912, 3.6094928032858276), (898, 3.6027302413239264), (1197, 3.601877048012428), (4973, 3.598198955592325), (1276, 3.5940011757494834)]), (77, [(318, 4.25919293068647), (750, 4.2221335907686806), (904, 4.196772237205056), (1204, 4.195405862985081), (858, 4.193466017468957), (1104, 4.184564613186018), (2959, 4.184159662035594), (3275, 4.183484275238644), (296, 4.153233162954318), (48516, 4.148582984403111)]), (78, [(750, 3.7991389656891656), (858, 3.776011559205885), (2959, 3.7673046604004035), (904, 3.7619288855023054), (1204, 3.760430124728566), (50, 3.725611555558828), (48516, 3.725080950193379), (1213, 3.72467112767495), (912, 3.719224802992362), (1221, 3.718434099285701)]), (79, [(318, 4.459460224557724), (750, 4.408939790571795), (1204, 4.398443224258134), (2959, 4.382511505081984), (904, 4.368212021925355), (296, 4.35735778676837), (48516, 4.344171743230689), (50, 4.342954061479009), (1213, 4.33861071127526), (1208, 4.335861524061044)]), (80, [(750, 4.559452548508787), (1204, 4.530694043184248), (904, 4.525286348105257), (296, 4.50820256540935), (1213, 4.490065029892374), (260, 4.485737988676335), (912, 4.4823261803355985), (1208, 4.48135656499243), (1197, 4.47636377339915), (1136, 4.4760683836556865)]), (81, [(1204, 3.6461072745076044), (858, 3.590611979794786), (750, 3.5858570896879844), (904, 3.577265689544792), (2959, 3.571500967849713), (898, 3.5437564204827043), (1104, 3.542427948881877), (48516, 3.539661738221945), (3275, 3.537646763177218), (50, 3.533073748424777)]), (82, [(318, 4.15259560207585), (750, 4.100371459519008), (1204, 4.076131907468159), (2959, 4.073919981674924), (904, 4.06171286357372), (296, 4.048554560569591), (48516, 4.0366486029726625), (50, 4.036213349209103), (1213, 4.028708608355475), (1208, 4.022155873664441)]), (83, [(858, 3.807349216768882), (2959, 3.798437711097709), (904, 3.785782538735816), (296, 3.7698446822458993), (48516, 3.759480459683805), (50, 3.7566912823428495), (1104, 3.7536495712924185), (1213, 3.7530577651245993), (260, 3.7484962580246455), (1221, 3.747085671035165)]), (84, [(750, 4.156488676898823), (1204, 4.133666640275768), (2959, 4.130157604278769), (48516, 4.0924896717029675), (1221, 4.080210641480017), (1089, 4.07085710284159), (4973, 4.066784464585492), (3275, 4.063794032592009), (2571, 4.06357796437266), (7361, 4.058852512583146)]), (85, [(318, 4.215497389116985), (750, 4.167106740330005), (1204, 4.151657612508212), (858, 4.1477586017230905), (1104, 4.1455617713010255), (2959, 4.134336873949958), (904, 4.120512419032098), (296, 4.106437592100765), (50, 4.095455446742468), (1213, 4.09229415653431)]), (86, [(750, 4.292849143932421), (858, 4.272707300422188), (1204, 4.270038444894388), (904, 4.255871736052074), (296, 4.236226244782892), (48516, 4.225773635849306), (50, 4.2250994901671), (1213, 4.218000118275508), (1221, 4.215616092052926), (1208, 4.214576947915514)]), (87, [(318, 4.343439113183679), (750, 4.285658687788759), (1204, 4.280852559597299), (858, 4.2793107817429785), (2959, 4.268691552384605), (904, 4.267553623511245), (296, 4.247502105706877), (50, 4.23267543897188), (1213, 4.229533123993433), (260, 4.227991955535912)]), (88, [(750, 4.323677817019957), (1204, 4.295868825712353), (858, 4.286705284263155), (2959, 4.276747808574628), (904, 4.268744659798595), (898, 4.257844535357553), (296, 4.249907993547399), (260, 4.230850905141632), (1208, 4.228908301950964), (1276, 4.228455242031793)]), (89, [(318, 4.373103291989499), (858, 4.3060088429404795), (2959, 4.294855497186504), (904, 4.2855563105488805), (1204, 4.283867514415753), (296, 4.269112261520363), (48516, 4.258236355162582), (50, 4.256524467290473), (1213, 4.251386161924521), (260, 4.246541032134955)]), (90, [(318, 4.489173201447987), (750, 4.443571474092186), (858, 4.421170375459055), (2959, 4.4093731765870565), (1204, 4.408304291708381), (904, 4.3925016430674715), (898, 4.383573865389462), (296, 4.3826298440031), (48516, 4.376754059319578), (50, 4.370727627400759)]), (91, [(1204, 4.008212144857653), (48516, 3.9685645050813565), (1104, 3.9489498183925686), (898, 3.9466694286222403), (4973, 3.9435798603457233), (7361, 3.934335912027572), (2329, 3.9330931601696504), (2324, 3.923798308198258), (58559, 3.9232517667284514), (527, 3.9210140702599365)]), (92, [(318, 4.3965866154894035), (750, 4.362060279194529), (1204, 4.3442684967103915), (858, 4.3311331572447065), (2959, 4.320618886540655), (904, 4.30688173450639), (296, 4.3000891576354645), (1104, 4.286061153274227), (50, 4.2835826409152435), (1208, 4.282366302650867)]), (93, [(750, 4.68303868410324), (858, 4.664032825114822), (2959, 4.653157492412829), (1204, 4.6441707045939955), (904, 4.6426749941457155), (296, 4.626203870418003), (48516, 4.616130776473773), (50, 4.615253781247606), (1213, 4.608508388306508), (1221, 4.603700527534084)]), (94, [(750, 3.786215599083471), (858, 3.769985928406642), (904, 3.760468983082897), (2959, 3.760428088829892), (1204, 3.7575188101847234), (50, 3.7205646300629067), (48516, 3.718422966222198), (1213, 3.7141010437060995), (260, 3.712802779482351), (246, 3.7104494935931975)]), (95, [(318, 4.446134197846695), (750, 4.395891371447036), (858, 4.378728324673005), (1204, 4.374166786393391), (2959, 4.36858315382005), (904, 4.361862101102001), (296, 4.342037326322232), (1104, 4.335689881827803), (50, 4.330515204529829), (48516, 4.328751427132716)]), (96, [(318, 4.291830272042331), (750, 4.246529307377774), (2959, 4.213787760457146), (1204, 4.2136072263375715), (1104, 4.203502394386526), (904, 4.196426736134388), (48516, 4.1767642289505105), (898, 4.166478271223719), (1213, 4.165549788437272), (1208, 4.162211261666988)]), (97, [(318, 4.555715360086296), (750, 4.525528481030115), (1204, 4.49310009102094), (2959, 4.478144465830911), (904, 4.4619842258314515), (296, 4.452043144581368), (48516, 4.43983974451491), (50, 4.439546981644787), (1213, 4.435920554989576), (260, 4.430215685570141)]), (98, [(318, 4.337285906687716), (750, 4.283826102135825), (1204, 4.277001580817873), (2959, 4.259206718981175), (296, 4.233933994343343), (48516, 4.222393359429714), (50, 4.220548268215264), (1213, 4.215812527236213), (1221, 4.210824547584672), (260, 4.2099540453939825)]), (99, [(1204, 4.413365566539822), (750, 4.410990255612258), (858, 4.392471629482851), (904, 4.382927476032786), (2959, 4.38209595148947), (1104, 4.3658450897669105), (50, 4.344657155160995), (898, 4.341442277015114), (1213, 4.334280310949129), (48516, 4.334137880550717)]), (100, [(318, 4.413531256112381), (750, 4.361645509443723), (858, 4.346287118172947), (1204, 4.339248925743372), (2959, 4.335736275450538), (904, 4.324280284714948), (48516, 4.297452454078733), (50, 4.296183787428923), (260, 4.287222647133741), (1221, 4.285496712872318)]), (101, [(318, 4.159850584313223), (750, 4.127910439617903), (1204, 4.094866976398269), (858, 4.094309680307229), (904, 4.0819542676694045), (296, 4.060626256099313), (50, 4.0455121646370324), (1213, 4.039332104584001), (1208, 4.0383521057541), (260, 4.037096239404028)]), (102, [(750, 4.009727014648547), (858, 3.9866253829354004), (2959, 3.976795436138974), (904, 3.9595400342295597), (898, 3.956674024940317), (1204, 3.953121273898704), (48516, 3.946455385667164), (50, 3.93768402132987), (1213, 3.929823261888979), (260, 3.927338455022319)]), (103, [(1204, 4.165455723072266), (904, 4.160081697846236), (1136, 4.1092847874235705), (1276, 4.107621902647644), (1104, 4.10687180104604), (898, 4.105542829402822), (3275, 4.100621363822695), (1199, 4.097340410690755), (2324, 4.0871004962448465), (2019, 4.076818310123565)]), (104, [(318, 4.163285734427231), (750, 4.112106146958342), (1204, 4.088780229622826), (2959, 4.085212354355964), (904, 4.073694802291056), (296, 4.059509949172351), (48516, 4.046705509130727), (50, 4.045900979627019), (1213, 4.040919593401973), (1221, 4.035459471021436)]), (105, [(1204, 4.637805995077262), (1197, 4.5803015840824886), (1136, 4.578823341414086), (1276, 4.57530626842024), (898, 4.574386445642398), (1104, 4.570369980133374), (1196, 4.568346100908424), (1252, 4.544139733891277), (908, 4.542013304099918), (741, 4.5370232303147455)]), (106, [(750, 4.5958543481174114), (858, 4.5816703222697495), (2959, 4.572172865601114), (904, 4.562234159712323), (296, 4.546075916568244), (1204, 4.544427344108929), (50, 4.5272933682825585), (1213, 4.526328090631225), (912, 4.52159849453164), (922, 4.520116121633088)]), (107, [(750, 4.353738585238348), (1204, 4.3448444158063175), (858, 4.344484765948923), (2959, 4.339046311853538), (904, 4.313858222063478), (1213, 4.306746823121712), (1104, 4.298802031320159), (50, 4.297719270842218), (48516, 4.297435861051517), (1221, 4.288819971346236)]), (108, [(318, 4.429135830232808), (750, 4.383191574125127), (858, 4.360443965966954), (2959, 4.349737919046655), (904, 4.338818036196532), (296, 4.323137882713819), (48516, 4.312264343108175), (50, 4.3077402817622215), (1213, 4.30352417784071), (1221, 4.301301874700259)]), (109, [(750, 3.883665066151538), (858, 3.8700709392504593), (1204, 3.86142861458314), (2959, 3.8588045622306772), (904, 3.8479678428846213), (48516, 3.8226206880229165), (1213, 3.8126594584646014), (260, 3.809667343012539), (1221, 3.809638054148916), (912, 3.8079649544884493)]), (110, [(318, 4.183867888712162), (1204, 4.139338863516597), (750, 4.138440747797807), (858, 4.115268613333947), (904, 4.087632028195883), (48516, 4.080960385345847), (50, 4.066175341570918), (898, 4.059026951218064), (260, 4.058375108693925), (1221, 4.057993933082975)]), (111, [(750, 4.112846014802833), (858, 4.095141267339131), (1204, 4.089007096563998), (904, 4.074607040074204), (296, 4.059460902910787), (50, 4.045397785039971), (1213, 4.039757012443407), (260, 4.036730993685619), (1221, 4.036206418039128), (912, 4.031911379445393)]), (112, [(318, 4.143859520715645), (750, 4.093693275854187), (858, 4.077544019135358), (2959, 4.067979955476138), (1204, 4.064078681322506), (904, 4.063701035951655), (296, 4.041798938621893), (48516, 4.037490077075575), (1213, 4.018873922674917), (1221, 4.018712947238917)]), (113, [(318, 4.169956882366819), (750, 4.115297344735734), (1204, 4.104031069171104), (2959, 4.093029313562248), (296, 4.066621107604101), (48516, 4.053055757950491), (50, 4.052369325862737), (1213, 4.047319890550422), (1208, 4.042246408305516), (1221, 4.040897664715293)]), (114, [(318, 3.962915337652763), (750, 3.922005433043349), (858, 3.898045948332806), (904, 3.8962790088427477), (1204, 3.8886477762459633), (2959, 3.88709737299234), (296, 3.8635971380474508), (898, 3.8633788273601066), (48516, 3.8572038380861104), (1208, 3.851765405491891)]), (115, [(318, 4.32606075867894), (750, 4.277917249932953), (858, 4.257739948112826), (2959, 4.248210917031109), (1204, 4.246415158716295), (904, 4.242690995482652), (48516, 4.211095359708521), (50, 4.207561263528217), (1213, 4.203754497336135), (1221, 4.198425056944104)]), (116, [(318, 4.034492911704698), (750, 3.9814455565576856), (1204, 3.9686014987644778), (2959, 3.955474660519683), (904, 3.9507354301979567), (296, 3.9284091855410437), (48516, 3.920895247714799), (50, 3.916428003493285), (1104, 3.9142882144549476), (1213, 3.910641138647601)]), (117, [(750, 3.991119462693636), (858, 3.9735901523256643), (1204, 3.9629852848508493), (2959, 3.9627748037404538), (904, 3.9554090073640773), (48516, 3.926518349077517), (1213, 3.917894805843492), (260, 3.915184924874655), (1221, 3.9128692958503932), (912, 3.908232152414464)]), (118, [(318, 4.188264060008328), (750, 4.140184272531593), (904, 4.128927630425866), (2959, 4.114117190484852), (741, 4.105461493871626), (48516, 4.080994786660975), (3451, 4.0787605343065785), (1204, 4.078642833533062), (50, 4.075202799349699), (912, 4.062796685255839)]), (119, [(750, 4.5166755382411), (858, 4.499994554623174), (2959, 4.49006607362288), (1204, 4.487352574437758), (904, 4.479855289886585), (50, 4.451203207186208), (1213, 4.444937289933639), (260, 4.441462992985214), (1221, 4.439693756988652), (1208, 4.436176712857064)]), (120, [(318, 4.080097437467185), (750, 4.021145929458464), (1204, 4.01086391421449), (904, 4.001042372885545), (2959, 3.995115355155721), (48516, 3.9746064137600436), (296, 3.9685894868324523), (1104, 3.9677266750601894), (50, 3.9577121525231886), (1213, 3.9560023428225084)]), (121, [(750, 3.9138686034449313), (858, 3.8955150041158575), (2959, 3.8832961046665977), (1204, 3.880673069367504), (904, 3.8731943174480743), (898, 3.846296285781225), (50, 3.845401542301772), (48516, 3.8437025325800516), (1213, 3.8352773478044275), (1221, 3.8340965238654663)]), (122, [(750, 4.6974403809372856), (1204, 4.6761458542684435), (904, 4.660391624601133), (1221, 4.6208520947532215), (912, 4.6172860027724365), (898, 4.607874097891165), (4973, 4.607232201496469), (1104, 4.603004407500077), (7361, 4.598972390769484), (1198, 4.597291320586187)]), (123, [(750, 4.2900837842800525), (858, 4.273195804695144), (1204, 4.270664453901852), (904, 4.25328294178141), (48516, 4.227263377522689), (50, 4.225128681311165), (922, 4.217779825580095), (1213, 4.214599691037139), (912, 4.211090627567325), (1208, 4.210932746099932)]), (124, [(750, 4.305075722075781), (858, 4.286588269722272), (2959, 4.280355027212065), (1204, 4.27434571915893), (904, 4.265648370843404), (48516, 4.241006336596402), (1213, 4.229596215399032), (1221, 4.228673074925934), (1208, 4.228106246089092), (912, 4.227354784030119)]), (125, [(750, 4.238860076400503), (1204, 4.213783234063068), (904, 4.201711298430912), (50, 4.172336331704523), (1213, 4.16727032709003), (260, 4.163217420785576), (912, 4.158747624732842), (1208, 4.155927319193163), (898, 4.154257617312212), (1197, 4.153969446215394)]), (126, [(750, 3.9269698849688357), (858, 3.9118987146496798), (1104, 3.8989518095242808), (2959, 3.8935139524649385), (904, 3.8919205133300805), (1204, 3.88720521971177), (1213, 3.856369629778266), (50, 3.855771688651176), (260, 3.849821692000506), (48516, 3.849304062744233)]), (127, [(318, 3.830403796566295), (1204, 3.7962261642468524), (750, 3.788399795153909), (858, 3.7611650745555596), (2959, 3.751368119821693), (904, 3.7450612549106417), (246, 3.7321932328985827), (296, 3.726143403258904), (50, 3.7167201080599264), (260, 3.7119486546549476)]), (128, [(318, 4.4939945518019275), (750, 4.450736732089059), (858, 4.427965487482819), (2959, 4.416307819310053), (1204, 4.4092145761601405), (296, 4.394422671897046), (48516, 4.385214524521257), (50, 4.37710119882324), (1221, 4.371500674628037), (1213, 4.3701148725137955)]), (129, [(318, 4.3952780955402435), (750, 4.346363572075434), (858, 4.327844575947477), (1204, 4.324349049220846), (904, 4.311261645830872), (296, 4.290448153412231), (48516, 4.28117691947838), (50, 4.278022303530364), (1213, 4.272875247829372), (1221, 4.267510728439476)]), (130, [(1204, 4.095188970044173), (750, 4.091847579488066), (858, 4.070886319588278), (2959, 4.067977141619818), (904, 4.047717751699676), (475, 4.037483001156186), (1208, 4.02863879875743), (48516, 4.028487825151066), (50, 4.027589556764744), (1213, 4.01897690866614)]), (131, [(750, 3.8288805444311027), (2959, 3.8059319571279966), (1204, 3.805477434534725), (904, 3.7950515781541827), (912, 3.755674649339809), (898, 3.750920148973312), (1197, 3.7507990964699576), (1208, 3.7501302040892077), (4973, 3.7433035144616906), (3275, 3.736715470703797)]), (132, [(750, 3.7151925021967362), (1204, 3.687510805325947), (1213, 3.643903209869532), (1208, 3.634472180818159), (1197, 3.631441147040189), (1136, 3.6291205618039095), (898, 3.6251891282218693), (1276, 3.6246674008993374), (1104, 3.617802649207225), (1199, 3.6174680163293)]), (133, [(750, 3.663576429369458), (1204, 3.6607846000220983), (858, 3.6464607757285497), (2959, 3.632015219956872), (904, 3.6259659773935637), (1213, 3.594350190023458), (48516, 3.5898407028147115), (1221, 3.5855829326934576), (912, 3.58386536016886), (898, 3.5838185119744366)]), (134, [(318, 4.222518775971803), (750, 4.166175808000189), (858, 4.158987896572292), (904, 4.158560376331494), (2959, 4.152669417404947), (48516, 4.121777864723742), (1204, 4.115119017603699), (898, 4.111893943422951), (50, 4.110662686606243), (912, 4.101962193627699)]), (135, [(750, 4.160644715784328), (1204, 4.134674463780865), (904, 4.1228744059746845), (48516, 4.094683755777075), (50, 4.093598787540626), (1221, 4.081825443971459), (1208, 4.07748812859352), (898, 4.075027512371369), (1089, 4.072297862749509), (1104, 4.071709043727015)]), (136, [(318, 4.074084216050903), (750, 4.029721048147075), (858, 4.009480629667591), (2959, 3.9979320645669114), (904, 3.994270919605344), (1204, 3.9903316597011314), (50, 3.95898597346641), (48516, 3.9580049196410716), (1213, 3.9519022245012962), (260, 3.9490498934252085)]), (137, [(50, 4.170654564064547), (48516, 4.170385453694904), (1213, 4.164209943472597), (1104, 4.152310956330697), (1089, 4.148637814825148), (898, 4.148284212370938), (4973, 4.147000016605838), (1276, 4.144567311170986), (7361, 4.1370660650026805), (3275, 4.13659898546556)]), (138, [(318, 4.149572728967551), (1204, 4.117028515389207), (750, 4.101900319985964), (858, 4.089441101611028), (904, 4.084393811705278), (2959, 4.075217816807605), (296, 4.047709969493164), (50, 4.039388101476179), (48516, 4.038904299090211), (1213, 4.031742538425947)]), (139, [(318, 3.1551798496899064), (750, 3.105474751273291), (858, 3.0883281205812265), (1204, 3.083090140059961), (2959, 3.077090655079352), (904, 3.068160255503008), (296, 3.0515699986524414), (48516, 3.039806763365273), (50, 3.0385832426899717), (1213, 3.0330258486006105)]), (140, [(750, 3.9738603665000243), (2959, 3.94867063478563), (904, 3.938976253438083), (1208, 3.894301281255915), (1197, 3.8916191132505413), (1136, 3.8895259576969523), (898, 3.8880956367127237), (3275, 3.885986768180185), (4973, 3.883915861202473), (1104, 3.876880807082221)]), (141, [(750, 4.04466266374768), (1204, 4.022246716685587), (904, 4.008067955495299), (50, 3.9777251179539674), (1213, 3.971817718371735), (1221, 3.96607259627762), (1208, 3.9624088551279932), (912, 3.961899110333901), (1136, 3.9577309696428524), (1089, 3.956959202580075)]), (142, [(318, 4.281084208679446), (750, 4.229431638506053), (858, 4.209936480638121), (2959, 4.1989137470990645), (1204, 4.187359315379762), (904, 4.181290444603406), (48516, 4.172609590689911), (1221, 4.1580798101016), (260, 4.1575486771102685), (1199, 4.155137984767856)]), (143, [(318, 3.9710738212257755), (750, 3.930058496313582), (1204, 3.905263717221304), (858, 3.903501780325767), (2959, 3.8931751852558607), (904, 3.885121138627379), (296, 3.8701314289228868), (48516, 3.861275755209621), (50, 3.8571659148112496), (1213, 3.8456817929410287)]), (144, [(318, 4.176676383907929), (750, 4.1249137483317), (858, 4.109858330347936), (1204, 4.094070753256021), (904, 4.089317166726437), (48516, 4.063739144899522), (50, 4.059399336272935), (1213, 4.0536301275621485), (260, 4.049042800851091), (1221, 4.048814433140983)]), (145, [(750, 3.968966134427211), (898, 3.963566102325585), (1104, 3.95617535812336), (858, 3.9543602657563635), (904, 3.944406749878637), (1204, 3.9414380867263445), (2959, 3.9402717149340742), (922, 3.9173170516630402), (1213, 3.9045742941507013), (48516, 3.9010093097431002)]), (146, [(318, 3.982547274003351), (750, 3.936786338685827), (858, 3.9089268720756762), (2959, 3.9011513128782207), (904, 3.89591593781007), (48516, 3.8715257567769084), (296, 3.869773842584762), (898, 3.862912869912412), (50, 3.8606245451364973), (1104, 3.8605446463582425)]), (147, [(318, 4.113406552029169), (750, 4.084598772549137), (858, 4.039238253954583), (2959, 4.035417811889733), (904, 4.031106246226961), (296, 4.010715212272634), (1208, 4.006269693574344), (50, 4.001529756774964), (48516, 4.0001145912153255), (168252, 3.995923448436045)]), (148, [(318, 4.156540136519889), (750, 4.103003573001668), (858, 4.089076329515361), (904, 4.083499017070751), (2959, 4.078466460256833), (1204, 4.07384336429227), (296, 4.052613134443566), (898, 4.049268225866923), (50, 4.039655075110661), (48516, 4.039398477913611)]), (149, [(318, 3.5921130402222587), (1204, 3.541371287538906), (858, 3.5216369305766766), (2959, 3.510909575437764), (904, 3.5057144967507514), (296, 3.487305593950562), (898, 3.481944030225912), (50, 3.4726555140920174), (1276, 3.472563727705141), (1221, 3.47226485839568)]), (150, [(318, 4.19479305993687), (750, 4.139373482471116), (858, 4.129273377793661), (904, 4.127804526589232), (2959, 4.120216911987907), (898, 4.108572397186801), (1204, 4.101895211936458), (48516, 4.095024219277952), (741, 4.090967886360938), (296, 4.089565497668721)]), (151, [(318, 4.2746497698318615), (1204, 4.216152487020021), (750, 4.214362909605628), (858, 4.2046634194797905), (2959, 4.194437214171142), (904, 4.180716565049968), (296, 4.167923634141819), (898, 4.1606673289998115), (50, 4.154146229938103), (48516, 4.152343580597151)]), (152, [(1204, 4.203216883401295), (898, 4.1734549370465315), (3275, 4.169241718889064), (1208, 4.164717631336106), (912, 4.163858928551142), (1089, 4.1595337388133276), (1197, 4.157426451769121), (1276, 4.157367790628032), (4973, 4.153944456235078), (1199, 4.151445477705922)]), (153, [(318, 3.1881908914483508), (750, 3.1381006905989177), (1204, 3.121012204109404), (904, 3.1041223179541415), (50, 3.072299720059082), (48516, 3.0706942793990666), (260, 3.0636829877160814), (1213, 3.062752096599332), (1221, 3.0624495809296617), (912, 3.0577078807685827)]), (154, [(318, 4.6059615320071465), (750, 4.550433666429008), (1204, 4.539083200736836), (858, 4.535787228590607), (1104, 4.533101657529655), (2959, 4.525655689136387), (904, 4.519173836039029), (296, 4.497874206677466), (48516, 4.4975432991520465), (50, 4.490682971723884)]), (155, [(318, 4.238263630226868), (1204, 4.195945907086226), (750, 4.1839996786390525), (858, 4.169940665361287), (904, 4.152274342209277), (1104, 4.147257851902741), (296, 4.138979931872507), (50, 4.125831719316464), (48516, 4.122656095001515), (898, 4.122064548293954)]), (156, [(2959, 4.15389493276159), (48516, 4.117198989636691), (1197, 4.097990335611738), (3275, 4.0864445524285316), (1196, 4.085548147900125), (1104, 4.085250085316807), (7361, 4.082833375040868), (2329, 4.080637728216906), (2324, 4.072113204156305), (58559, 4.0715023362989715)]), (157, [(318, 4.125385173426246), (1204, 4.075269155754237), (750, 4.070515968606889), (858, 4.057703405908021), (904, 4.049574522384014), (296, 4.02255623956606), (50, 4.011855618862735), (898, 4.010479538287518), (1213, 4.004342418385746), (246, 3.995987612512485)]), (158, [(318, 4.145384461834612), (1204, 4.109782574819499), (750, 4.095627762188995), (858, 4.083826458093957), (2959, 4.0657186959554075), (904, 4.058827782262497), (296, 4.043280716914132), (3275, 4.038707640462008), (1208, 4.036383545451284), (912, 4.0299043859295685)]), (159, [(750, 3.8604773223040456), (858, 3.8404141928496407), (1204, 3.8403294576379046), (904, 3.8234729330593606), (50, 3.791808377251411), (48516, 3.791057495091364), (1213, 3.7871239407064676), (260, 3.782497208279825), (1221, 3.781765066248817), (1276, 3.7778547634617627)]), (160, [(318, 3.6480671875326633), (750, 3.599772994032202), (1204, 3.566762893312939), (48516, 3.531649516223836), (898, 3.5204515217542016), (912, 3.5152105103713174), (1276, 3.512539940855444), (1089, 3.5122696685667036), (1197, 3.5115473909766193), (1136, 3.510834657343493)]), (161, [(858, 4.238770956029418), (1204, 4.232244482797216), (750, 4.23206135884406), (2959, 4.2276263251810065), (904, 4.199179514140608), (296, 4.197989768018368), (48516, 4.188760667569379), (50, 4.185692793738539), (1213, 4.182187304060388), (912, 4.178681879067516)]), (162, [(750, 4.5119756572821945), (858, 4.497945756429834), (2959, 4.485933598941448), (904, 4.468294739953214), (1204, 4.468020805196508), (48516, 4.4587336084597835), (1213, 4.445310981560102), (260, 4.441201723454573), (922, 4.440731537779238), (1221, 4.438761432526612)]), (163, [(318, 3.8800576200556773), (1204, 3.840942678345229), (750, 3.833868113335793), (858, 3.8171468669535216), (2959, 3.8025483548615324), (904, 3.7946648387559607), (296, 3.7798989330675274), (1276, 3.7738082479099004), (50, 3.7651813715876963), (1221, 3.7635351217393835)]), (164, [(318, 4.528101441257526), (1204, 4.486448659628194), (750, 4.478970586089969), (858, 4.461804223907829), (2959, 4.450553514130664), (904, 4.433441625773926), (296, 4.4229119827688805), (48516, 4.411835262249268), (50, 4.409669678733653), (1276, 4.408314763534527)]), (165, [(318, 4.081985102974668), (750, 4.040543750783836), (1204, 4.011801335329982), (2959, 4.006886707746782), (904, 3.995961360638839), (296, 3.9800710112767126), (48516, 3.968627834262301), (50, 3.9650313423554135), (1213, 3.9637124776171797), (1208, 3.9618886104162505)]), (166, [(750, 4.403539134648278), (1204, 4.386240903005156), (1213, 4.33085709087059), (1208, 4.323856470301068), (912, 4.321916800153932), (1136, 4.316450780575796), (1104, 4.31362747056001), (898, 4.3135346575817985), (3275, 4.312391100557553), (1199, 4.301005284406254)]), (167, [(858, 3.973078620683682), (1204, 3.963578809738474), (2959, 3.962278222202452), (904, 3.9514442573101998), (48516, 3.9261871356422806), (50, 3.9215403067845216), (1213, 3.915625900353609), (1221, 3.911738070182331), (1208, 3.9083285047248073), (912, 3.9076181939048134)]), (168, [(318, 4.654607752341824), (2959, 4.578154275706526), (1204, 4.571494289598284), (904, 4.568740120000116), (48516, 4.5394980237531835), (50, 4.538448374329604), (898, 4.533331118453196), (260, 4.5275681927005), (1197, 4.520865551382894), (3275, 4.5175071263988995)]), (169, [(750, 4.596709395822044), (858, 4.5812011997247195), (1204, 4.572359905132522), (2959, 4.570225261021114), (904, 4.559632224531489), (296, 4.544634219560931), (48516, 4.531773318481877), (50, 4.530961681315872), (1213, 4.523791326206228), (260, 4.522152074013699)]), (170, [(750, 3.984256633731072), (1204, 3.980623610464131), (858, 3.9736525802402536), (2959, 3.959221621006538), (904, 3.955935986430029), (50, 3.920226186841335), (48516, 3.9191452279764696), (1104, 3.914565785163108), (260, 3.91294117382808), (1221, 3.9111243004609744)]), (171, [(750, 4.7635912740350745), (2959, 4.733508185429632), (1204, 4.722744861812102), (904, 4.721922054782682), (48516, 4.6990848972032175), (50, 4.696126189485981), (1213, 4.689883622036165), (1221, 4.681961784672687), (912, 4.681419845000916), (1199, 4.674696697775721)]), (172, [(318, 4.246663933259944), (750, 4.200230099562316), (858, 4.181052629534428), (2959, 4.170909998465869), (898, 4.169367851901931), (904, 4.158060000083234), (48516, 4.145291541706182), (296, 4.143269477666281), (1204, 4.135765394624219), (1208, 4.1326229223348925)]), (173, [(318, 4.084933420127893), (750, 4.042453925580197), (858, 4.017406031151879), (2959, 4.006364466991864), (1204, 3.9944210311059822), (1104, 3.989922691585803), (904, 3.9872761893627904), (1213, 3.963488019785239), (50, 3.962417837688528), (48516, 3.9608212393211044)]), (174, [(318, 4.297533154536574), (750, 4.248347894977357), (858, 4.230707630987994), (2959, 4.21747394125995), (904, 4.215576549845843), (1204, 4.212884790203312), (1104, 4.184789795461684), (48516, 4.1817255941530735), (1213, 4.174342050394416), (260, 4.17179066913624)]), (175, [(318, 4.186969761672136), (750, 4.129863928445194), (858, 4.1194610244111285), (2959, 4.1143736578472945), (1204, 4.111709469456707), (904, 4.09374809161468), (48516, 4.086582402153744), (296, 4.084095087752269), (50, 4.0703250938903155), (260, 4.061774224798832)]), (176, [(750, 4.44239800418518), (1204, 4.426760999404514), (858, 4.398126928860711), (2959, 4.394254074650939), (904, 4.373733609632843), (1104, 4.362524999764523), (48516, 4.361809707312561), (50, 4.358368289592627), (1213, 4.356838278855192), (260, 4.351757751192074)]), (177, [(1204, 4.069327277177036), (1208, 4.013370061557916), (1276, 4.005571514854527), (4973, 4.0044769412123635), (2329, 3.992703340202955), (1199, 3.991846363491626), (2324, 3.987851828575343), (5618, 3.9803670267522895), (1201, 3.9799222073364002), (2019, 3.9763128188787613)]), (178, [(750, 4.348484745970202), (1204, 4.341820955035898), (858, 4.3340624658832105), (904, 4.307204830609606), (1104, 4.28552355534116), (48516, 4.283219482135894), (260, 4.274976235696229), (1221, 4.274563492263126), (1208, 4.26720784143754), (1197, 4.264708908698344)]), (179, [(750, 4.3105968611039325), (858, 4.295580128370096), (2959, 4.284727010204627), (904, 4.277009418704374), (1204, 4.265687481541131), (50, 4.245297918349435), (48516, 4.244925114908254), (3275, 4.237986949074535), (1213, 4.237818071138211), (260, 4.2351482857487275)]), (180, [(318, 4.077990643873141), (750, 4.039364060602989), (858, 4.010205099351564), (1204, 3.992158482076428), (904, 3.9795972204396755), (296, 3.973261202205415), (48516, 3.9690577072293456), (1208, 3.9616966657506354), (50, 3.95965332050113), (1221, 3.9514105984318832)]), (181, [(318, 3.7974308869498308), (750, 3.7458337577987115), (858, 3.7295212870367607), (2959, 3.719568837098942), (1204, 3.7177510558676006), (904, 3.7078821450626585), (48516, 3.681653217702525), (50, 3.6803754124578503), (1213, 3.6742741982477827), (260, 3.6707658053641947)]), (182, [(48516, 3.9289406422286826), (1276, 3.9035715331440097), (898, 3.90089885835766), (2324, 3.8841491356918203), (58559, 3.8835696593653926), (1201, 3.8802182633295375), (2019, 3.877064034307787), (922, 3.873792449386266), (246, 3.8696739899499186), (57669, 3.850531316183877)]), (183, [(318, 4.235752436942923), (750, 4.1893419997229), (2959, 4.155423078028135), (1204, 4.154504232437625), (904, 4.150738858515559), (296, 4.131273727371118), (50, 4.120344549437133), (48516, 4.1187032562209005), (912, 4.118624949092566), (260, 4.1128893049954245)]), (184, [(318, 4.228126164514487), (750, 4.173727455261851), (858, 4.160677238760459), (1204, 4.1505298566000395), (2959, 4.149872888694323), (904, 4.144488152754279), (296, 4.124269028114846), (48516, 4.1131356780416), (50, 4.109901356442362), (260, 4.102469273188285)]), (185, [(318, 4.088364561232873), (750, 4.041086573709437), (858, 4.020738771833326), (2959, 4.009926296726025), (904, 4.0039372033104375), (1204, 3.9978559928932906), (296, 3.9823121271418143), (1213, 3.9687368043541262), (48516, 3.968646678797993), (1104, 3.96838525154555)]), (186, [(318, 4.503391619019479), (858, 4.436696947990569), (2959, 4.425803200445995), (904, 4.415903973675723), (296, 4.399111646633128), (48516, 4.387465261039292), (50, 4.386423244443091), (1213, 4.380399564697071), (1221, 4.3754434217355636), (912, 4.372271453628106)]), (187, [(858, 4.175531476335228), (1204, 4.170355383536839), (904, 4.153202254679752), (48516, 4.127755977692953), (1213, 4.117864376126344), (1221, 4.114576239722485), (1208, 4.110577803203584), (1197, 4.108655274742007), (1276, 4.106657264543492), (4973, 4.10123626929332)]), (188, [(318, 4.65447229514752), (750, 4.603576378003938), (858, 4.58739732112385), (1204, 4.577063645966236), (2959, 4.575158666569056), (296, 4.551620707917814), (48516, 4.5371577205865385), (50, 4.534217520424542), (1221, 4.5340248350764805), (912, 4.529095366537666)]), (189, [(750, 4.227621625488103), (1204, 4.216771605056274), (858, 4.18947917516591), (904, 4.172320893492225), (296, 4.161547571788469), (1104, 4.159207154391371), (898, 4.152497886461888), (1276, 4.147941464320764), (50, 4.14651235934669), (1213, 4.14213803640623)]), (190, [(750, 4.2388635669356205), (904, 4.19911899960944), (1204, 4.197719767957211), (296, 4.180653056019942), (898, 4.173747357657231), (48516, 4.172643032822014), (50, 4.169650917237866), (1213, 4.161870777375529), (260, 4.159139487183296), (1208, 4.157491938684114)]), (191, [(1204, 4.225248789499247), (750, 4.224686653856199), (858, 4.203246152838193), (2959, 4.194103815253612), (904, 4.189908596179018), (48516, 4.1544171152569405), (1213, 4.149086922345408), (1199, 4.148224923160423), (1208, 4.1481848566224055), (260, 4.14613412003116)]), (192, [(318, 4.42382006000997), (750, 4.379674320089817), (858, 4.357857379692162), (1104, 4.352987241933292), (2959, 4.340645543271556), (1204, 4.33247397748587), (904, 4.32541229200747), (48516, 4.311007820048728), (50, 4.304657315179424), (912, 4.302912744613612)]), (193, [(750, 4.083535278474948), (904, 4.027074031463585), (898, 4.010828127433684), (48516, 4.008210989428452), (1204, 4.007924151522428), (912, 4.0042461747311915), (1213, 4.002430132380138), (50, 4.00230137337487), (1208, 3.9942664800764893), (922, 3.993763625297441)]), (194, [(318, 4.120097004824371), (1204, 4.096996594766601), (750, 4.082833499428921), (858, 4.05381936157547), (2959, 4.040299629377319), (1104, 4.028076743166076), (904, 4.026883611211648), (741, 4.020672942355508), (898, 4.015048591032231), (1276, 4.013527812448071)]), (195, [(750, 4.028205090742316), (858, 4.008500469952255), (1204, 4.00133110459188), (2959, 3.9977223991847057), (48516, 3.962578341082069), (1221, 3.945664280831928), (1197, 3.940046642334653), (912, 3.9392903259216685), (1136, 3.9372198046519844), (4973, 3.936131188530773)]), (196, [(318, 4.271457724831695), (1204, 4.229266570623011), (750, 4.206940675166123), (858, 4.20453720056508), (2959, 4.195141989995194), (296, 4.1716806480145), (904, 4.170082633690613), (1104, 4.158354406748627), (50, 4.156751455656766), (48516, 4.151367642923981)]), (197, [(750, 4.232638845629902), (1204, 4.205217885819689), (2959, 4.199164817725573), (904, 4.183703771918895), (1276, 4.178284738179097), (260, 4.148526683289576), (48516, 4.14578201208985), (1221, 4.145613931313408), (1089, 4.143052811226966), (1197, 4.142678085677198)]), (198, [(858, 3.923867172559813), (1204, 3.916008259378783), (904, 3.9048058043222493), (48516, 3.874073054532477), (1208, 3.8619497682984276), (898, 3.8557988901759916), (1136, 3.85534360511209), (1276, 3.85398538402592), (1104, 3.8512489642046335), (3275, 3.8477517464075928)]), (199, [(2959, 3.9384021427732834), (1221, 3.8891798583034727), (898, 3.8779877234946905), (1104, 3.8748778624927196), (3275, 3.8728530395231324), (1199, 3.8646634688615062), (2324, 3.8565127854532877), (58559, 3.85499482518796), (922, 3.852531611016395), (246, 3.849890128517598)]), (200, [(750, 4.271848358370764), (858, 4.256256483814743), (1204, 4.250181979306486), (904, 4.236310491086485), (48516, 4.207351788981911), (50, 4.206476538897575), (1221, 4.195760606959668), (1208, 4.19235532725005), (912, 4.192146758348415), (1089, 4.186786727144807)]), (201, [(318, 4.553865517956163), (750, 4.506383018597675), (1204, 4.485914382866525), (858, 4.484021685976311), (2959, 4.476625529522371), (904, 4.4694605646987915), (48516, 4.438686450364441), (50, 4.436452039676589), (1221, 4.426198951743615), (1208, 4.42262608444623)]), (202, [(904, 4.182760501989796), (48516, 4.153054779774713), (1213, 4.145530410923318), (898, 4.12917506128979), (4973, 4.128155501605162), (1104, 4.123918844106497), (3275, 4.121460110221205), (7361, 4.119051087307168), (2329, 4.116455021474642), (2324, 4.109080805579932)]), (203, [(750, 4.255693946960574), (858, 4.23919879627044), (2959, 4.230933863594331), (904, 4.226561453217148), (1204, 4.223791034798633), (48516, 4.195077179182133), (50, 4.190341039945289), (1213, 4.181949020232988), (260, 4.181016368574529), (898, 4.180977650264108)]), (204, [(318, 4.296946560695954), (750, 4.248740852085816), (1204, 4.218200325090984), (904, 4.210839134270295), (48516, 4.178492962272236), (50, 4.178102410418276), (1213, 4.175659304002537), (260, 4.168400254881614), (1221, 4.166707576577769), (1197, 4.162730148617086)]), (205, [(318, 4.226862790445907), (1204, 4.1927304820680495), (750, 4.189671569568494), (858, 4.155403266366425), (2959, 4.149176989308835), (904, 4.144766096247866), (296, 4.121146210734852), (1104, 4.119749216950672), (50, 4.111582128139665), (922, 4.110750672615769)]), (206, [(318, 4.408565572268631), (750, 4.369326725125753), (858, 4.341137407711425), (1104, 4.331114947876416), (2959, 4.329954298127186), (904, 4.31394477637444), (296, 4.301004087636814), (1233, 4.299161056207317), (50, 4.291867411115628), (48516, 4.2891265142081165)]), (207, [(318, 3.8307435994263996), (750, 3.7771371546161903), (858, 3.7642166036256084), (2959, 3.752825097401674), (1204, 3.7365002435665646), (904, 3.736093784589766), (296, 3.7281653121201814), (1213, 3.722487445907848), (50, 3.7135249812806657), (48516, 3.7079265816384583)]), (208, [(318, 4.014330821001975), (750, 3.9472685892372152), (858, 3.9446573901971265), (2959, 3.93417587604629), (1204, 3.9256401307097604), (904, 3.9198236221096985), (48516, 3.907215156596408), (296, 3.9063061893965334), (50, 3.8936173925033635), (1221, 3.8894820504472087)]), (209, [(750, 4.365181751655859), (858, 4.353248988226576), (1204, 4.352223339045084), (904, 4.32147045389268), (296, 4.319685927815046), (3275, 4.318240412337946), (50, 4.300872435999577), (1221, 4.2981682124874565), (1213, 4.296637136430816), (1276, 4.296161143019123)]), (210, [(318, 4.512264952574439), (750, 4.462793487672308), (858, 4.444838789435165), (1204, 4.43917611007886), (2959, 4.434284418292441), (904, 4.418914687643405), (50, 4.396762145167094), (48516, 4.3958471446546845), (1213, 4.388145565129737), (912, 4.384176438315473)]), (211, [(750, 4.236306379492053), (1204, 4.227109930007757), (904, 4.203436020922637), (898, 4.168080622666006), (48516, 4.1679610152080375), (1213, 4.164527753059809), (912, 4.157687030266881), (1208, 4.156453896233832), (1197, 4.151997687111467), (1089, 4.1512007731416976)]), (212, [(858, 4.072154842630747), (1204, 4.0620564700419015), (904, 4.052354683924328), (48516, 4.025219464151664), (50, 4.021778140504426), (1213, 4.015922855863589), (1221, 4.011554466829694), (1208, 4.008004098100686), (912, 4.006925292205722), (1197, 4.004491477565064)]), (213, [(318, 4.349472960333306), (750, 4.300535118215209), (1204, 4.2861664958726315), (2959, 4.271786616719556), (904, 4.268214776094983), (296, 4.245613931034603), (48516, 4.233114987756036), (50, 4.231378828589721), (1213, 4.225472967690266), (260, 4.223623245554846)]), (214, [(318, 3.8102862213732336), (750, 3.762155291495148), (858, 3.7394770345202923), (1204, 3.737801798825942), (2959, 3.7297777697233423), (1104, 3.714763857006483), (898, 3.709283819068779), (296, 3.7046193481517595), (904, 3.7026263899729708), (50, 3.6953727749220806)]), (215, [(750, 4.235328897957244), (858, 4.217392628518413), (1204, 4.207851086625238), (904, 4.188979619936836), (48516, 4.168026497893099), (1213, 4.162477180808762), (1221, 4.160609508241364), (1136, 4.14977685725374), (1276, 4.146435976837084), (2571, 4.140788157929112)]), (216, [(318, 4.145122439584364), (750, 4.091512150921919), (858, 4.078353483342572), (1204, 4.0769992071196395), (2959, 4.066678875891339), (904, 4.05850621247695), (296, 4.040878514041521), (50, 4.028431473962341), (48516, 4.028028846192512), (1213, 4.023388730657991)]), (217, [(318, 3.631956640772344), (750, 3.5819588297141642), (2959, 3.5540912768119672), (1204, 3.5528183333360426), (904, 3.545122190392885), (48516, 3.5178401071354792), (1213, 3.5094099975978095), (1208, 3.5004645015110856), (912, 3.4989382489510934), (1197, 3.496746961975731)]), (218, [(318, 3.985958016175921), (1204, 3.925008624439941), (858, 3.917815776469239), (2959, 3.9032915983831082), (904, 3.895121678338925), (296, 3.8811658366088246), (1104, 3.877732650121812), (48516, 3.875800033696689), (2019, 3.8714233931605637), (50, 3.867208745218477)]), (219, [(750, 3.888534604806661), (1204, 3.867177677502422), (912, 3.80649995649613), (1208, 3.8064781704328032), (4973, 3.798471558595819), (1104, 3.7977703616347562), (1276, 3.7971704658286014), (898, 3.7932019410306155), (1199, 3.787119359035314), (2324, 3.779302488037201)]), (220, [(750, 4.293863538793368), (1204, 4.268727364741169), (904, 4.25682958321822), (48516, 4.2272046516193615), (1221, 4.216695418989656), (898, 4.21593840731341), (1208, 4.211104316019332), (1136, 4.205061335793426), (1104, 4.203751948894064), (4973, 4.201811043288425)]), (221, [(48516, 4.315756586064333), (260, 4.306063090497262), (1221, 4.304715738394197), (3275, 4.285432608636949), (1196, 4.284519492024435), (2329, 4.280296357306521), (2324, 4.274111372970204), (58559, 4.272058491424158), (5618, 4.268408192470173), (246, 4.257556846594233)]), (222, [(318, 3.8533271461939065), (750, 3.801865412062721), (1204, 3.7879702891637494), (904, 3.7682996387946033), (260, 3.7271460777444103), (912, 3.7245696558971577), (1197, 3.717332230793903), (898, 3.714602606680486), (1136, 3.71433074613546), (3275, 3.7138073008199863)]), (223, [(750, 3.832419838542659), (858, 3.815878671295349), (2959, 3.806545687534025), (1204, 3.8055021915794605), (904, 3.8010096338681336), (50, 3.7662804533268903), (1213, 3.7603995223680244), (1221, 3.7549991986037146), (1104, 3.751939633891091), (1208, 3.751286529297148)]), (224, [(318, 4.5841408080176596), (750, 4.532866229376346), (2959, 4.511481678272706), (1204, 4.505579455744016), (904, 4.496385294097871), (296, 4.484746800757791), (48516, 4.476159238050227), (50, 4.468237268343669), (1213, 4.461741071528411), (1221, 4.455724651922781)]), (225, [(318, 4.187728935180411), (750, 4.133425323949747), (858, 4.12106281530641), (2959, 4.109775268040599), (904, 4.101440642329028), (1204, 4.09892976175848), (1104, 4.082045306704675), (296, 4.081431878141102), (898, 4.071741448201562), (48516, 4.070309677278748)]), (226, [(318, 4.1148374593110155), (750, 4.063186248158313), (858, 4.047303492612718), (904, 4.027658837017465), (50, 3.9977168122126874), (1213, 3.9916224838959256), (1221, 3.988609479281478), (912, 3.9846291696888603), (1208, 3.9839804124214324), (1089, 3.9779631442365413)]), (227, [(1204, 4.3912239956174774), (904, 4.390446491346468), (48516, 4.354117214691389), (50, 4.349219315557089), (1213, 4.347671823808408), (1221, 4.338541780281041), (1208, 4.333996238133403), (1197, 4.332263364116446), (1089, 4.331078165175278), (1136, 4.3263896656601055)]), (228, [(750, 4.2185042484918), (1204, 4.191891287816318), (2959, 4.18228369309408), (1104, 4.169482280172141), (904, 4.165568859127786), (296, 4.1545450417133205), (48516, 4.1370459528505386), (3275, 4.135907320826438), (933, 4.133877977413975), (1221, 4.133406580250247)]), (229, [(750, 4.225481593155898), (858, 4.209472020170661), (2959, 4.197525371221949), (1204, 4.194598713526221), (904, 4.18211843357387), (1104, 4.160469948069109), (50, 4.158631943765486), (48516, 4.157837309541641), (1213, 4.157679067204644), (260, 4.151677036869821)]), (230, [(750, 3.674906569124177), (1204, 3.6613509360239247), (858, 3.6583518508413007), (904, 3.6401637163434604), (296, 3.6222713738406354), (48516, 3.610440456156217), (50, 3.6077621166588094), (1213, 3.6056464270674504), (260, 3.598724667331847), (1221, 3.5982052779440687)]), (231, [(318, 4.145846459507244), (750, 4.0953847163780965), (2959, 4.073648506292107), (904, 4.073280526507212), (922, 4.033533210958097), (50, 4.0324880092733295), (1213, 4.030815893387423), (898, 4.02897622888957), (1208, 4.025434798079269), (48516, 4.022576404595024)]), (232, [(750, 4.015135073858421), (1204, 3.9922536514807376), (904, 3.9792879311033307), (50, 3.9501087250702787), (1213, 3.9435824629341356), (1221, 3.9398748777216035), (1208, 3.934579533692548), (912, 3.933988275775927), (1089, 3.929378040443726), (4973, 3.9267670878497634)]), (233, [(750, 3.771485964893753), (1204, 3.742282871308966), (904, 3.7361682573986026), (1213, 3.6968652566386933), (260, 3.693425010388237), (1221, 3.693066906413238), (1208, 3.6896207383399413), (912, 3.687279449818261), (1197, 3.684574796985869), (1276, 3.6792549716480307)]), (234, [(318, 4.21807743833831), (750, 4.1708729143088545), (858, 4.150861951283367), (1204, 4.147762519799429), (2959, 4.140604199053922), (904, 4.130433127466638), (296, 4.115504659076053), (48516, 4.102408256651231), (50, 4.101611348387852), (1213, 4.0964292698827744)]), (235, [(750, 4.173452474720844), (1204, 4.167955980075649), (858, 4.152929127026441), (2959, 4.14418429300152), (904, 4.13226876106463), (48516, 4.106068926730506), (50, 4.105489085582121), (1213, 4.100326573630464), (1221, 4.094470984307091), (260, 4.0942163255008275)]), (236, [(318, 4.424061604728409), (750, 4.3774683253904865), (858, 4.3558027405891915), (1204, 4.34604402410548), (2959, 4.34416418569308), (904, 4.331044182304446), (296, 4.317212728800253), (50, 4.302077246552808), (1213, 4.301728256407955), (912, 4.2991953601365225)]), (237, [(750, 3.9109531125850974), (858, 3.8854094330238755), (1204, 3.8799074145643364), (2959, 3.8713159965988027), (904, 3.8684957245738323), (296, 3.845161761021222), (48516, 3.8377141015581158), (898, 3.833164080831775), (1213, 3.8284203093515576), (260, 3.824827801353602)]), (238, [(318, 4.236453626188436), (750, 4.1874414910520334), (904, 4.160650620831824), (2959, 4.160153898431847), (1204, 4.151943287628113), (296, 4.133455099130953), (48516, 4.127208816976764), (50, 4.126620561854859), (260, 4.115467861998346), (1213, 4.110793919176656)]), (239, [(750, 4.354224966020922), (1204, 4.3310013705292585), (904, 4.317086779754567), (912, 4.2733679359320895), (1276, 4.2641618845936655), (4973, 4.263145272858661), (898, 4.2611745592485235), (1104, 4.258387504431506), (7361, 4.255325153758309), (1199, 4.249181388045949)]), (240, [(750, 4.483617273490438), (1204, 4.472385290024598), (858, 4.464970575699128), (2959, 4.45482734496925), (904, 4.447339577285354), (48516, 4.416611245259298), (50, 4.415607869820912), (1213, 4.409696262506799), (260, 4.405583526529058), (1221, 4.403562369713201)]), (241, [(750, 4.260647064638694), (1204, 4.237170684571907), (904, 4.218612807589115), (1213, 4.191303143395986), (48516, 4.1898626723549635), (260, 4.183188029719905), (912, 4.182780188262166), (1197, 4.181453207679014), (1208, 4.177989535235306), (1089, 4.173039251116827)]), (242, [(750, 4.136980974573524), (858, 4.131537900107742), (1204, 4.123356833412028), (2959, 4.120572117824358), (904, 4.114020522332547), (48516, 4.080105737628458), (50, 4.077072858397787), (260, 4.06831140260856), (1213, 4.067975541424917), (1197, 4.067648247509681)]), (243, [(318, 4.616602044440902), (750, 4.577225770313843), (1204, 4.555900708585338), (858, 4.5507866926163825), (904, 4.538702003715838), (2959, 4.538435844530217), (922, 4.524730843942987), (296, 4.511826338847452), (50, 4.502344290764571), (1213, 4.502246169357974)]), (244, [(318, 4.2803018079497175), (750, 4.234736256137856), (858, 4.21218624688128), (2959, 4.202512987783362), (1204, 4.202077642186314), (904, 4.188144541897065), (296, 4.177828577525713), (1104, 4.167749003546504), (48516, 4.165279119458117), (50, 4.164478758080272)]), (245, [(318, 3.6437888353409194), (750, 3.5856625792641394), (1204, 3.585125499163312), (2959, 3.568094716279536), (3275, 3.5503343445700914), (904, 3.5478218430220845), (296, 3.533663191939943), (48516, 3.531179770339969), (50, 3.524616647347391), (1213, 3.521889935645589)]), (246, [(318, 4.614660905665693), (750, 4.565055209776129), (858, 4.547128953007717), (1204, 4.547125607768197), (904, 4.5272305902779175), (48516, 4.497968690608776), (1213, 4.490845955552941), (1221, 4.486493764781779), (1208, 4.484414342295213), (912, 4.481281523084494)]), (247, [(750, 4.067273310440135), (1204, 4.044313453480595), (904, 4.033153893749771), (1208, 3.9901783156809585), (1104, 3.9829714257616926), (1276, 3.9799876469805207), (4973, 3.979026981034383), (1199, 3.9740168720033604), (898, 3.9719376230135204), (1225, 3.956465510025261)]), (248, [(318, 4.198702698523865), (750, 4.147835670834097), (858, 4.129864231354313), (1204, 4.129711126836893), (2959, 4.1233835235108085), (904, 4.109868419642932), (296, 4.094148570072627), (48516, 4.082742942051081), (50, 4.0813490866662985), (912, 4.079821011565069)]), (249, [(1204, 4.3294875565936675), (1208, 4.274747152024776), (1197, 4.270865406712411), (1136, 4.26867420629683), (898, 4.266701981012406), (1104, 4.265531508452433), (4973, 4.26504325247322), (1276, 4.263927118671023), (2324, 4.246639036091631), (2019, 4.2411352773691355)]), (250, [(750, 4.534634196584914), (1204, 4.514585104042153), (858, 4.498471412082168), (2959, 4.486626758628505), (904, 4.485406842516417), (1104, 4.474759208096295), (296, 4.458506372844823), (48516, 4.452408654980335), (50, 4.448087907783426), (2019, 4.443962246057255)]), (251, [(750, 4.6642720014448775), (858, 4.641863766011988), (904, 4.626168194267911), (1204, 4.604261934200834), (48516, 4.594051899198536), (1213, 4.592836176878269), (50, 4.585250045879077), (1221, 4.57891975560077), (260, 4.575568273984912), (898, 4.572513329408084)]), (252, [(318, 4.490543377402903), (750, 4.456478455054708), (1204, 4.424978760739819), (858, 4.420919600541104), (904, 4.419670702352932), (2959, 4.4129272374997885), (296, 4.385367031456822), (898, 4.383931533145532), (48516, 4.3743717634893375), (1213, 4.373052600027198)]), (253, [(318, 4.593599401870511), (750, 4.546989554133441), (1204, 4.538009053552825), (858, 4.525806364357691), (2959, 4.515134116238603), (904, 4.499981232622705), (296, 4.490739900506009), (48516, 4.477827761854667), (50, 4.476990050434517), (1213, 4.470961875789991)]), (254, [(750, 4.288482128580396), (1204, 4.2648963755476075), (1213, 4.2143105338274145), (1221, 4.20921578548839), (912, 4.207909812947898), (1208, 4.206085026118591), (1197, 4.204019525914859), (1136, 4.199797955553654), (1276, 4.199612760803356), (898, 4.197595596735785)]), (255, [(318, 3.432195981449286), (750, 3.3823565366050823), (858, 3.362412350872279), (2959, 3.3502664057711145), (1204, 3.3459563405454262), (904, 3.333366687974739), (296, 3.3258503861458224), (1104, 3.3254402245810954), (898, 3.3132389326608345), (48516, 3.3119573738446415)]), (256, [(750, 4.376615471702368), (858, 4.359281261872195), (1204, 4.35540752387535), (2959, 4.348478171256417), (904, 4.338645094446311), (296, 4.322321731765156), (48516, 4.31009809012136), (50, 4.30915892867299), (1213, 4.304045557856801), (1221, 4.2991997704012315)]), (257, [(318, 3.9526021283448385), (1104, 3.900614755923259), (750, 3.8953378452599976), (858, 3.8922088195389986), (2959, 3.8738700686493766), (1204, 3.8673090744157768), (904, 3.8550482601096334), (48516, 3.848239879835852), (296, 3.846039590082417), (50, 3.835947004249749)]), (258, [(858, 4.30319871899295), (750, 4.301982722494586), (1204, 4.289573747562476), (904, 4.277675559397924), (296, 4.264482652455506), (3275, 4.262603298698224), (50, 4.255227873707871), (48516, 4.253706396225533), (912, 4.25205553098481), (1221, 4.250324289356166)]), (259, [(318, 3.866049090574092), (750, 3.814051577824164), (904, 3.8070627907277177), (858, 3.805479241985033), (1104, 3.8040100472570955), (2959, 3.796380722933663), (475, 3.7784114326446967), (1204, 3.7719902689190326), (296, 3.7667004520275147), (50, 3.7564826853116267)]), (260, [(318, 4.147984138663015), (858, 4.08064439891019), (1204, 4.074913456750186), (48516, 4.034517549242069), (1213, 4.025938634173197), (260, 4.0213673540768955), (1208, 4.020642423061446), (1221, 4.020417362424235), (912, 4.017633126711729), (1197, 4.013350972649542)]), (261, [(750, 4.204571390229188), (1204, 4.190505641865139), (858, 4.18693192974018), (2959, 4.17663159752338), (904, 4.16084468773328), (48516, 4.136812598839798), (1221, 4.136185615097852), (1208, 4.132390278637377), (260, 4.130569285727548), (1213, 4.129260935418354)]), (262, [(750, 3.7883277878331634), (1204, 3.779030308711968), (858, 3.758612394538471), (2959, 3.752002767593398), (904, 3.7387752657704967), (48516, 3.712791356230656), (1213, 3.7089673393772933), (1221, 3.7002285385449), (1197, 3.7001373474288872), (3275, 3.6988718894923664)]), (263, [(750, 4.15583773250323), (858, 4.139209134720655), (1204, 4.13000175944519), (2959, 4.128381637325192), (904, 4.121307385042282), (48516, 4.091250147836197), (50, 4.089648483807327), (1213, 4.083075752435648), (260, 4.080583085318653), (1221, 4.078680889075612)]), (264, [(318, 4.1401261119545785), (750, 4.090178027258224), (858, 4.069406145964569), (2959, 4.063097391484592), (1204, 4.061764404449901), (904, 4.059066186665419), (296, 4.035630769769369), (48516, 4.028311197387269), (50, 4.023471373004901), (1213, 4.013841927727796)]), (265, [(750, 3.927365645900466), (858, 3.913609175386065), (2959, 3.9027803466684525), (1204, 3.9003451893592063), (904, 3.8926885518872862), (296, 3.8759541926207843), (48516, 3.8648135914204436), (50, 3.8629390251164746), (1213, 3.8595526218780702), (1221, 3.8528894437464896)]), (266, [(318, 4.075062966733103), (750, 4.023914439254626), (858, 4.006782724666069), (1204, 3.9982996218122415), (904, 3.9873873675573392), (48516, 3.956741336324111), (1221, 3.9454849385034327), (912, 3.942643661674264), (1276, 3.9343150109830867), (4973, 3.930875973608324)]), (267, [(318, 4.494025819282238), (750, 4.43970189512569), (858, 4.428202599813992), (2959, 4.416802682729043), (1204, 4.41532510785827), (904, 4.40725697425045), (296, 4.389843717682616), (48516, 4.383307256498271), (50, 4.38093267488933), (1104, 4.380280538886076)]), (268, [(318, 3.908690217664464), (750, 3.8618937601539423), (2959, 3.830693693771001), (1204, 3.8298950317617546), (904, 3.82116790564564), (296, 3.8039120212236055), (1104, 3.7942584138732447), (48516, 3.7930146302673013), (912, 3.776893738161627), (1136, 3.774248318463221)]), (269, [(318, 4.24133131656876), (858, 4.172305749673026), (1204, 4.170727479752021), (750, 4.166323443302545), (2959, 4.1631808241562975), (296, 4.1407075003573235), (48516, 4.138751288130886), (3275, 4.1374256864918655), (904, 4.133067235716645), (1276, 4.126740110274525)]), (270, [(318, 3.956485145356591), (750, 3.9085448802196363), (858, 3.8930328124600218), (1204, 3.8813316458986686), (2959, 3.8792769964208724), (904, 3.8579165212995057), (296, 3.850918811996434), (48516, 3.8449372471923366), (50, 3.843302829466477), (260, 3.8363784476369513)]), (271, [(318, 3.873364016745405), (750, 3.8305728650160877), (1204, 3.8177381589778334), (858, 3.805586631622515), (898, 3.800912969864296), (2959, 3.7925315947584597), (904, 3.7730342806496826), (296, 3.7662765257535185), (50, 3.756433144709925), (48516, 3.7529621164803126)]), (272, [(750, 4.052063190743695), (858, 4.030589454489406), (2959, 4.021058440359578), (1204, 4.0209343469143), (904, 4.01676038783492), (48516, 3.992795764324349), (296, 3.9917262611778157), (922, 3.9883800596905505), (898, 3.982656968335898), (1276, 3.979864036250674)]), (273, [(318, 4.458425517173888), (750, 4.411572102514256), (1204, 4.392415551447554), (858, 4.38522558277479), (2959, 4.378422092582052), (904, 4.371898195615987), (50, 4.337993344997947), (48516, 4.335534184905422), (898, 4.330858189123236), (1213, 4.32727208984953)]), (274, [(1204, 3.900446817738487), (4973, 3.8359532985579423), (1104, 3.8350165308969553), (898, 3.8333054185138313), (1225, 3.8079495237919847), (246, 3.805394997847384), (1252, 3.8022457880141394), (741, 3.797894453273893), (1233, 3.785098435333098), (475, 3.782137631446696)]), (275, [(1204, 4.32474425849227), (48516, 4.283481269654571), (898, 4.2608600521318145), (1276, 4.259345337807568), (1104, 4.253873846567691), (3275, 4.251635042071766), (1196, 4.250685780924399), (7361, 4.249059306441618), (2329, 4.245716194925759), (58559, 4.236123829939268)]), (276, [(318, 4.774473618975749), (750, 4.720874917376247), (858, 4.706633961761368), (904, 4.699134488253262), (2959, 4.698007128257831), (1204, 4.676470491676941), (296, 4.669833120467607), (48516, 4.65879507898568), (50, 4.656066609092293), (1221, 4.649045000405673)]), (277, [(318, 4.255945915795819), (1204, 4.218563209699172), (750, 4.199423619354324), (858, 4.191104659778353), (904, 4.1875829629080705), (2959, 4.176082502710044), (1276, 4.159138951170798), (296, 4.148679422874368), (1213, 4.139306849930402), (1221, 4.13458804194198)]), (278, [(750, 4.2648278856183), (858, 4.236182553133077), (2959, 4.214486746488859), (1204, 4.202523801407855), (296, 4.193141326593273), (951, 4.1865638092517266), (904, 4.185885098579506), (48516, 4.185281316548111), (1276, 4.182459870998035), (1208, 4.1719519894101476)]), (279, [(750, 4.034251504827391), (1204, 4.016539659359045), (904, 3.998952129938463), (1221, 3.9582993090851644), (1104, 3.9533231920625), (912, 3.9531938389130112), (1197, 3.9508358207516965), (1089, 3.9492289053242216), (1276, 3.949175977635403), (4973, 3.945665075014806)]), (280, [(318, 4.427706519060384), (750, 4.376340057181508), (858, 4.359540382728038), (2959, 4.350054992459932), (1204, 4.3456321639957025), (904, 4.34298915427015), (296, 4.323156433407235), (260, 4.300620311711748), (1221, 4.299145621625508), (1208, 4.296073270682376)]), (281, [(318, 3.9871198933665446), (750, 3.9458491268095592), (858, 3.9231154584407926), (2959, 3.912002993424759), (1104, 3.8918240121379784), (1204, 3.891396536609883), (951, 3.8897221810749483), (898, 3.889064334114441), (904, 3.8889980414282252), (296, 3.8805931558240685)]), (282, [(1204, 4.328117236756903), (904, 4.317002223977223), (1197, 4.2714001134767), (898, 4.270709660185872), (1104, 4.268679694245466), (1276, 4.266998604681204), (4973, 4.26498640543261), (3275, 4.26355411768302), (1196, 4.258491348168336), (7361, 4.255912952396445)]), (283, [(750, 3.926280617866309), (858, 3.899326520117709), (2959, 3.8891934124650303), (1204, 3.8744705477009815), (904, 3.8649340200705917), (296, 3.8648295808253885), (898, 3.8567997316788554), (50, 3.853441751633369), (1221, 3.8469771368131322), (1199, 3.845988966209132)]), (284, [(750, 4.341671793191178), (858, 4.322757807000438), (2959, 4.311414839237737), (1204, 4.308793047710083), (904, 4.305349134615118), (48516, 4.272461706317041), (50, 4.269912907924813), (260, 4.266681044549349), (1213, 4.266196862382055), (1221, 4.264709080521423)]), (285, [(318, 4.276400544207991), (1204, 4.235734818282892), (750, 4.2239725808848725), (2959, 4.199533984071227), (48516, 4.162492820101431), (898, 4.159195809125598), (50, 4.157410012927058), (1213, 4.156163520403313), (260, 4.150649409998568), (1197, 4.143234230125541)]), (286, [(318, 4.255317244429733), (750, 4.20622816508193), (858, 4.186552372872182), (1204, 4.177924382956987), (904, 4.167294204835572), (50, 4.138217006815158), (48516, 4.135883741245556), (1213, 4.130207308684438), (260, 4.12820520227478), (1221, 4.124362036167448)]), (287, [(318, 3.488796298048702), (750, 3.4322576960906397), (858, 3.4201736459942125), (1204, 3.4082636209585813), (904, 3.4006730856311274), (296, 3.3861281012958293), (48516, 3.3750608100897526), (1213, 3.3674086825755287), (260, 3.3618386308979566), (1221, 3.35936335726002)]), (288, [(858, 3.951261066177439), (48516, 3.9032115231892353), (50, 3.90146311322746), (1221, 3.890550033322118), (1089, 3.8814128831778345), (898, 3.8786515999450804), (4973, 3.8767389244149233), (1104, 3.8740182288154092), (3275, 3.8738253245670644), (2019, 3.855223203861922)]), (289, [(318, 4.183554015240016), (1204, 4.134979596335404), (858, 4.121173264993008), (904, 4.106257067369651), (2959, 4.1048824844596625), (898, 4.0896963043953765), (296, 4.082712975431639), (1276, 4.078860251849418), (50, 4.066018190647507), (1221, 4.060267835515257)]), (290, [(48516, 4.321987292017154), (1197, 4.301503311934323), (4973, 4.296023209222442), (1104, 4.2952295022402565), (2571, 4.292445903827016), (3275, 4.290311227617496), (7361, 4.287315085908708), (1199, 4.284677142747033), (2324, 4.27682025667735), (58559, 4.27639179820007)]), (291, [(318, 4.491678822465714), (750, 4.430662918918412), (1204, 4.4256899533488525), (858, 4.422795931198872), (2959, 4.411923944409868), (296, 4.385549499977717), (904, 4.385299831492281), (1213, 4.3724515775057355), (50, 4.371170980363045), (1208, 4.368189392298127)]), (292, [(750, 3.8917473966780918), (1204, 3.866610364742844), (904, 3.8553918711953967), (48516, 3.828826338396107), (50, 3.8276380697268775), (1213, 3.822307537767169), (912, 3.814870323684427), (1208, 3.8124000158075595), (898, 3.810084729737829), (1197, 3.8081930632938836)]), (293, [(318, 3.705590384754719), (1204, 3.6706358209048915), (750, 3.662862481433743), (858, 3.641808181596603), (904, 3.629820675503491), (2959, 3.627859510758219), (898, 3.6067419465539667), (475, 3.6040938878395004), (296, 3.602215776166697), (48516, 3.5988467137652664)]), (294, [(318, 3.560099565697493), (750, 3.509550658445668), (2959, 3.482438540039062), (904, 3.474488195286831), (48516, 3.444994994598539), (1213, 3.4364954362534244), (1208, 3.426215472548779), (912, 3.424825469767031), (1136, 3.423559422509255), (898, 3.420198392475347)]), (295, [(750, 4.102055561831652), (1204, 4.077273104481631), (904, 4.060520859870695), (1104, 4.0591262931586884), (3275, 4.035858279175545), (48516, 4.0356659057204185), (1208, 4.033634330423656), (260, 4.022954580773092), (1136, 4.020920654440599), (1197, 4.020565064245531)]), (296, [(750, 4.335774585652518), (858, 4.3074567123544885), (3451, 4.290884176874539), (1204, 4.286498810052685), (904, 4.275242173931082), (48516, 4.26455124193883), (1208, 4.261614226609169), (1221, 4.258925066478297), (1213, 4.258490462046512), (912, 4.255206964573385)]), (297, [(318, 3.519417153535551), (750, 3.4704736622063583), (858, 3.4514358341478744), (1204, 3.4442911704347687), (2959, 3.442233720970597), (904, 3.4272380907825934), (296, 3.416593933165724), (1276, 3.4032460304606413), (1221, 3.3967805783733325), (48516, 3.3959179743007857)]), (298, [(1204, 3.153595249788872), (904, 3.136956358173357), (912, 3.095072858111849), (1104, 3.0899232221269872), (3275, 3.087384327218982), (1276, 3.0866174213375035), (898, 3.080539661903074), (1199, 3.0796239147100284), (2329, 3.075970306092732), (2324, 3.068791199919367)]), (299, [(318, 4.202932347845063), (750, 4.162034572069698), (858, 4.137406627122309), (2959, 4.125311058894106), (904, 4.123520929949652), (1204, 4.104381479695995), (2019, 4.098455083674552), (296, 4.09806018410592), (50, 4.087948145841674), (48516, 4.084781586813554)]), (300, [(1204, 4.399065872406379), (750, 4.372854971446307), (858, 4.366237852324041), (904, 4.34526149062219), (1104, 4.331788283785425), (296, 4.327873639771281), (48516, 4.323336709839585), (50, 4.31716484637389), (1213, 4.314106671622846), (260, 4.302184291665943)]), (301, [(318, 3.9342042685755017), (750, 3.8821242252567782), (858, 3.8666804132427526), (2959, 3.855247466798736), (1204, 3.8551668067454616), (904, 3.845189642591338), (1213, 3.8118825935380354), (260, 3.807934017292815), (1221, 3.807103428384911), (1208, 3.8059564595608673)]), (302, [(318, 4.378197482257404), (750, 4.326646961693421), (1204, 4.297800402921614), (2959, 4.295961546648644), (904, 4.2876428391272166), (50, 4.258248186332769), (1104, 4.256449153434363), (912, 4.252309543067601), (1213, 4.2521453576370005), (1208, 4.2509429940078025)]), (303, [(318, 4.350805830960726), (750, 4.301891107062056), (858, 4.283098039724042), (1204, 4.27200490016751), (2959, 4.270286760820681), (904, 4.258305853734275), (296, 4.244887038711843), (48516, 4.239724868388498), (1104, 4.2340081157229355), (1213, 4.229629936647592)]), (304, [(750, 4.323208178594292), (858, 4.307797828968525), (2959, 4.297499657087442), (1204, 4.2961354137316645), (904, 4.290738209788536), (48516, 4.258656917803419), (50, 4.258164270841777), (1213, 4.25236351522588), (1221, 4.246861500919626), (912, 4.243959331730435)]), (305, [(1204, 4.159816686906932), (912, 4.104925460525474), (1208, 4.104785149366209), (898, 4.098053352813498), (1104, 4.091152300892319), (7361, 4.088215797951336), (246, 4.072985604796581), (2019, 4.069744200756474), (922, 4.068372689573061), (908, 4.057854629796638)]), (306, [(318, 3.996691138740815), (750, 3.948822436106686), (1204, 3.932540534176324), (858, 3.929011954480767), (2959, 3.920726606277226), (904, 3.9135821907310637), (296, 3.895076283734544), (48516, 3.8852481185097214), (50, 3.8809934944745392), (1213, 3.877753624073032)]), (307, [(750, 3.764671258275247), (1208, 3.686688272501721), (912, 3.685691008358013), (898, 3.6755615531767343), (1104, 3.675534434898431), (4973, 3.6750096125866847), (1276, 3.6705622049928435), (1199, 3.6629368340905555), (2324, 3.658155839442739), (2019, 3.6538750480077433)]), (308, [(750, 3.283045959859046), (1204, 3.266675605087448), (296, 3.228320922881329), (48516, 3.2149816017821298), (1213, 3.207360630267532), (898, 3.2016231403249344), (1208, 3.1982279186411846), (1104, 3.194588134898885), (4973, 3.1915770132271084), (3275, 3.188211641384437)]), (309, [(750, 4.180682686182468), (858, 4.158885169576207), (2959, 4.148646929603761), (48516, 4.113295333151386), (260, 4.100770816448528), (1221, 4.098146462089582), (1208, 4.091907762570188), (1197, 4.09048386048415), (3275, 4.090367877097012), (1136, 4.089883238116788)]), (310, [(318, 4.116237482964046), (858, 4.05086736542071), (2959, 4.042975313414852), (296, 4.013934559216965), (48516, 4.005772777222882), (3275, 4.005578315183187), (50, 4.001685292625644), (1213, 3.9997604563809563), (1199, 3.9946696494516036), (1104, 3.9940307009982314)]), (311, [(318, 3.400318265662319), (750, 3.3404165180919914), (858, 3.335174660759297), (904, 3.324795360432388), (2959, 3.324372263593952), (48516, 3.2971850540856047), (296, 3.2957156939344254), (50, 3.2878022193447034), (1276, 3.2815110619005265), (1213, 3.279182754768017)]), (312, [(318, 4.209803800808871), (858, 4.142358734757814), (2959, 4.132141848671316), (296, 4.106303213997497), (48516, 4.095808149024193), (50, 4.093248695474136), (1213, 4.087081121358361), (1221, 4.082115576823568), (1104, 4.077677806821949), (1197, 4.0760546788763525)]), (313, [(1204, 3.988602798294033), (904, 3.9824999024730445), (48516, 3.951942557532732), (1104, 3.9385692729692057), (898, 3.9308089591498123), (1276, 3.929594674335552), (4973, 3.928124205810949), (3275, 3.92245228677772), (7361, 3.919292845435827), (2329, 3.9169802086138246)]), (314, [(750, 3.7944521681846433), (858, 3.7799781289981755), (2959, 3.7705832691152947), (1204, 3.7687907163908387), (904, 3.758017270673276), (48516, 3.7339311280962875), (1213, 3.7249922921605116), (1221, 3.7193906456390775), (1208, 3.7183089455935474), (912, 3.715530914714164)]), (315, [(318, 3.9354552625749273), (750, 3.8951966835368155), (858, 3.866028454087551), (904, 3.864442936536305), (2959, 3.8611119159873), (296, 3.8357106964669896), (3275, 3.8299638112630934), (50, 3.8257213552087475), (48516, 3.8207666079635225), (1213, 3.8182515978088167)]), (316, [(318, 3.8285053682221686), (750, 3.773645369405146), (858, 3.763740676282254), (1204, 3.7620563201395667), (2959, 3.7500577792776597), (904, 3.7357231565752764), (296, 3.725863207590187), (48516, 3.715827820829012), (50, 3.7129753994532626), (260, 3.704916252585724)]), (317, [(1204, 4.007743381296298), (1221, 3.957917195807522), (912, 3.9516781410616972), (1197, 3.9508940770971326), (1136, 3.9485776725773514), (1276, 3.9448230685539927), (3275, 3.944404348678056), (1196, 3.9378782711465043), (1199, 3.935653902054837), (1198, 3.9351037451115247)]), (318, [(858, 4.268566576863567), (1204, 4.26214232774119), (2959, 4.258198196104702), (48516, 4.2212734339824385), (50, 4.218937146656351), (1213, 4.213018105461296), (1221, 4.207907074502639), (912, 4.2055549275190645), (1197, 4.2005861395679025), (1104, 4.192714595560329)]), (319, [(750, 4.525562749449946), (1204, 4.512519437545266), (904, 4.459577596240789), (296, 4.453734265274422), (50, 4.436160921066513), (260, 4.427478276496825), (1213, 4.426299495375048), (246, 4.423264714740835), (48516, 4.4218311112107855), (1104, 4.419741089912899)]), (320, [(318, 4.122551609153303), (750, 4.060948139158185), (858, 4.05984960967544), (904, 4.0532835878226665), (2959, 4.044985150636156), (296, 4.018254876207761), (912, 4.0113427583888175), (50, 4.004774669796433), (48516, 4.003010272618678), (1221, 4.002711752304872)]), (321, [(318, 4.229261107511511), (750, 4.176990443002398), (858, 4.160895977518092), (1204, 4.157607905403255), (2959, 4.153691345691386), (904, 4.142599182464773), (296, 4.122315949700547), (50, 4.113478881017919), (48516, 4.112298345434043), (246, 4.1103886841552795)]), (322, [(1204, 3.8482174320282994), (904, 3.824354015596014), (1104, 3.801481610233939), (48516, 3.7933163823872853), (1213, 3.788317941619694), (260, 3.7843429321643116), (1208, 3.7799551386469354), (898, 3.7756973013123556), (1089, 3.7731475129684138), (1197, 3.7729308509159476)]), (323, [(750, 3.816815901022104), (858, 3.803296028015398), (1204, 3.7967805710062335), (2959, 3.792154920223855), (904, 3.781477641442533), (48516, 3.750345137089691), (1213, 3.7455286772297307), (1221, 3.742590743733499), (1208, 3.741351341418111), (912, 3.736966803965034)]), (324, [(318, 3.8997136205446363), (1204, 3.833370707486388), (750, 3.8327978427796805), (2959, 3.8216381328397513), (296, 3.8034166312971194), (1276, 3.7868437101936068), (912, 3.785501908635729), (48516, 3.7847867316377566), (904, 3.781433287292578), (50, 3.780524432950029)]), (325, [(750, 4.044465104791713), (1204, 4.018716525395649), (2959, 4.0181749827143305), (50, 3.9798094482485977), (48516, 3.979720528263208), (1213, 3.9719369432267055), (260, 3.968818130737644), (1221, 3.967035707666076), (1208, 3.962989231211916), (912, 3.961008240644077)]), (326, [(750, 4.3304682128766085), (858, 4.311603407896486), (1204, 4.311257617702478), (904, 4.294379551102063), (1213, 4.255996115568854), (260, 4.252731602729781), (1221, 4.251869384163914), (1208, 4.2471137901930485), (912, 4.245913622593864), (1197, 4.24510835211849)]), (327, [(750, 4.468370272346283), (2959, 4.432302421661524), (1204, 4.42946214490789), (904, 4.42183660996127), (296, 4.40354139963835), (3275, 4.387418981236575), (260, 4.385057333022705), (1208, 4.383803708779419), (1199, 4.38332423665328), (1089, 4.379579026702336)]), (328, [(1204, 3.61881616014884), (1104, 3.5559259956284883), (1276, 3.549009400834371), (7361, 3.541714510236448), (898, 3.5392304382234463), (1199, 3.5379792466327933), (2324, 3.531839777895254), (2019, 3.5251606157313544), (922, 3.523260471779433), (5618, 3.5204094531435834)]), (329, [(2959, 3.5300609171328676), (1204, 3.5275852214794248), (246, 3.5242333754842945), (904, 3.5177116513916915), (296, 3.5100400952838875), (1208, 3.5026415405437135), (1267, 3.4967944270722398), (260, 3.4902790740821867), (1213, 3.486329657082284), (1221, 3.4856698146228795)]), (330, [(1204, 4.186778217136558), (1221, 4.135114152965323), (912, 4.130930061214267), (898, 4.12456628321776), (1276, 4.123934222887071), (4973, 4.1217026597791895), (1104, 4.119167695598629), (527, 4.099450016580848), (2019, 4.096690801298666), (5618, 4.096577507233083)]), (331, [(750, 4.132772131291125), (1204, 4.104543130282921), (904, 4.101130735587589), (48516, 4.071116061529562), (260, 4.061104877390199), (1221, 4.059125061479912), (1208, 4.055226655516402), (912, 4.052541913761239), (1104, 4.052252869919122), (1197, 4.050631298085062)]), (332, [(858, 3.995233896928053), (48516, 3.946651240968046), (260, 3.9360448462461215), (1221, 3.935471771818382), (1197, 3.9276975109930845), (1136, 3.9250511205189316), (898, 3.921809411681894), (1276, 3.9208915250437664), (1104, 3.9186289506493246), (3275, 3.9183842079892472)]), (333, [(318, 3.677600541939148), (750, 3.6294893101232657), (858, 3.6089453843593606), (898, 3.606424308199769), (2959, 3.6036727111121376), (1204, 3.5953659408487755), (904, 3.5897844593959594), (296, 3.578733592131318), (50, 3.56796419886888), (1104, 3.5619462154139536)]), (334, [(858, 3.8734698649684494), (1204, 3.8696959547759047), (904, 3.8516801605467528), (48516, 3.824935550803871), (50, 3.823760416981297), (1213, 3.816788392056096), (1221, 3.8129946990588475), (912, 3.810853765335714), (1208, 3.8101606071235152), (1104, 3.8068717822360534)]), (335, [(750, 4.139472858190067), (858, 4.128123080488732), (904, 4.119620155066124), (2959, 4.114851654564939), (1204, 4.094110781094057), (48516, 4.082736014896425), (1208, 4.07848488287638), (912, 4.075710639330616), (260, 4.0732679031682935), (1213, 4.071103281672069)]), (336, [(750, 4.526264603173611), (1204, 4.496996305672333), (904, 4.48585145740678), (48516, 4.45678314210965), (1213, 4.452540492235171), (1221, 4.45082710925808), (1208, 4.449085562845741), (260, 4.448494043928586), (1104, 4.447819425856201), (912, 4.447039209731376)]), (337, [(750, 4.648805705481827), (858, 4.630393844667137), (1204, 4.621899603637352), (2959, 4.61948984644367), (904, 4.610652866638779), (296, 4.592189024987193), (48516, 4.584283985654822), (1221, 4.572987491026111), (1213, 4.572730860142147), (1104, 4.569241400525285)]), (338, [(1104, 3.5618883566695603), (750, 3.5452677839775566), (898, 3.5272447330888856), (1204, 3.526293289546159), (904, 3.519234596600672), (48516, 3.5014163867817105), (1213, 3.4935394242271025), (260, 3.4890662831965735), (1136, 3.483977776190458), (912, 3.480813431187653)]), (339, [(1204, 4.324299409054274), (50, 4.278150882901672), (260, 4.269029243421167), (1208, 4.261116429869936), (912, 4.260645441576826), (1197, 4.260085468463626), (1089, 4.2569036516512515), (1136, 4.256572148094152), (1276, 4.254698227982598), (1104, 4.254257569863825)]), (340, [(750, 4.485287338921351), (858, 4.468453157146753), (2959, 4.458509663037391), (904, 4.445085031589639), (48516, 4.426372565383563), (1204, 4.424480773697226), (1213, 4.422965355498742), (912, 4.419616991172703), (50, 4.414103917804936), (1276, 4.413459136399631)]), (341, [(318, 4.360955889810213), (750, 4.313992973863067), (858, 4.295406897117024), (2959, 4.282278314126257), (904, 4.279234303385903), (1204, 4.270945324705899), (296, 4.258447469608234), (48516, 4.2469559147509965), (50, 4.244570093762758), (1213, 4.238074273382579)]), (342, [(318, 3.8344570215724354), (750, 3.7868955262369566), (858, 3.765904932730435), (1204, 3.7640465250092956), (898, 3.7451716723045423), (904, 3.7438289911334763), (296, 3.731755261553123), (48516, 3.7257170103384905), (50, 3.7174006964048805), (1104, 3.7147652444452746)]), (343, [(750, 4.286550369900576), (1204, 4.264366786022228), (904, 4.251433152092819), (1104, 4.208330889726303), (1197, 4.204003400442078), (1208, 4.201770105089853), (1136, 4.200139569860596), (3275, 4.197644063595573), (4973, 4.19731450677222), (912, 4.196290333735142)]), (344, [(750, 4.160821539638421), (1204, 4.150480105047427), (858, 4.139681222309396), (2959, 4.1305648568483395), (904, 4.121594964176024), (296, 4.104509520257876), (48516, 4.091962589519962), (50, 4.090383881616527), (1213, 4.084103301755714), (1221, 4.081688606477559)]), (345, [(318, 4.384528940898518), (750, 4.31835427176722), (858, 4.317387206324019), (2959, 4.307959896263433), (1204, 4.295595915565971), (904, 4.290648410259389), (296, 4.280191129758729), (48516, 4.268858983733463), (50, 4.265828917880739), (1213, 4.263642754510763)]), (346, [(318, 4.167362786446475), (1204, 4.090004063913828), (48516, 4.0526877742265635), (1213, 4.045058249039824), (260, 4.042239989933254), (898, 4.035558125007838), (1197, 4.03133259481544), (1089, 4.030754335400215), (1136, 4.029806244237174), (1104, 4.0268651703897556)]), (347, [(318, 4.189451807300271), (750, 4.12612531839377), (858, 4.120873721318244), (2959, 4.109413042735538), (904, 4.1036530651933), (1204, 4.1003838065380664), (898, 4.098827560405056), (296, 4.087058809528352), (48516, 4.073302650045361), (50, 4.072819372757264)]), (348, [(1204, 4.682337775361642), (904, 4.671202387990754), (48516, 4.644372199634695), (922, 4.635252500914795), (3275, 4.629909557768009), (1276, 4.628789788558668), (1197, 4.626027989359593), (1104, 4.62597103045683), (1089, 4.624853297356768), (1199, 4.624701407889551)]), (349, [(318, 4.247347549614359), (898, 4.1949515985678), (750, 4.190042382224084), (858, 4.178982043422418), (2959, 4.170186348755664), (904, 4.162254569400763), (1104, 4.150262999626615), (1204, 4.141692752994734), (1276, 4.140590225880003), (48516, 4.1391391340612635)]), (350, [(318, 4.006219647151368), (750, 3.9626893656390134), (1204, 3.9287331300439714), (2959, 3.928085682603518), (904, 3.9218410648710718), (296, 3.90036584000935), (48516, 3.8927907153245465), (50, 3.8899537194111065), (1213, 3.8833033306525593), (1221, 3.8818975712616)]), (351, [(318, 4.183589455261204), (750, 4.1305351951145495), (858, 4.118228215930045), (1204, 4.105007998473377), (904, 4.100799346469438), (50, 4.066858872786594), (1213, 4.0612911875386635), (260, 4.057749708079826), (1221, 4.05653412393557), (912, 4.05257944697536)]), (352, [(750, 4.229212110659141), (858, 4.216264045406126), (1204, 4.204255039751423), (904, 4.1968190022468566), (1221, 4.155475543111393), (1208, 4.150148683719943), (912, 4.15007188465631), (1197, 4.14644285485444), (1136, 4.145646349128287), (1104, 4.144663989672615)]), (353, [(750, 4.105621846092975), (858, 4.094518099707942), (1204, 4.082927725654188), (2959, 4.082372636141924), (904, 4.064733866797023), (48516, 4.047218209354469), (50, 4.044024603648327), (1213, 4.037934614050467), (260, 4.034074368163282), (912, 4.0332013698480935)]), (354, [(904, 4.1356997754023865), (1213, 4.101111913267047), (1221, 4.095269943459789), (912, 4.0910818490730545), (1197, 4.088641576843274), (898, 4.088291791216827), (1136, 4.0860616730505015), (1276, 4.084011184476064), (1104, 4.083657061768089), (1198, 4.073223880170541)]), (355, [(318, 4.357796938274103), (1204, 4.34224359028174), (750, 4.3113634648070445), (858, 4.287438758285461), (2959, 4.281020779086028), (904, 4.260448792028267), (1104, 4.254249503508467), (296, 4.254000203532273), (50, 4.243460095730542), (3275, 4.237771018078279)]), (356, [(750, 4.328754427223815), (858, 4.312242113292362), (1204, 4.309332967135775), (904, 4.2925490200996235), (296, 4.276434770648432), (1213, 4.2568085774774245), (260, 4.253589706799371), (1221, 4.251905061554391), (1104, 4.242127435026487), (1276, 4.239386805462623)]), (357, [(750, 4.365267076281111), (1204, 4.342539828312337), (904, 4.326460024169037), (912, 4.281779237568668), (4973, 4.273854553371449), (2571, 4.269436484757509), (3275, 4.268469458907262), (1199, 4.261799483026641), (2019, 4.249703104456092), (5618, 4.2471626845381)]), (358, [(318, 3.9366106978348903), (750, 3.8771659119751254), (858, 3.8705296651269), (2959, 3.85996578770624), (904, 3.8553579030945904), (1204, 3.8285696105688207), (296, 3.8281174100946607), (1213, 3.8190170010390863), (50, 3.8189142535561076), (48516, 3.818880698253307)]), (359, [(318, 4.01868594770816), (750, 3.9706215479721707), (858, 3.9522484577387154), (2959, 3.9402051750509774), (904, 3.9392156784674413), (1204, 3.931455936392078), (48516, 3.9094535319461388), (50, 3.9031819125180545), (1199, 3.8957923624173176), (1213, 3.8954484300579932)]), (360, [(318, 4.128274811330901), (750, 4.0853187738159535), (858, 4.064404224416086), (2959, 4.054383324929076), (904, 4.046236434163613), (3275, 4.038481210353715), (296, 4.025344056660805), (48516, 4.01914283410854), (50, 4.015228060895996), (1221, 4.0070280120241435)]), (361, [(750, 3.871113595456235), (2959, 3.8483593245458048), (1204, 3.8406742358382138), (904, 3.834139651368905), (296, 3.8241692894316377), (48516, 3.8122101635485692), (50, 3.809628179947158), (1213, 3.8025292643820854), (1221, 3.799289582999344), (1208, 3.797416485206703)]), (362, [(750, 4.442246062396881), (1204, 4.41361251902104), (904, 4.409593883412635), (912, 4.368442410270293), (1136, 4.358770492923417), (1197, 4.357759824650252), (4973, 4.3557073220997005), (1276, 4.352315169470766), (898, 4.349196268313983), (3275, 4.3482274862088275)]), (363, [(750, 3.862728664594351), (1204, 3.8593949087274395), (858, 3.8443467881263156), (2959, 3.831773544169141), (904, 3.820877778316216), (1213, 3.7902106410341467), (48516, 3.7892053146263667), (1104, 3.7880781811786943), (912, 3.785448757735899), (1221, 3.7830856074601797)]), (364, [(318, 4.470025557625492), (750, 4.416312985073381), (1204, 4.403844984584576), (2959, 4.392393759017394), (904, 4.376864529935929), (296, 4.369962342890371), (48516, 4.364989553768294), (50, 4.350353835470103), (1197, 4.343817376916297), (1221, 4.343648703625515)]), (365, [(750, 3.550387766337599), (858, 3.5320217384821073), (2959, 3.5214528451675404), (904, 3.515188729952016), (1204, 3.5108718092379987), (296, 3.494761038568619), (48516, 3.4868247660791782), (50, 3.4819358817055845), (1213, 3.477523506066453), (1221, 3.471307430157498)]), (366, [(318, 4.252689415923529), (750, 4.205889496235894), (858, 4.184274472849697), (904, 4.165721358501136), (296, 4.143663183987257), (908, 4.14317891047326), (1204, 4.141546260299827), (1213, 4.137448899644738), (50, 4.134141361461922), (1104, 4.133398330193563)]), (367, [(750, 4.313001374243975), (1204, 4.2866030851100705), (2959, 4.283048055602524), (904, 4.277456555215049), (296, 4.2583442703507135), (48516, 4.246896518450933), (50, 4.245532609510194), (1213, 4.237403835931871), (1208, 4.232694179885661), (1104, 4.2313943395751625)]), (368, [(318, 3.6299105987347824), (750, 3.5803590839855284), (1204, 3.5540448298736407), (2959, 3.552456212363852), (48516, 3.513743741842126), (912, 3.4972997761342395), (898, 3.494752045466196), (1136, 3.4924458058047394), (4973, 3.4894509535641185), (1276, 3.4883692951244845)]), (369, [(318, 4.016658770913202), (750, 3.964120991982159), (858, 3.9508347565124313), (1204, 3.937750387602633), (904, 3.9313220897672334), (296, 3.9138104000129568), (48516, 3.903991204372385), (50, 3.900092346285486), (1213, 3.8960604359925526), (1221, 3.8877268149844677)]), (370, [(750, 3.9771043825418273), (858, 3.958043751515143), (1204, 3.9438229245335656), (904, 3.938877503363033), (48516, 3.9120853389760395), (1213, 3.9037865262340308), (1221, 3.896681305883989), (912, 3.8942712682360785), (1208, 3.8939033154565936), (898, 3.887498874792532)]), (371, [(318, 4.765988932336678), (750, 4.723059919409322), (858, 4.700995161076973), (1204, 4.700392560443637), (2959, 4.688747742500196), (904, 4.683880669808588), (898, 4.676695656942903), (1104, 4.6760486007941555), (296, 4.658078556923841), (50, 4.649628414232362)]), (372, [(750, 3.891959523015508), (2959, 3.8633865751276386), (48516, 3.8259451976672896), (912, 3.807700909744999), (1276, 3.802600631130162), (3275, 3.8003167377627167), (898, 3.800181665687524), (4973, 3.799614953082138), (2571, 3.7971065641633057), (1104, 3.794601006459294)]), (373, [(750, 3.9238850053307743), (1204, 3.916031542631237), (858, 3.9074110436286884), (2959, 3.8964598977096294), (904, 3.885827458832694), (48516, 3.8628276080336437), (1213, 3.8489606923326485), (260, 3.8479215058220735), (1221, 3.8448580006506687), (1104, 3.8414713066813304)]), (374, [(750, 4.132354090518847), (858, 4.116771928599695), (1204, 4.106359839266822), (2959, 4.104364568221988), (904, 4.093710002356507), (3275, 4.071432367485758), (898, 4.066290941940068), (50, 4.0656471415287685), (48516, 4.065479152070169), (260, 4.055341975490691)]), (375, [(750, 4.32845000266412), (858, 4.326183234932828), (898, 4.313342416520831), (2959, 4.30937352960166), (1204, 4.301851044486137), (904, 4.299005768274372), (48516, 4.285888726539152), (296, 4.283460859437545), (1104, 4.272624307295179), (1213, 4.268604758384183)]), (376, [(318, 4.461066394382886), (1204, 4.397412381637432), (2959, 4.383347045826121), (904, 4.3747469312539575), (296, 4.357454717123145), (50, 4.344569118049103), (1213, 4.339973736703576), (1208, 4.329659696744804), (898, 4.324819788799546), (1276, 4.324345519812518)]), (377, [(318, 4.396215217194816), (750, 4.345645568152599), (858, 4.327321741831459), (1204, 4.325280145839005), (2959, 4.317289241259724), (904, 4.308775441623588), (296, 4.29048337441533), (50, 4.279522318012283), (48516, 4.277138141241246), (1213, 4.274687962308498)]), (378, [(750, 4.220272827586152), (1204, 4.214257645408747), (904, 4.179424218929498), (296, 4.155537456181796), (898, 4.148120431607352), (50, 4.144403589442341), (1208, 4.140613817842013), (1276, 4.139462011760771), (260, 4.134599758694095), (741, 4.131755642523502)]), (379, [(750, 3.9857108995474824), (858, 3.96466276051454), (2959, 3.9567001340874817), (904, 3.9473376664985085), (1204, 3.9297312555433934), (48516, 3.925278901922366), (50, 3.9188631555406976), (1221, 3.911333089603558), (260, 3.9105890003529873), (1208, 3.9082309780649616)]), (380, [(1204, 4.17136705470155), (904, 4.159727009617752), (48516, 4.128683181848924), (912, 4.11369283001679), (4973, 4.102829996804061), (898, 4.100211983318975), (7361, 4.094885057606108), (1104, 4.094413558382657), (2329, 4.093267456902849), (2324, 4.086395077825062)]), (381, [(750, 4.123488258527532), (858, 4.106750813491136), (1204, 4.0947895209777), (904, 4.085488592469068), (296, 4.070365846395685), (1213, 4.0505935310809065), (1221, 4.046403342435158), (912, 4.04346446206047), (1089, 4.036202794959424), (898, 4.03564847414512)]), (382, [(904, 4.008317366129507), (48516, 3.9806733243838397), (1213, 3.9744632824694275), (1221, 3.9689092405910684), (1208, 3.967265819654021), (1197, 3.9618222866864774), (1089, 3.958746895576601), (1136, 3.9584024872428594), (898, 3.9581516212894714), (4973, 3.9572938384117182)]), (383, [(318, 4.281792565690863), (750, 4.23877521397183), (904, 4.216081425741304), (858, 4.211646151622454), (1204, 4.209659539799122), (2959, 4.205548627573577), (296, 4.185931875164884), (48516, 4.175707764662955), (50, 4.169668200065475), (1199, 4.168544574538674)]), (384, [(318, 3.846894698993172), (750, 3.796654927836082), (858, 3.7799964245647413), (904, 3.759522010336066), (48516, 3.73570278292592), (50, 3.730198017972037), (1213, 3.7231257313140884), (1221, 3.7213546753533406), (260, 3.72015531415712), (912, 3.7178860069516277)]), (385, [(2959, 3.9678553744378817), (904, 3.960739868192736), (48516, 3.9294295532810435), (1104, 3.917224413502758), (912, 3.9148402208666604), (898, 3.911204052902969), (1276, 3.9096274812005385), (1089, 3.908322809658978), (4973, 3.9035267222922365), (3275, 3.9032321858834393)]), (386, [(750, 3.573746183242569), (858, 3.5548112524710747), (1204, 3.549176111811554), (2959, 3.546443472693157), (904, 3.5308379092465776), (48516, 3.517678706023573), (1213, 3.498499051550619), (260, 3.4973367584095865), (1221, 3.4959830180178284), (3275, 3.4953444802904703)]), (387, [(898, 3.8138633526161394), (7361, 3.8108716993038207), (58559, 3.7995292800789033), (527, 3.7965020391964637), (1225, 3.791387513681411), (246, 3.7894742816310645), (4011, 3.7751546458032594), (7153, 3.773968920242109), (475, 3.7697632658884004), (1233, 3.767958603448059)]), (388, [(318, 4.21622835363466), (750, 4.161254518117641), (1204, 4.159030573456444), (858, 4.145647609609631), (741, 4.141907277383011), (2959, 4.136507619309229), (296, 4.107708690081787), (904, 4.107196843238996), (48516, 4.104924804511983), (50, 4.097168909599537)]), (389, [(318, 4.585769738748807), (750, 4.5549922733118535), (1204, 4.526673250250551), (858, 4.512385650653731), (2959, 4.508134776190509), (904, 4.500996650693554), (296, 4.489238791527865), (1104, 4.480812776260702), (48516, 4.4771816782366445), (50, 4.470133402997209)]), (390, [(318, 4.279317913775608), (750, 4.2309184644874), (1204, 4.214933789139806), (858, 4.211928550947648), (904, 4.190040870076204), (296, 4.17403457825198), (50, 4.164246265319696), (898, 4.16285415103603), (48516, 4.159686286732111), (1213, 4.152133902123583)]), (391, [(48516, 3.9828318175250526), (1276, 3.958577854094359), (898, 3.952081392380022), (3275, 3.9494720268746457), (7361, 3.948246651516358), (1198, 3.9470901189788687), (2329, 3.9467138087421834), (58559, 3.9359679401247156), (5618, 3.9321968123989364), (922, 3.9273168070400333)]), (392, [(318, 3.9422643474383685), (750, 3.8750137287303894), (858, 3.8667352276094964), (2959, 3.86602762179281), (1204, 3.8492593607622676), (3275, 3.847073549813694), (904, 3.8461040973866423), (296, 3.8383181090347853), (48516, 3.8360617650747724), (50, 3.82357680916887)]), (393, [(318, 4.286206680315502), (1204, 4.222384053534744), (858, 4.216846812511157), (904, 4.201231332337774), (296, 4.181283895865271), (50, 4.1702281672066555), (48516, 4.168329924083189), (1213, 4.164492308709464), (260, 4.15977694670428), (1221, 4.157421732121928)]), (394, [(318, 3.7979892750563655), (750, 3.7438452425834914), (858, 3.7345844920779627), (1204, 3.7286743793177504), (2959, 3.722015976992945), (904, 3.7095675220006834), (296, 3.694094479098801), (48516, 3.691120323650233), (260, 3.6729576418775127), (1213, 3.6705077600599916)]), (395, [(318, 3.8994832123601846), (750, 3.839434373635549), (858, 3.832883420426637), (1204, 3.8307656515172925), (2959, 3.822495322120557), (904, 3.816106317131549), (48516, 3.78697619858969), (50, 3.7806882643364226), (260, 3.7730420974149084), (1213, 3.7700767651329286)]), (396, [(750, 3.8246859195892164), (858, 3.803105306201397), (904, 3.7991691461577504), (2959, 3.7984319126188577), (741, 3.7826773108628546), (296, 3.7692586477736096), (898, 3.760790610356396), (1104, 3.759970063469866), (1204, 3.756803908412454), (1213, 3.75506035346643)]), (397, [(318, 4.297606926165714), (1204, 4.2433138290399945), (858, 4.239448478532855), (2959, 4.225163508031173), (296, 4.197959263907446), (904, 4.1971627293403), (1208, 4.193618702676698), (50, 4.190976915982294), (48516, 4.186617293468338), (1213, 4.182941778160628)]), (398, [(318, 4.494682741943655), (1204, 4.460790524479949), (750, 4.451004960268423), (858, 4.430213212651514), (2959, 4.415396624321473), (904, 4.404974544368536), (296, 4.392825126451701), (50, 4.37653594860103), (1276, 4.372434770056588), (1208, 4.3693231987436665)]), (399, [(318, 4.217548049993302), (1204, 4.177889787630415), (750, 4.160823864588946), (858, 4.148141541355476), (904, 4.125768403698383), (50, 4.099699897293693), (48516, 4.095245262761513), (1221, 4.090194371827351), (912, 4.089381012538207), (1213, 4.088792370687046)]), (400, [(750, 4.536931025084862), (1204, 4.510743379366229), (904, 4.475714519723236), (1276, 4.451073184823441), (1208, 4.440628280823082), (912, 4.43414300973505), (1089, 4.43352835378008), (4973, 4.429922626766983), (1199, 4.427422231246512), (1136, 4.425730823376044)]), (401, [(318, 4.0634884130415685), (750, 4.011132154391956), (858, 3.99756999477279), (2959, 3.985728474913244), (904, 3.9785552702916585), (1204, 3.977461051799972), (296, 3.9613873411536686), (48516, 3.9491166834668046), (50, 3.9468336054812125), (1104, 3.9457153422379574)]), (402, [(318, 4.4193626022272126), (750, 4.365905703966286), (858, 4.352142080399537), (2959, 4.3403215653623155), (1204, 4.334192992788369), (904, 4.333823636746869), (1104, 4.303644234207806), (50, 4.3022150904531715), (48516, 4.300325786379515), (898, 4.297079109649454)]), (403, [(318, 4.209168188403828), (750, 4.171386020660041), (858, 4.1422151298367105), (2959, 4.132472668518069), (904, 4.129689442514603), (1204, 4.126883457407246), (50, 4.091359525988181), (48516, 4.089794787072404), (260, 4.089470273755504), (1208, 4.086045003885856)]), (404, [(750, 4.001241248894894), (858, 3.9775812036259084), (904, 3.969229418734399), (1204, 3.969149717564537), (2959, 3.9658731400086333), (50, 3.9273095552379327), (48516, 3.9272448912244817), (1213, 3.9207437362322497), (1208, 3.919181677697665), (260, 3.9187385679195836)]), (405, [(318, 4.388593911873875), (858, 4.322184949028563), (1204, 4.312304703666768), (904, 4.3014325548139), (50, 4.272177194311628), (48516, 4.271724425229256), (260, 4.261303579646788), (1221, 4.260203874022594), (1104, 4.257042968727419), (912, 4.256892386270496)]), (406, [(318, 4.0684714610242185), (750, 4.026593049641215), (1204, 4.016857955471354), (858, 4.00352038484282), (2959, 3.9898278664811335), (1276, 3.9753322686718495), (904, 3.9744716562567928), (296, 3.961755477131676), (922, 3.9569708400706514), (50, 3.9518501452257926)]), (407, [(318, 4.308842061893757), (750, 4.259997519633606), (1204, 4.258592109390567), (858, 4.242839379487018), (904, 4.231113777643482), (296, 4.2001538465542785), (1233, 4.189423856812297), (50, 4.187138660055761), (48516, 4.184812969010586), (1221, 4.1830660049346475)]), (408, [(750, 4.422378141590221), (1204, 4.406780433220745), (858, 4.406218577076093), (2959, 4.39616340847902), (904, 4.386940939531078), (296, 4.370160791038082), (48516, 4.36038192885796), (50, 4.357347084468982), (1213, 4.3503814084132), (1221, 4.346295000468881)]), (409, [(750, 4.242980260401051), (1204, 4.222960988620672), (2959, 4.213632330777167), (904, 4.200090844491933), (48516, 4.178502028194917), (898, 4.17721384608398), (50, 4.176940108593732), (1208, 4.1586414168449455), (1089, 4.1566616698688055), (1104, 4.155465156577109)]), (410, [(858, 4.378254692147998), (1204, 4.374734433615213), (2959, 4.368355058907681), (48516, 4.3300285355161305), (50, 4.3296076843380895), (1213, 4.320864493263459), (1221, 4.319003957453008), (1208, 4.313168782153773), (898, 4.312415286559316), (3275, 4.310493135041236)]), (411, [(750, 3.9451346865828905), (1204, 3.9317550777974395), (858, 3.9264477633816406), (2959, 3.9159463594635064), (904, 3.904525580782944), (48516, 3.8779723238002517), (1213, 3.8734609077293207), (260, 3.8672792554165074), (1221, 3.8661855022476947), (1208, 3.863383958543275)]), (412, [(318, 4.276484265484844), (750, 4.2279909470978705), (1204, 4.2084282298725935), (2959, 4.1997340460303585), (296, 4.174568039528526), (50, 4.161562927447158), (48516, 4.159367761435378), (1213, 4.151370115519096), (260, 4.150308481376409), (1208, 4.150137623295943)]), (413, [(750, 4.593067075121028), (904, 4.568432440477871), (1204, 4.553646751588727), (48516, 4.536186705766122), (912, 4.532964257230647), (50, 4.529664461812626), (260, 4.5192343776649535), (1136, 4.518967505889372), (1208, 4.513663598063002), (1197, 4.513402872621189)]), (414, [(898, 4.202807903371061), (2324, 4.183283855892771), (922, 4.1711961587660635), (246, 4.167019475964698), (1203, 4.136622731040014), (2160, 4.13031621979656), (1258, 4.1202648730436), (3451, 4.113773050041768), (3468, 4.112161571402584), (930, 4.103171895552456)]), (415, [(1204, 4.3157356532753735), (1208, 4.250374629377544), (912, 4.24685928786785), (1089, 4.244075432317844), (4973, 4.241468250844441), (1136, 4.241187735409084), (1196, 4.232568633618879), (898, 4.2309698395328725), (3275, 4.228339309071881), (1104, 4.228299406150529)]), (416, [(858, 3.6239099383961437), (1104, 3.6070068048756427), (904, 3.6011973726262396), (1204, 3.5954648996892042), (50, 3.575809085569962), (1213, 3.5715929586336945), (48516, 3.571380186094795), (1208, 3.571144824332426), (1221, 3.5665274698786016), (898, 3.5623229985971108)]), (417, [(750, 4.5505239822318), (1204, 4.534250330073517), (904, 4.5170560701192475), (48516, 4.491861260468006), (50, 4.486453534038338), (260, 4.479950108429011), (912, 4.475900163047377), (1136, 4.469394490293977), (1208, 4.469242980786905), (1197, 4.469205605885597)]), (418, [(750, 4.052945265438019), (858, 4.035288454941319), (904, 4.026050678982361), (1204, 4.025032727857222), (48516, 3.9941580861413217), (1104, 3.9914047704421187), (260, 3.9780026847614547), (1213, 3.976398617408777), (1221, 3.9725337808898007), (1208, 3.970412693353624)]), (419, [(750, 4.290051099859647), (1204, 4.28147287757661), (904, 4.25373358918534), (48516, 4.223032123043378), (260, 4.21468471297317), (1104, 4.21054825274919), (1276, 4.209959205465231), (1197, 4.208119785763065), (912, 4.207482988481958), (1136, 4.205920385783634)]), (420, [(858, 4.187781894886884), (1204, 4.171826582894126), (904, 4.166578803313415), (48516, 4.137900016297154), (50, 4.137359258330421), (1213, 4.130789472604549), (260, 4.1279674774655986), (912, 4.125437227328401), (1221, 4.12517869754079), (1197, 4.118736093248768)]), (421, [(1204, 4.336434556646952), (750, 4.331082266707526), (858, 4.323774989535851), (2959, 4.312523536025193), (898, 4.294619687487059), (1276, 4.2927799699637355), (296, 4.291163916351867), (50, 4.271650252465373), (1197, 4.268602886411892), (1213, 4.268043074782478)]), (422, [(1204, 3.8764827349908364), (296, 3.851832506779133), (48516, 3.843821534248485), (50, 3.839712966198077), (1221, 3.831059717436667), (1208, 3.8283469045508967), (1089, 3.8213626111407564), (1197, 3.8204927859258375), (898, 3.818669325293486), (1136, 3.8169377200252064)]), (423, [(1204, 4.14237051616017), (750, 4.113848998882863), (858, 4.108249374116384), (2959, 4.092298707236951), (904, 4.070900109531789), (898, 4.06765423506158), (50, 4.061093866324052), (1104, 4.058749320712799), (48516, 4.057451211865752), (1221, 4.0510157461707665)]), (424, [(750, 4.103968323335555), (1204, 4.078850411470305), (904, 4.066694407508089), (260, 4.027208351334318), (912, 4.022341301133242), (1208, 4.021861131435893), (1197, 4.019719585546615), (1136, 4.017941438893295), (4973, 4.013823328474988), (1276, 4.0136562541781435)]), (425, [(1204, 4.0424712072563205), (904, 4.031525687851362), (48516, 4.003576144911027), (1213, 3.9963177029121058), (1208, 3.987794586946776), (912, 3.987235348197738), (1197, 3.9840859317435924), (1276, 3.977703339354336), (898, 3.9761618162006274), (1104, 3.9743724704492114)]), (426, [(750, 4.114843167797443), (858, 4.091168906550029), (2959, 4.082375974474315), (904, 4.073200371282918), (1204, 4.065821660308396), (48516, 4.0470230985334545), (50, 4.042788058045448), (1213, 4.039148394932211), (260, 4.0331340681304), (1221, 4.031641807546108)]), (427, [(318, 3.821558800817696), (750, 3.769746356186954), (858, 3.7563631911042945), (1204, 3.749679505905693), (2959, 3.7427606896792747), (904, 3.7282791252408525), (50, 3.703944540293384), (48516, 3.7014545776968752), (1213, 3.698876178325633), (1221, 3.694939806192754)]), (428, [(318, 3.6256175900572813), (750, 3.574731079980654), (858, 3.558344101647207), (1204, 3.5515122497023737), (904, 3.5417163199466115), (50, 3.5100760658788603), (48516, 3.5098788486294548), (1213, 3.5018622834990922), (1221, 3.4978441948266186), (912, 3.495291581628277)]), (429, [(318, 4.536181228954074), (750, 4.481909299453608), (858, 4.466879207667835), (2959, 4.458775529849751), (904, 4.4502035243486056), (296, 4.431891077518954), (898, 4.431374243819984), (1204, 4.4237355815646575), (50, 4.420751771562638), (48516, 4.41939886327599)]), (430, [(750, 4.220795014623648), (1204, 4.201451170456757), (2959, 4.187719032762509), (904, 4.182027469528175), (296, 4.161224675101951), (1104, 4.159201194738601), (50, 4.147780285470161), (48516, 4.146727806348893), (1208, 4.141568408712659), (260, 4.139914377711589)]), (431, [(318, 3.752727134756496), (750, 3.697734247969096), (858, 3.6838285376736617), (2959, 3.67333961581004), (898, 3.668805859142194), (1104, 3.650054796136874), (296, 3.6452199032926575), (904, 3.642496749797776), (1204, 3.6364836791063344), (50, 3.6314333483690446)]), (432, [(750, 4.157717558064568), (1204, 4.1328543914264015), (904, 4.122937720577304), (1213, 4.087458609462987), (1208, 4.078813233817), (1197, 4.0753033574420625), (898, 4.074785493679631), (1104, 4.073986285305674), (1089, 4.073340285065444), (1136, 4.072751326723171)]), (433, [(750, 4.046907901334996), (1204, 4.026134035641032), (858, 4.024286993153539), (3275, 3.996082921496832), (904, 3.996007663856091), (246, 3.9827266312316763), (898, 3.982613114246226), (1213, 3.9699309996431342), (2788, 3.9658939485954847), (48516, 3.9648271417047036)]), (434, [(1204, 4.167420498884557), (904, 4.158214819863447), (50, 4.128161744769919), (1221, 4.117032635965685), (912, 4.112987502695349), (1104, 4.110005940826907), (898, 4.106286423062107), (4973, 4.1045802418271835), (1276, 4.103062618705471), (3275, 4.095905711717684)]), (435, [(750, 4.530097612681693), (1204, 4.499077390877281), (904, 4.4977277576119965), (296, 4.4735279517121525), (3275, 4.4608695109822305), (898, 4.456620704346658), (1213, 4.454818905727548), (260, 4.4489445344546485), (246, 4.446136289664744), (1199, 4.439465244581507)]), (436, [(750, 3.9441850415365955), (1204, 3.937334471650303), (858, 3.9316615673432453), (2959, 3.920566608920585), (904, 3.9149124730752303), (296, 3.8942419305434925), (48516, 3.881481570415739), (50, 3.8806288966673783), (1213, 3.8768057482556566), (1221, 3.871751725515773)]), (437, [(750, 4.252167044928411), (858, 4.233342102112498), (2959, 4.2220620178252215), (904, 4.211559018092151), (48516, 4.184226865638274), (1221, 4.174839743625014), (912, 4.172900132600599), (1136, 4.163637842467464), (1089, 4.16313494270229), (1276, 4.161399611777707)]), (438, [(750, 3.9179209352509883), (858, 3.9034556781428447), (1204, 3.8944771514935748), (904, 3.8809103347995375), (296, 3.8668394602879004), (50, 3.85354779210181), (1213, 3.8477137725420225), (1221, 3.842289719081522), (912, 3.839046044312145), (1208, 3.8388503369085187)]), (439, [(750, 4.278023100178341), (858, 4.245137024123998), (2959, 4.234185719278626), (904, 4.230316483174061), (1204, 4.225064795369944), (1104, 4.211682445788708), (296, 4.205876439575781), (50, 4.195039001642089), (898, 4.191199063041172), (260, 4.191167060297227)]), (440, [(318, 4.294869962671332), (750, 4.255165597712257), (858, 4.2287148334332265), (1104, 4.226870908113435), (2959, 4.214811319388595), (1204, 4.207840355289417), (898, 4.204593376425216), (904, 4.19987800330405), (296, 4.192082560866504), (50, 4.17825879913394)]), (441, [(318, 4.702200964590961), (750, 4.6579624790947065), (1204, 4.645649837146443), (858, 4.639392490068251), (904, 4.626346177349194), (48516, 4.5907934728156246), (1213, 4.587868591491919), (1208, 4.585934577837261), (50, 4.585496302746771), (912, 4.582330514946693)]), (442, [(318, 2.963462727971438), (1204, 2.9211880681907103), (858, 2.8948707579729347), (2959, 2.8823290291440054), (750, 2.880312853571174), (898, 2.8622719506010132), (296, 2.8579820722728693), (904, 2.8575199838564638), (1213, 2.845140368180678), (48516, 2.8444812705435836)]), (443, [(750, 4.331446313061155), (858, 4.3145888457011505), (904, 4.296042251293158), (48516, 4.274886970992872), (898, 4.265664845608945), (1213, 4.263791844993055), (50, 4.26299055124858), (1221, 4.251869439828311), (741, 4.251691549887731), (1089, 4.249401799414022)]), (444, [(750, 4.257904152152817), (1204, 4.25492957617562), (858, 4.225686088316204), (2959, 4.218540456541943), (904, 4.21298893600317), (898, 4.178194203439739), (48516, 4.174506296676391), (260, 4.172324832499362), (1213, 4.171928126907377), (1221, 4.1669599435872335)]), (445, [(318, 4.16638813681755), (858, 4.100233150888675), (904, 4.088830273358176), (1204, 4.085233841965471), (48516, 4.0509389395789315), (50, 4.050143897565519), (1213, 4.042889061936761), (898, 4.042632538767324), (1221, 4.039862294400614), (912, 4.034222826439369)]), (446, [(318, 3.9363650262996694), (750, 3.883997844434843), (1204, 3.8763987953734236), (858, 3.8696821217823865), (2959, 3.8583342151738442), (904, 3.8463521149638344), (48516, 3.8172278396339605), (1213, 3.8120066454452246), (260, 3.811123019142084), (1221, 3.8091210116939704)]), (447, [(750, 4.390138218585638), (1204, 4.375993602557093), (858, 4.370767850280925), (2959, 4.36078625373289), (904, 4.348932758502489), (48516, 4.322814270184142), (50, 4.322624266696787), (1221, 4.315196152963125), (1213, 4.31517252343114), (260, 4.314570657803499)]), (448, [(318, 3.282654523506123), (750, 3.2315766648073643), (1204, 3.2107503366608228), (904, 3.1952158224845997), (1197, 3.146567510642795), (4973, 3.141463176343899), (3275, 3.138203136931423), (7361, 3.1331684467831256), (898, 3.1320597133399626), (1104, 3.132035240620073)]), (449, [(750, 3.858537704994503), (858, 3.8351045084747066), (1204, 3.8312494082173805), (904, 3.8186015119751544), (1104, 3.806673184274021), (296, 3.798700861307297), (48516, 3.78753211251965), (1213, 3.779825157677867), (898, 3.7790625746661592), (260, 3.77687375530127)]), (450, [(318, 4.434395916563617), (750, 4.375926193838447), (858, 4.3655969677142705), (2959, 4.3553012310084505), (1204, 4.341502782952564), (904, 4.338639138961115), (296, 4.330213272214521), (48516, 4.315264492015637), (50, 4.315073215061574), (1213, 4.310469639781549)]), (451, [(318, 4.304189566311923), (750, 4.250427470792042), (858, 4.241686483821166), (2959, 4.227559112627711), (904, 4.214565937490456), (296, 4.207218902387422), (1204, 4.205694529255844), (50, 4.1910064447009585), (48516, 4.18415390945391), (1104, 4.181794758310881)]), (452, [(318, 4.870947998421686), (750, 4.820543814178588), (1204, 4.797439568730592), (2959, 4.792946377763876), (904, 4.7816931995714445), (296, 4.766821903703976), (48516, 4.755456871471317), (50, 4.753911420919946), (1213, 4.748422982874679), (1208, 4.7405014266289776)]), (453, [(750, 4.381755560681142), (1204, 4.358067373475716), (904, 4.343053794657886), (48516, 4.315891902799842), (1104, 4.309502589800102), (1213, 4.309036063377898), (1208, 4.300332022226679), (1197, 4.296737256660685), (3275, 4.2890548976350455), (1276, 4.287674182257548)]), (454, [(318, 4.174190889483214), (750, 4.121558140568521), (1204, 4.106911269017716), (858, 4.1061737139382215), (2959, 4.095443966633329), (50, 4.0602483613507845), (48516, 4.05777296129825), (1213, 4.050522954771628), (912, 4.047358918957458), (1221, 4.046049239231674)]), (455, [(750, 4.0248975776749285), (858, 4.012104720580785), (2959, 4.0012895093964245), (1204, 3.99514055403342), (904, 3.9922484093162445), (296, 3.977441666188243), (48516, 3.9689898247848667), (1213, 3.956323257402825), (1221, 3.9514765758612054), (260, 3.9512256789972455)]), (456, [(318, 4.4326478366939295), (750, 4.387510675304649), (858, 4.363780691134224), (2959, 4.357558294274376), (904, 4.351362305128122), (1204, 4.340341381318251), (296, 4.327453913667216), (912, 4.3184984436484655), (48516, 4.317202354030453), (50, 4.315843976989149)]), (457, [(318, 4.107188474317118), (750, 4.052783943460934), (858, 4.038465930717903), (1204, 4.022841456536239), (904, 4.019102291968179), (296, 3.999803595719976), (48516, 3.994945730013437), (50, 3.989724416653846), (1213, 3.9829910264954225), (1221, 3.982471473282025)]), (458, [(318, 4.56945178643454), (750, 4.510487952087908), (858, 4.501708583658774), (2959, 4.492505606628678), (1204, 4.491661326801428), (904, 4.470862805286005), (50, 4.451093835703758), (48516, 4.449500529055856), (898, 4.448851290043553), (1213, 4.446092531686167)]), (459, [(318, 4.514454167904224), (750, 4.46533271892649), (1204, 4.461349943924287), (858, 4.452506296519349), (898, 4.440476552860029), (2959, 4.4355893580375), (904, 4.430556812558619), (296, 4.410372099409012), (48516, 4.4005328228870235), (50, 4.393707138560014)]), (460, [(750, 4.4448236061421), (858, 4.430521744293658), (1204, 4.4196351705230095), (904, 4.40767388606944), (296, 4.395679789343425), (50, 4.380404881901271), (1213, 4.376737625539334), (260, 4.371725076820447), (1221, 4.369370854993676), (912, 4.368141484695392)]), (461, [(1204, 3.6187982663921696), (750, 3.5741050587098893), (858, 3.5650721815121997), (2959, 3.5611989339078622), (904, 3.5395127065321974), (296, 3.5296028000131434), (48516, 3.5169307542918093), (50, 3.513519328046536), (912, 3.509325407195238), (1276, 3.5073444972345005)]), (462, [(1204, 4.03688223266336), (48516, 4.001052341684879), (898, 3.9827594205797956), (1197, 3.981469315976393), (1104, 3.977561613279261), (3275, 3.9709932300428497), (1199, 3.9693248845211073), (7361, 3.9680277422368677), (2329, 3.965453091085354), (2324, 3.956916815291871)]), (463, [(318, 4.279536048418369), (750, 4.216509956129058), (858, 4.2076846910434815), (2959, 4.201907621051466), (904, 4.186089243892731), (1204, 4.171747526437158), (48516, 4.16765254016666), (50, 4.161126795687901), (1213, 4.154255503289147), (1208, 4.152798603776435)]), (464, [(750, 4.172891874833658), (1204, 4.155665961204954), (904, 4.134975647366092), (50, 4.105473917805449), (1104, 4.092620475222084), (912, 4.092084359048333), (1208, 4.091479283727723), (1197, 4.088954082001319), (1136, 4.085785698382433), (1089, 4.084646071102802)]), (465, [(318, 4.492565861011811), (858, 4.425168412834224), (1204, 4.420507313622187), (2959, 4.415269471989849), (296, 4.389121507702302), (50, 4.376463414922386), (48516, 4.373674955217761), (1213, 4.3699942795072495), (260, 4.367237919110159), (1221, 4.366385799962157)]), (466, [(750, 4.326717012010907), (858, 4.309976043758663), (1204, 4.297701098865735), (904, 4.289922618065229), (296, 4.272565691666936), (48516, 4.260760793566107), (50, 4.260423117383978), (1213, 4.254121524075586), (1221, 4.2488759456011795), (912, 4.24610845458383)]), (467, [(318, 4.037497268952553), (1104, 3.9962659172555237), (750, 3.9740816089854833), (858, 3.9665401477246887), (2959, 3.959004421795499), (898, 3.9450578906398497), (904, 3.936201212741432), (296, 3.9256917610274398), (50, 3.922649589041603), (48516, 3.9167664805850024)]), (468, [(750, 4.016590078336267), (858, 3.996937210223095), (1204, 3.9949153565745252), (2959, 3.98771381622847), (904, 3.9810171860734322), (1213, 3.956691135988314), (48516, 3.95060700917782), (246, 3.950209109502576), (50, 3.9469027034696014), (2019, 3.939832095983455)]), (469, [(2959, 4.0930871440225), (48516, 4.053254746170936), (4973, 4.030765353127996), (3275, 4.0243046570745005), (7361, 4.0212875988528705), (2329, 4.019456872002436), (58559, 4.008891085226298), (922, 4.002944160006467), (5618, 4.000838569325959), (2019, 3.999964578523502)]), (470, [(750, 4.116994914887635), (858, 4.100447037095277), (1204, 4.096316941137978), (2959, 4.087973183555269), (904, 4.0818275067451815), (48516, 4.053655535802984), (1213, 4.041627109695611), (260, 4.040559857011745), (1104, 4.040503028630615), (912, 4.038036810032514)]), (471, [(318, 4.171717948978699), (750, 4.125910922898622), (858, 4.1045727511818395), (1204, 4.093099297891555), (904, 4.09217954708286), (898, 4.085954505953413), (50, 4.058757824803461), (1276, 4.054897746944729), (1233, 4.054827233790981), (1213, 4.053466462400855)]), (472, [(1204, 4.370842299729667), (750, 4.3607492648567945), (2959, 4.339593410908589), (1104, 4.336623961300898), (904, 4.321878121016257), (296, 4.315691843631152), (1197, 4.29803120029088), (260, 4.295749587719543), (898, 4.28906168459989), (1213, 4.288778310370649)]), (473, [(750, 4.01194580700414), (858, 4.0018063750097355), (904, 3.990218102478457), (1204, 3.9841837179812822), (296, 3.969237911871419), (898, 3.963072075200469), (50, 3.9592948231183964), (1213, 3.9524751852061484), (48516, 3.9508317585156596), (1208, 3.9484431811200547)]), (474, [(3275, 4.08461888607424), (58559, 4.069255070258474), (741, 4.048734181453978), (4011, 4.044989326448235), (57669, 4.035353339084228), (78499, 4.028173103160977), (38061, 4.023566273738477), (56782, 4.023110470997699), (27773, 3.992202080146422), (168252, 3.9915458390411787)]), (475, [(318, 4.701470177290256), (750, 4.6525913467893), (858, 4.633421237063151), (1204, 4.631326047184435), (2959, 4.6234156211570765), (904, 4.6137783638266825), (296, 4.597117652878639), (48516, 4.58541045591552), (50, 4.583770817833548), (1213, 4.577456970882398)]), (476, [(750, 4.210317040468382), (858, 4.194089433042293), (1204, 4.188338411235385), (2959, 4.185657964710007), (904, 4.180130091845477), (50, 4.145931222308988), (1213, 4.142488171716374), (48516, 4.137716440272623), (260, 4.134891707531517), (1221, 4.1346406520214085)]), (477, [(858, 4.36569723128372), (2959, 4.354989840622566), (50, 4.316348707547872), (1213, 4.309279194776737), (1221, 4.306507004565417), (912, 4.30081784451485), (1197, 4.297558335176907), (898, 4.287671872840345), (1104, 4.286950069979557), (2329, 4.281772073718448)]), (478, [(318, 3.7632115484191164), (750, 3.7168301654304963), (858, 3.693627595092646), (1204, 3.6914771900083827), (2959, 3.691078684709394), (904, 3.667262016784151), (296, 3.6600666158311386), (50, 3.6529599773223893), (48516, 3.6500655375874334), (1221, 3.6483837339071465)]), (479, [(318, 3.9828737170322093), (750, 3.9368536542347865), (2959, 3.9067888744011574), (1204, 3.8980367374874128), (296, 3.8800920930817977), (50, 3.8687065644388166), (48516, 3.8664600305041588), (1213, 3.8606909378021688), (1221, 3.8557185395320546), (1208, 3.8523986984446887)]), (480, [(750, 3.934725971259793), (1204, 3.9191692090107964), (904, 3.898089452943312), (912, 3.8540383730831764), (1276, 3.8483908433692657), (1104, 3.842729759613613), (898, 3.840477835593581), (1199, 3.8279085412116185), (58559, 3.8253760791350375), (1201, 3.82016564618832)]), (481, [(318, 3.7549060515303196), (750, 3.700390674380962), (741, 3.690698367912379), (858, 3.689388432962515), (2959, 3.677572813482107), (898, 3.6768841539445147), (904, 3.672013051816992), (1204, 3.6527167298533145), (296, 3.6509022804209788), (48516, 3.6468278830183345)]), (482, [(318, 4.046577298725946), (750, 3.9987685180931574), (1204, 3.986147239113264), (858, 3.9799902595140106), (2959, 3.9695808451194496), (904, 3.9602565886588987), (296, 3.9437667364464826), (48516, 3.9337388829300903), (1213, 3.9251425175022794), (1221, 3.921327154811391)]), (483, [(750, 4.235483584190721), (1204, 4.212541868913531), (904, 4.199446246665321), (1213, 4.1629744329976495), (1208, 4.153674350046608), (1089, 4.148676650826876), (1104, 4.148129232570617), (1276, 4.147470357677569), (898, 4.144543128608262), (922, 4.118140961390559)]), (484, [(750, 4.300316431100734), (858, 4.28227276096902), (1204, 4.275612715571141), (296, 4.245633266603753), (50, 4.231713640518989), (260, 4.222537909623324), (1221, 4.221737388674815), (898, 4.21941386586848), (1208, 4.219357974189125), (912, 4.218019342110152)]), (485, [(318, 4.337106589512412), (1104, 4.300493391382608), (1204, 4.285312501751254), (750, 4.282584379299351), (904, 4.277075001592872), (858, 4.273598893355585), (898, 4.269840060260184), (2959, 4.2594908230339605), (296, 4.232876145351947), (48516, 4.224050512015965)]), (486, [(750, 4.451024285980745), (858, 4.439818910225042), (1204, 4.427634489576871), (2959, 4.425208618016242), (898, 4.405321698171493), (904, 4.398332942154415), (50, 4.389299248875799), (1276, 4.3852656899313684), (48516, 4.384318559276202), (1213, 4.381857164240644)]), (487, [(858, 3.6265923733656473), (1204, 3.6263520638035285), (296, 3.5903003244138554), (50, 3.573577946068852), (48516, 3.5710283685142286), (1213, 3.5709260813754433), (1221, 3.567238729994025), (1276, 3.5636049556896263), (912, 3.560438071632113), (1136, 3.558395737877143)]), (488, [(750, 4.2385398494220965), (1204, 4.2232374521493306), (858, 4.220050934094289), (2959, 4.208652279530079), (296, 4.1822022512472286), (48516, 4.171037483209089), (50, 4.170271154548097), (1213, 4.162506668936829), (260, 4.160733647017522), (1104, 4.159750053941404)]), (489, [(318, 3.808892716580184), (858, 3.7405261349118986), (48516, 3.6934950741168033), (50, 3.6922077837052365), (1213, 3.685869535822869), (260, 3.6823197969692676), (1221, 3.680417096835591), (1208, 3.6782517184313743), (1197, 3.6743417657506927), (1276, 3.670668930822042)]), (490, [(318, 3.8177980173770316), (750, 3.7667632447259045), (1204, 3.7516144174465373), (858, 3.750243699553179), (904, 3.731054401389491), (48516, 3.7027979561892623), (50, 3.7012441518364385), (1213, 3.694568022845039), (260, 3.6903390232015187), (1221, 3.6876610321722714)]), (491, [(318, 4.5552727943263465), (750, 4.497696674296014), (858, 4.487320780593114), (2959, 4.478087515764307), (1204, 4.466606663149576), (904, 4.465394204615929), (296, 4.452955875964538), (48516, 4.444689803774603), (50, 4.436426186331569), (1213, 4.431463743737492)]), (492, [(318, 4.535512902368648), (750, 4.4826328697478655), (1204, 4.466930400382351), (2959, 4.4578962741929224), (904, 4.44826012035306), (296, 4.431225547529631), (48516, 4.418558450029789), (50, 4.4182204780512695), (1213, 4.413371226493054), (1221, 4.40810904985214)]), (493, [(318, 4.164719036472421), (1204, 4.115503534147819), (750, 4.114182649788349), (2959, 4.08519361894804), (904, 4.082590001811774), (296, 4.067806862653668), (898, 4.059533912655784), (48516, 4.050075601455156), (50, 4.049297173102826), (1213, 4.048960284921423)]), (494, [(318, 4.396620316153063), (750, 4.359289787361206), (904, 4.320864542246975), (2959, 4.314946148589785), (1104, 4.300527552923077), (296, 4.285831768622096), (50, 4.279906845019169), (48516, 4.279728471998256), (1213, 4.276341827823051), (1217, 4.271762666878138)]), (495, [(750, 4.467207647796533), (1204, 4.441366397064858), (904, 4.435386472126169), (296, 4.415607337116183), (1213, 4.395639030684979), (260, 4.393620484203786), (1221, 4.393064161159772), (912, 4.387261605367864), (1197, 4.385370146973362), (1136, 4.38430329171211)]), (496, [(318, 3.9799870625103013), (750, 3.9082618758818044), (2959, 3.904438749496121), (1204, 3.887080928014096), (296, 3.8809428247632463), (50, 3.8677780583939803), (48516, 3.8610393641240566), (1213, 3.858015296857383), (1104, 3.855795753359442), (3275, 3.8557347166494793)]), (497, [(1204, 3.921983602606003), (296, 3.8830678394440445), (1213, 3.8713991814018787), (48516, 3.8691401185552468), (912, 3.8655167647204927), (1104, 3.862678017441238), (1208, 3.8621746195092204), (1221, 3.8607669876475654), (1136, 3.8562566849300906), (1197, 3.8545321576191744)]), (498, [(750, 4.4147832050516875), (858, 4.407952921903913), (2959, 4.397921652108114), (904, 4.384354251680894), (1204, 4.383304167670088), (1104, 4.372663370317222), (48516, 4.362035268467557), (50, 4.3597187342387445), (912, 4.354634730474069), (3275, 4.352625474132547)]), (499, [(318, 4.27498972584681), (750, 4.222207427247674), (858, 4.214766253446168), (904, 4.212130234699004), (2959, 4.197282152409868), (1204, 4.195935006678644), (296, 4.177205369010466), (246, 4.163430351766315), (1213, 4.158834598392281), (48516, 4.156494429648494)]), (500, [(318, 3.9250135482553867), (750, 3.8717445299497397), (858, 3.8566153539735333), (2959, 3.848442377059321), (904, 3.8402468878766407), (1204, 3.838295841574983), (296, 3.820777666824805), (48516, 3.8144980134780004), (898, 3.808576154386243), (50, 3.8084310963401764)]), (501, [(318, 3.975077089276967), (1204, 3.9324487276442577), (750, 3.9258350747285786), (858, 3.9089809866596896), (2959, 3.897515864228692), (904, 3.891111155109607), (296, 3.8741717216380125), (48516, 3.85773792367517), (1213, 3.8565572798038614), (260, 3.851949520533909)]), (502, [(750, 4.0067548939027064), (1204, 3.988457781368478), (858, 3.978542177576271), (2959, 3.9655438593887813), (904, 3.9518510573301353), (296, 3.9424559781986503), (1104, 3.9355584859688095), (48516, 3.9311068748285574), (50, 3.9309591580641987), (898, 3.9270457301265704)]), (503, [(750, 3.7902533564363563), (904, 3.759235242898963), (1204, 3.7503325865093338), (50, 3.722854962688175), (260, 3.715583416174356), (1208, 3.7126542566208345), (912, 3.7102236817859935), (1276, 3.710145407766457), (1136, 3.7048122528047505), (1197, 3.7036426346051634)]), (504, [(318, 4.312138247048145), (750, 4.256497959054031), (858, 4.245270239124148), (2959, 4.2357418766231065), (904, 4.228621374967006), (1204, 4.220049630984808), (48516, 4.1981810024084245), (50, 4.1959539284317655), (1213, 4.188587088559481), (260, 4.184376365365738)]), (505, [(318, 4.465402234532667), (1204, 4.427482280518695), (750, 4.412753258695298), (858, 4.399991575976686), (296, 4.367941469766485), (904, 4.367519570529378), (48516, 4.352032270580817), (50, 4.349147720084313), (1208, 4.341149740134363), (1221, 4.339020619429291)]), (506, [(318, 3.9222309894875758), (750, 3.863889930475312), (858, 3.8551036124841502), (2959, 3.847903768587345), (1204, 3.8412314629238793), (904, 3.8245732431052586), (296, 3.8183247458447775), (50, 3.807069180407966), (898, 3.8064683972952844), (48516, 3.8015569045912323)]), (507, [(318, 4.002666732381101), (750, 3.9535186290228377), (858, 3.937480261139011), (904, 3.929137151298331), (2959, 3.923161952059138), (296, 3.901890209196189), (48516, 3.899738531867115), (1204, 3.888943391689735), (260, 3.8856168059243363), (898, 3.8853198786118455)]), (508, [(318, 3.320160624669403), (750, 3.264379699010968), (858, 3.2535825200213857), (2959, 3.246322621507205), (904, 3.2429249025512203), (246, 3.217805900587451), (296, 3.2157765613688047), (1204, 3.2149403454557093), (50, 3.2023498842784295), (1208, 3.201965540477174)]), (509, [(318, 3.9585351788146177), (750, 3.9072551509390676), (858, 3.8914792057443695), (1204, 3.8833253971901267), (2959, 3.8808163948267103), (904, 3.870040119868324), (48516, 3.8423699189413005), (50, 3.841403881233244), (1213, 3.835783078087992), (1221, 3.829818526472446)]), (510, [(318, 3.6410942665408603), (1204, 3.5726296020626473), (904, 3.5625901077718876), (2959, 3.56144990735815), (296, 3.5358924413453487), (48516, 3.522579191569223), (1221, 3.5153604479556035), (260, 3.5151266161853805), (912, 3.511194144718467), (898, 3.5102002500204708)]), (511, [(750, 4.400299643075177), (1204, 4.388143100003161), (858, 4.384483693476022), (904, 4.368050108439022), (1104, 4.354588730730994), (296, 4.345406377079965), (48516, 4.3405730792573), (50, 4.333874473702779), (260, 4.328021949987337), (1213, 4.323384557173897)]), (512, [(750, 4.216639415470283), (858, 4.201407510848272), (1204, 4.196787211464953), (2959, 4.188370341678615), (904, 4.176391460375088), (48516, 4.150256097448691), (1213, 4.145049462574831), (260, 4.141783000331695), (1208, 4.138089614638162), (912, 4.135732038600785)]), (513, [(858, 4.155094728988586), (2959, 4.1428042570550785), (922, 4.139153321130176), (904, 4.131152408746959), (1204, 4.106379915972175), (50, 4.098154330521904), (48516, 4.095740177686701), (1213, 4.0941610022642685), (1221, 4.090542945911808), (1208, 4.089693480955215)]), (514, [(318, 3.871159755359443), (750, 3.821997157713332), (858, 3.8041882745073825), (1204, 3.7882372062927807), (904, 3.786073483933026), (48516, 3.754727101312293), (50, 3.7542542029750554), (1221, 3.7435159694775884), (1208, 3.741922714877344), (912, 3.7413846455225293)]), (515, [(750, 4.69555316065408), (858, 4.681619514841851), (1204, 4.671343491812154), (1104, 4.651045958619648), (904, 4.645894548798753), (296, 4.644974286315936), (912, 4.627805451647406), (898, 4.62531634498746), (1221, 4.620686701954655), (1197, 4.620428106441764)]), (516, [(318, 4.174114970532282), (750, 4.134527805512468), (858, 4.113002333575157), (1204, 4.105937112074831), (2959, 4.095493559426269), (904, 4.0935984916225365), (296, 4.074831376378142), (48516, 4.065637810297976), (50, 4.0635277665668585), (1208, 4.054992952912591)]), (517, [(858, 3.1461769369871697), (2959, 3.136376021745727), (904, 3.1266564325363566), (296, 3.1103157557104297), (48516, 3.09885006709883), (50, 3.0969007749535438), (1213, 3.093715149626351), (1221, 3.088138576265474), (1208, 3.0832287419288082), (1104, 3.079965296198974)]), (518, [(318, 4.176338452600314), (904, 4.130871534428473), (750, 4.1223719176214155), (858, 4.110322310025845), (2959, 4.099473048975733), (296, 4.071241112096529), (1204, 4.064825769369561), (48516, 4.058441361358744), (1213, 4.055806906896775), (898, 4.054511447257628)]), (519, [(750, 4.526910052199937), (858, 4.493014437563298), (1204, 4.4799479627010275), (2959, 4.478556005977602), (904, 4.473911265917682), (296, 4.453590494834237), (48516, 4.448364512660943), (50, 4.437712549852253), (1213, 4.4366220456841114), (912, 4.434738523888417)]), (520, [(1204, 4.28813094440614), (2959, 4.284391934986502), (904, 4.273673206605019), (296, 4.258411885536315), (48516, 4.247075094521354), (50, 4.245594629905627), (1213, 4.239238458011529), (260, 4.235169097952482), (1221, 4.233208451298558), (1208, 4.230731141334927)]), (521, [(318, 4.227238167568802), (750, 4.175916421225863), (858, 4.159959654659176), (904, 4.15302675430294), (2959, 4.149139913762812), (1204, 4.133977154313499), (296, 4.1212669329433815), (48516, 4.114514117435803), (1276, 4.109001602751039), (50, 4.108986132571646)]), (522, [(750, 4.232732926493468), (1204, 4.215236129716827), (904, 4.196863579645456), (912, 4.153123604902771), (1208, 4.151803298418772), (1104, 4.144732999570057), (4973, 4.143980207985647), (898, 4.143652513426247), (1276, 4.143551574280596), (3275, 4.139673709437329)]), (523, [(750, 4.805477239333857), (1204, 4.795084847670319), (858, 4.788039951205251), (904, 4.768467338822244), (296, 4.754204344611972), (48516, 4.741100444690026), (50, 4.736094810587893), (1276, 4.735103765241308), (1213, 4.73230793730162), (260, 4.731864728246729)]), (524, [(750, 4.07364625331978), (858, 4.05789885184511), (1204, 4.05040792837341), (2959, 4.047892562636841), (904, 4.040182746994916), (296, 4.020950584753087), (48516, 4.009548176393764), (1213, 4.0008294745213675), (1104, 3.99888724315112), (1221, 3.997890442533704)]), (525, [(858, 4.0112732170465275), (1204, 4.002825414933754), (904, 3.9912470085352227), (296, 3.974555062998067), (48516, 3.963590747901071), (1213, 3.956203541699031), (1221, 3.95084176777859), (912, 3.9472823916140105), (1208, 3.946547382114509), (1104, 3.941652549481727)]), (526, [(750, 4.419852247520757), (1204, 4.397765613726268), (858, 4.389278995877418), (904, 4.379156190063684), (1213, 4.340058843981442), (50, 4.33892555021217), (48516, 4.337595539027692), (1104, 4.335373937076567), (260, 4.33382678027698), (1221, 4.332791087260799)]), (527, [(318, 4.541048270194323), (750, 4.490224941261155), (858, 4.4743924102674875), (1204, 4.46655277686271), (2959, 4.463076188696075), (904, 4.454553284411257), (296, 4.437417230564271), (50, 4.424211194643189), (48516, 4.423266993454342), (1213, 4.418495309226964)]), (528, [(318, 3.9484246494233908), (750, 3.9048425781672105), (858, 3.884470979963947), (904, 3.875553206894655), (2959, 3.872365921427016), (1204, 3.8466588822558285), (50, 3.8339060494567088), (260, 3.826125268989153), (912, 3.824483977948019), (1221, 3.8231677866926437)]), (529, [(318, 4.026286582357775), (750, 3.992300789159744), (858, 3.958940140885293), (904, 3.9584148771624297), (2959, 3.947267399874229), (1276, 3.936049124864562), (1104, 3.9338981538230287), (1204, 3.932171750566421), (48516, 3.93090194109434), (296, 3.915843689461479)]), (530, [(318, 4.286537564814304), (898, 4.229973359638213), (750, 4.221123872301689), (858, 4.217322800308867), (904, 4.206805052557684), (2959, 4.204871315425996), (922, 4.192094955779956), (296, 4.175323884869227), (1276, 4.166006308718502), (50, 4.165988591341906)]), (531, [(318, 4.195258228662444), (750, 4.142821949856272), (1204, 4.134873831303363), (858, 4.131701640544657), (2959, 4.118693254738876), (904, 4.106598663443338), (1104, 4.09350146937662), (296, 4.0911586587127795), (48516, 4.088508714567676), (50, 4.083367150831492)]), (532, [(750, 4.429833100278024), (904, 4.40182630395983), (1204, 4.389160726534588), (296, 4.384989088778143), (50, 4.372775599715747), (48516, 4.367640487583283), (1221, 4.365456786319896), (260, 4.365219337813006), (922, 4.364130489792437), (1208, 4.362645399641696)]), (533, [(318, 4.558508274781144), (750, 4.505323372955088), (858, 4.498441551424843), (904, 4.488858668671687), (1204, 4.470108117414085), (296, 4.459549859120321), (922, 4.455461850449414), (48516, 4.452665340158933), (1213, 4.443175675468385), (912, 4.442864660418641)]), (534, [(318, 4.210498938238536), (750, 4.158846734428479), (858, 4.1432106842372205), (1204, 4.136022741746414), (2959, 4.132528430819542), (904, 4.123507331104615), (296, 4.106482414483683), (48516, 4.093951251377958), (50, 4.093202362881972), (1213, 4.08742980188316)]), (535, [(318, 3.646236302077388), (750, 3.5992347679956134), (858, 3.580691082665158), (2959, 3.5608112343892038), (904, 3.547407653794982), (296, 3.542486357216225), (48516, 3.529149907975888), (50, 3.526336686344324), (260, 3.5231321204876656), (1213, 3.5203308204275836)]), (536, [(318, 4.050110352491266), (750, 4.000971303961279), (858, 3.9826269261378364), (2959, 3.969072226638632), (904, 3.966396314332742), (1204, 3.9507744083462377), (296, 3.942922813158983), (50, 3.929426764238488), (48516, 3.927752205385778), (898, 3.9231597937953655)]), (537, [(750, 4.339818043901599), (1204, 4.329714020699818), (858, 4.325848245575368), (904, 4.318181257887557), (2959, 4.316726462443754), (296, 4.291238473437712), (50, 4.280143322840549), (260, 4.271426913575351), (1221, 4.270342530011529), (1213, 4.267190272091324)]), (538, [(318, 4.675113021605082), (750, 4.6240852924454545), (858, 4.611657149133246), (904, 4.604236898917273), (2959, 4.6002505628089105), (1204, 4.595178773392087), (296, 4.572044823272451), (1104, 4.570974934153292), (48516, 4.569807195313376), (1213, 4.55914529923839)]), (539, [(750, 4.227052166888081), (858, 4.216922495149192), (1204, 4.2106936298186906), (2959, 4.207995233035823), (904, 4.197772635739896), (296, 4.1828096905166605), (48516, 4.178367558151309), (3275, 4.1686774879535795), (912, 4.168416677201195), (50, 4.165439497846653)]), (540, [(318, 4.408103666972076), (750, 4.345511813732488), (858, 4.34233486559934), (904, 4.316394001600383), (1204, 4.309194255314699), (50, 4.2894377403224695), (1213, 4.288211942122349), (1104, 4.286191027858491), (1208, 4.284309191864498), (912, 4.28150736743437)]), (541, [(750, 4.013824066320954), (1204, 4.007948623067367), (858, 3.996842106662789), (2959, 3.986602627685764), (904, 3.9744684177146192), (296, 3.959516445061689), (48516, 3.9463164258702106), (1213, 3.943899998482755), (260, 3.938377396998998), (1221, 3.937772962407918)]), (542, [(750, 3.998837266715917), (858, 3.983059871090051), (1204, 3.9828340507163884), (904, 3.9600193923659104), (50, 3.9312397656858873), (1213, 3.925060202015783), (1221, 3.9221046384576996), (260, 3.921902949390501), (912, 3.918436826204827), (1208, 3.918086423253144)]), (543, [(318, 4.751514180196218), (750, 4.703558757519708), (858, 4.683574207131271), (904, 4.667923204467027), (1204, 4.651436989761733), (296, 4.649141672251329), (48516, 4.638292093185371), (50, 4.635961494306199), (1213, 4.629634324596407), (260, 4.628463417139681)]), (544, [(318, 4.624120856641426), (1204, 4.586427907843471), (750, 4.57263992301828), (858, 4.557908617586002), (2959, 4.545194002924578), (951, 4.537340382036858), (904, 4.523008342876795), (296, 4.5228541349355345), (1276, 4.506890054731472), (3275, 4.506689448154813)]), (545, [(318, 4.126600852406635), (898, 4.107268868243826), (750, 4.07874814829475), (858, 4.058310121491591), (2959, 4.047752578202991), (904, 4.033632990469049), (922, 4.030273886111558), (1204, 4.0254889895763855), (296, 4.022281410484027), (48516, 4.020248060207203)]), (546, [(318, 4.134618766545511), (750, 4.087208502293468), (1204, 4.074754025129433), (858, 4.068413243162282), (2959, 4.053915213900829), (904, 4.04734743782934), (296, 4.029438395163409), (50, 4.018877770007523), (48516, 4.015249814293955), (1221, 4.013780735593936)]), (547, [(318, 4.387404443628521), (1204, 4.367996988951952), (750, 4.346623213535381), (858, 4.325855847114755), (2959, 4.313121263080436), (904, 4.298325698577505), (296, 4.287202702345062), (3275, 4.285289850008326), (246, 4.27456160335561), (1221, 4.272634466102954)]), (548, [(318, 4.410986830662606), (750, 4.366171361265562), (1204, 4.353203975945322), (858, 4.344208983378847), (2959, 4.332347821298711), (904, 4.327786840250419), (1104, 4.319498352852373), (296, 4.308482174452606), (898, 4.296168377925046), (50, 4.294738052261488)]), (549, [(750, 3.980481032266643), (858, 3.963970151101774), (904, 3.9508803335743634), (1204, 3.948552945482861), (296, 3.9348130606997396), (3275, 3.9344988128070666), (2019, 3.924150463993014), (50, 3.921163551274505), (1213, 3.915321231824619), (1208, 3.9133171541553136)]), (550, [(750, 4.3007825826053505), (1204, 4.286260830856032), (858, 4.285122166013737), (2959, 4.280538075349827), (904, 4.258393225495076), (296, 4.252470962061042), (50, 4.241075949718436), (898, 4.239800689485024), (1213, 4.238511771050889), (1089, 4.231227904232205)]), (551, [(750, 4.125190959892141), (858, 4.10726880822817), (1204, 4.097459973022912), (904, 4.090874106368884), (48516, 4.063798130990098), (50, 4.05815159458635), (1213, 4.052015275643347), (1221, 4.046846739481024), (1208, 4.0456074127430925), (912, 4.041287878351592)]), (552, [(318, 3.856445129458329), (858, 3.789622099269702), (1204, 3.7869233992196136), (904, 3.7735125642616167), (48516, 3.741022879695223), (50, 3.739742549663339), (1213, 3.731709120037573), (260, 3.7309166050103646), (1221, 3.727688648456771), (912, 3.723575551953448)]), (553, [(318, 4.59585838584965), (750, 4.545571518361806), (1204, 4.518402908925421), (904, 4.507211953484385), (1104, 4.476688382509765), (260, 4.468728521545892), (912, 4.465452977201449), (1208, 4.463951782346714), (898, 4.462025989787053), (1197, 4.459811475387089)]), (554, [(318, 4.376874110517369), (750, 4.324603357204551), (2959, 4.297451980615025), (1204, 4.29279595418681), (904, 4.287085298547819), (296, 4.274350227511419), (48516, 4.263542081057805), (50, 4.26140942445969), (898, 4.2543996699596445), (260, 4.251123989482765)]), (555, [(750, 4.024021974676532), (858, 4.009659103220472), (1204, 3.9933434531390977), (904, 3.989553710291669), (48516, 3.9601857572144077), (1221, 3.9490458126009256), (912, 3.9452989121881115), (1136, 3.939921216013175), (4973, 3.9354583034487445), (1276, 3.9341361560834773)]), (556, [(318, 4.454841918854353), (750, 4.419965965882384), (1204, 4.409061130213167), (1104, 4.40201222292882), (858, 4.387755725747888), (2959, 4.377044990294881), (904, 4.368617471328575), (296, 4.353564691753645), (3275, 4.352008663129692), (50, 4.341826949679492)]), (557, [(1104, 4.200828651566732), (858, 4.165151828726132), (750, 4.16383663125609), (1204, 4.1623442485844615), (2959, 4.155604883033168), (904, 4.1426024526892755), (296, 4.127114654417461), (1213, 4.12351191097351), (50, 4.121507219910381), (1276, 4.110225665093958)]), (558, [(318, 4.426201200183517), (750, 4.377064787781619), (858, 4.360054318720482), (1204, 4.355166747349858), (2959, 4.344916035294084), (904, 4.332788563104642), (48516, 4.316827228856933), (898, 4.307244357649679), (50, 4.306658776146647), (1213, 4.304807057217139)]), (559, [(750, 4.013701692938738), (858, 3.9936139060724116), (1204, 3.98766880646977), (2959, 3.98391598767844), (904, 3.974553279818411), (50, 3.9447509509602505), (48516, 3.943938805973849), (1213, 3.937246511790715), (1221, 3.9352361150944777), (1276, 3.9294965363344923)]), (560, [(318, 4.063950802836616), (750, 4.012893138124147), (858, 3.9970874128455685), (1204, 3.9899862955827006), (904, 3.9778766947852224), (1213, 3.9416431749093066), (1221, 3.936464379135496), (912, 3.9321017927718067), (1197, 3.928848555150758), (898, 3.924480085308605)]), (561, [(750, 3.7865060068023597), (858, 3.7688975567185024), (1204, 3.766117680973202), (904, 3.748826056839677), (1221, 3.70838165305195), (1208, 3.704226844143673), (912, 3.7041360319392904), (1136, 3.6992115621713038), (1104, 3.697434418286573), (4973, 3.6956183814046883)]), (562, [(750, 4.4168231817965955), (858, 4.397197892446516), (1204, 4.388159793809246), (904, 4.3763455173482), (48516, 4.348145081084471), (1213, 4.342178345366111), (260, 4.338390413305956), (1221, 4.337208571641242), (898, 4.33456621398156), (912, 4.33389557330573)]), (563, [(318, 4.000023264397383), (750, 3.9491526690597776), (858, 3.931874418429696), (2959, 3.921733558799218), (1204, 3.9213058754999093), (904, 3.913743517617534), (296, 3.895449714727971), (48516, 3.884015406039808), (50, 3.883132726053044), (1213, 3.87603217812024)]), (564, [(750, 4.1179515887227875), (858, 4.100413904753055), (1204, 4.095903721491417), (2959, 4.09002575352417), (904, 4.077632338025763), (296, 4.064126553653601), (48516, 4.053932688327456), (50, 4.052089984781804), (1213, 4.046756308077098), (1221, 4.0414319869896635)]), (565, [(1204, 4.134999606339271), (750, 4.132041313858057), (858, 4.117184143958636), (904, 4.115327145776473), (2959, 4.102710863302009), (898, 4.089238082509654), (48516, 4.078407692208939), (1276, 4.071694132570787), (1213, 4.069794004212486), (1221, 4.066526884748889)]), (566, [(750, 4.065359133073354), (1204, 4.0510661389122085), (858, 4.049855218695046), (2959, 4.034942290142838), (904, 4.015546241680273), (898, 3.999270959715586), (48516, 3.9970184671122593), (1276, 3.994832867396752), (1213, 3.989863399517517), (260, 3.987303736710707)]), (567, [(318, 3.1675365937049684), (858, 3.099881519540043), (2959, 3.0889765974015573), (1204, 3.087709598640404), (904, 3.0768828646353774), (296, 3.063634540233184), (48516, 3.0537178056733745), (1213, 3.0440257357112097), (912, 3.0385529830242204), (1221, 3.0385347791431196)]), (568, [(318, 4.402462799872553), (750, 4.352438369010463), (1204, 4.340131716305222), (858, 4.334211488680425), (2959, 4.3284616433437915), (904, 4.307557182163585), (475, 4.30642745642481), (898, 4.296018026363694), (246, 4.28395615712311), (1213, 4.277723636889074)]), (569, [(318, 4.389633620435059), (750, 4.328346794024957), (858, 4.327292965877653), (2959, 4.313793454922258), (1204, 4.292273004988748), (1223, 4.290045850596061), (904, 4.286006928357831), (48516, 4.284741654375406), (1213, 4.272109309309533), (1208, 4.270514904727872)]), (570, [(750, 3.969707772126995), (1204, 3.9439710904517833), (904, 3.93486818122426), (296, 3.916558524194571), (50, 3.9036209374764788), (1213, 3.897472141640842), (1221, 3.8931390573889946), (1208, 3.8892441176983312), (912, 3.8883519916157803), (1104, 3.883374827790673)]), (571, [(318, 3.4905100410027545), (750, 3.4375277608226846), (858, 3.422709719820709), (2959, 3.413369967594995), (1204, 3.404693729561574), (904, 3.3997750828781466), (1104, 3.3905396082407195), (898, 3.3865323778841407), (296, 3.3853047483300664), (48516, 3.3754485473607163)]), (572, [(2959, 4.373992932820435), (296, 4.348645675830694), (48516, 4.337066303854448), (50, 4.3359185443494574), (1213, 4.329180700502562), (1104, 4.323201411924798), (1197, 4.315949483565484), (898, 4.313505147229959), (1089, 4.313335090687996), (4973, 4.312172731903276)]), (573, [(750, 4.544618245360894), (1204, 4.514595790615699), (904, 4.511601617080805), (1208, 4.464297909942237), (912, 4.463763073654743), (4973, 4.45416846667075), (3275, 4.453965238693056), (1104, 4.453916832780868), (898, 4.447831320894679), (7361, 4.447362750964404)]), (574, [(750, 4.331904229438501), (1204, 4.31972280073161), (858, 4.306844513962748), (2959, 4.298720980942052), (904, 4.286958400022702), (48516, 4.265295811611401), (1208, 4.264292389846885), (1213, 4.261363342639443), (1221, 4.256510125835074), (50, 4.2522297462977905)]), (575, [(318, 3.943601300779612), (750, 3.8934008977960044), (1204, 3.8882512029380676), (858, 3.8768238499489804), (2959, 3.8619906452372073), (1104, 3.8540964962794155), (904, 3.844639882174568), (48516, 3.832425487121), (50, 3.81909622716887), (1213, 3.8174260333274868)]), (576, [(318, 3.9506402657632185), (904, 3.8899729446833105), (1104, 3.8872785501902096), (858, 3.8864846222609972), (750, 3.8838881760876984), (2959, 3.8693891565052065), (1204, 3.860015380728885), (296, 3.835332659462555), (260, 3.8326120923768294), (50, 3.8303046442036925)]), (577, [(750, 4.038110901992201), (1204, 4.0195590377890715), (2959, 4.011069121222324), (904, 4.0018091188667375), (296, 3.984619598582624), (48516, 3.972937040202712), (50, 3.9723676491781936), (1208, 3.956554575391186), (898, 3.951744731236816), (1089, 3.951564735311094)]), (578, [(318, 4.410587365669747), (750, 4.366624544972671), (858, 4.3426068991473645), (2959, 4.332924049584329), (904, 4.318428300128753), (1204, 4.315977215416549), (296, 4.305672174286323), (50, 4.295256578198236), (48516, 4.295038551575536), (3275, 4.291857843068101)]), (579, [(318, 4.456944720654664), (750, 4.404382331495506), (858, 4.389223925837387), (1204, 4.383974209884251), (2959, 4.376310465041042), (904, 4.365556952069464), (296, 4.349129390439275), (50, 4.338173186237172), (48516, 4.335516424546161), (1213, 4.330517368949753)]), (580, [(750, 4.077193602854264), (1204, 4.051623599329016), (904, 4.040135918443467), (1197, 3.991347426410335), (898, 3.9887811861254545), (1104, 3.9887482168069024), (1276, 3.9865483148645087), (2324, 3.9680285656263004), (58559, 3.9657891797319462), (2019, 3.9631546825943826)]), (581, [(750, 4.4254049938375575), (858, 4.421624842257516), (904, 4.40511986367262), (296, 4.377012805756897), (48516, 4.3742912446494895), (50, 4.369241772325636), (1213, 4.3639077102103085), (912, 4.359707398564088), (260, 4.3581711913413415), (1204, 4.358042164497063)]), (582, [(318, 4.3434882564556245), (1204, 4.282581340431407), (750, 4.2825569866939945), (858, 4.277952912518631), (904, 4.251648344717104), (296, 4.241455920686898), (50, 4.225119706111519), (1213, 4.22272258738306), (1221, 4.215327924430122), (912, 4.2151308396500164)]), (583, [(318, 3.9599069292969284), (750, 3.912816964265854), (1204, 3.902099368523307), (858, 3.8940827334265613), (904, 3.8818976829916267), (2959, 3.881591889435174), (48516, 3.852474231384382), (50, 3.844523525110084), (1213, 3.838204317557155), (898, 3.8381789603237335)]), (584, [(318, 4.633144117876477), (750, 4.581372533646661), (858, 4.565663490059152), (2959, 4.553858295666087), (1204, 4.551102667677109), (904, 4.548810137699567), (50, 4.516619333893077), (898, 4.515614103388677), (48516, 4.514469787553543), (1213, 4.509301823704177)]), (585, [(318, 4.552647287467238), (750, 4.502657808984508), (1204, 4.467078112304519), (898, 4.448188154845382), (50, 4.436173947980455), (1208, 4.425184868773645), (260, 4.424198345549461), (1221, 4.423993337007817), (912, 4.423135214587842), (1136, 4.422037513400242)]), (586, [(750, 4.674660161914017), (2959, 4.649876484746829), (1204, 4.645952433336549), (904, 4.639009824546153), (296, 4.6233773035286445), (48516, 4.6108343155911715), (50, 4.610755256732086), (1213, 4.6047725773369175), (912, 4.5987253387295475), (1208, 4.598159367135312)]), (587, [(318, 4.424735938080748), (750, 4.377130928349549), (858, 4.357452731253746), (2959, 4.347783496541934), (1204, 4.34728364090498), (904, 4.338360382172831), (48516, 4.309004496666806), (1213, 4.302148964737828), (260, 4.298845767115838), (1221, 4.2971046622181035)]), (588, [(750, 3.8654486021316408), (858, 3.846954837086842), (1204, 3.8420455389378563), (2959, 3.8364431798568073), (904, 3.8271401073306768), (48516, 3.8014084163060327), (1221, 3.7897975309983387), (1213, 3.7888537354559886), (260, 3.786310244125266), (246, 3.785236042761322)]), (589, [(750, 4.393520508662356), (858, 4.380087042749914), (1204, 4.378136024908971), (2959, 4.3623743240936), (904, 4.3620430725991275), (48516, 4.330371931788149), (50, 4.324770156375683), (1104, 4.319251230295965), (260, 4.31742409140568), (1213, 4.3170237965978115)]), (590, [(1104, 3.794097043548429), (4973, 3.793706401177934), (7361, 3.7860552961856486), (1199, 3.7842075566380764), (5618, 3.7671612371415537), (1225, 3.766707259409657), (2019, 3.7632053250128354), (246, 3.7610875147586595), (741, 3.7524273197818077), (475, 3.7391558934358535)]), (591, [(318, 3.985244315888696), (750, 3.933139391008092), (858, 3.9180222190901977), (1204, 3.9110515867879574), (904, 3.90306518907565), (296, 3.882282155724944), (48516, 3.880442005343456), (1104, 3.876925569266318), (50, 3.8718831180365574), (912, 3.864731941705606)]), (592, [(750, 4.2410098166659544), (1204, 4.220638289755017), (858, 4.218673303989318), (2959, 4.208561182782958), (904, 4.202952724773267), (898, 4.186130779391127), (50, 4.169716546193752), (48516, 4.165430450605435), (1213, 4.161359991074645), (1104, 4.161267262509628)]), (593, [(750, 3.7638988071879855), (1204, 3.733685319036919), (904, 3.7261027851619097), (296, 3.7067449206480356), (48516, 3.6935326042701844), (1213, 3.6872739421019416), (1276, 3.678208194786592), (1208, 3.677646190312048), (898, 3.6753254664713384), (3275, 3.6737072078710544)]), (594, [(318, 4.323932436157091), (750, 4.275557942083453), (1204, 4.248666187587764), (2959, 4.247186804702486), (904, 4.242284113267866), (1104, 4.232555177015024), (296, 4.220987315060309), (48516, 4.20960901983325), (50, 4.209507105668061), (1213, 4.201998309912808)]), (595, [(318, 4.467404264638188), (750, 4.418227356577857), (1204, 4.41024191922595), (858, 4.392836827414199), (2959, 4.389904510300439), (904, 4.375646391081684), (296, 4.361603862358659), (246, 4.357212180773871), (260, 4.344935181034439), (1197, 4.340735398021415)]), (596, [(318, 4.150986956956588), (750, 4.100369156886629), (1204, 4.07606706143953), (296, 4.047124201043596), (48516, 4.034938718683872), (1213, 4.027950762675243), (912, 4.020134973039178), (1208, 4.019607463388974), (1089, 4.013359570141924), (1276, 4.012757837224873)]), (597, [(318, 4.464440574096693), (750, 4.41471342837222), (2959, 4.386720713850636), (296, 4.360730518367315), (48516, 4.349503822213992), (1213, 4.341205305913573), (912, 4.332964711445436), (898, 4.325784882011621), (3275, 4.324903566712178), (1276, 4.323133381231362)]), (598, [(318, 4.221518563238004), (750, 4.175892654226685), (1204, 4.160278700070053), (858, 4.151342102991255), (2959, 4.147304839360478), (904, 4.143008475680677), (3275, 4.123444652094005), (1208, 4.1196926808876295), (296, 4.118096972405951), (50, 4.1088444504225885)]), (599, [(1276, 3.434802030665452), (2324, 3.418754444171509), (527, 3.4130818111428574), (1193, 3.4042188785222374), (246, 3.4023545214391264), (908, 3.398172902894415), (57669, 3.379015724327204), (1262, 3.3785947561547487), (475, 3.3785022309728183), (1203, 3.3709844424151214)]), (600, [(1204, 3.6945973804093875), (904, 3.6829342365730913), (48516, 3.654486653934497), (50, 3.6533370461606824), (1221, 3.6420812038541994), (1208, 3.641567009752278), (898, 3.6403812825725725), (1089, 3.6330944670721506), (1104, 3.6318400363403964), (1276, 3.630909822580498)]), (601, [(750, 4.543229415624744), (1204, 4.517326062464086), (296, 4.490907915507205), (1213, 4.470442505653942), (260, 4.466946328995795), (1208, 4.4609181229291455), (1089, 4.457412780887805), (1104, 4.4551811683786875), (4973, 4.452217747928254), (1276, 4.449733311040773)]), (602, [(750, 3.9883069028515683), (858, 3.972552511678046), (1204, 3.968183119718378), (2959, 3.9622178652273217), (904, 3.950357121663407), (48516, 3.9245538129629387), (1213, 3.916230677265261), (1221, 3.913026834473034), (1104, 3.9098155923935325), (898, 3.909713554779187)]), (603, [(318, 4.024892290731296), (750, 3.9768166688953492), (1204, 3.9558712900002675), (50, 3.9082913866274986), (48516, 3.9082300499142035), (1136, 3.887246652885223), (1276, 3.884773774091702), (4973, 3.8842380422254736), (3275, 3.878534491814873), (7361, 3.8762666348694887)]), (604, [(318, 4.201748547525041), (750, 4.154501405755491), (858, 4.134012774685916), (1204, 4.133040276290448), (2959, 4.123102969212244), (904, 4.111946866934015), (50, 4.083333994848713), (48516, 4.08229174731249), (1213, 4.08077804688502), (260, 4.076528093301932)]), (605, [(318, 3.940072047200621), (750, 3.890757116281088), (858, 3.8724146255501077), (1204, 3.8674486320019903), (2959, 3.862470221838191), (904, 3.8523885057835434), (48516, 3.823048445478257), (50, 3.822714068281379), (1213, 3.817109501895975), (1221, 3.8117067050455717)]), (606, [(1213, 4.034310157075837), (1197, 4.023890577668072), (1104, 4.021315616282733), (1276, 4.019040149949556), (3275, 4.013581292290489), (58559, 3.996840384381445), (246, 3.9866815926411485), (922, 3.984174025458471), (1252, 3.9838979899320597), (741, 3.975754339569924)]), (607, [(750, 4.2350724032517215), (1204, 4.2113863539785035), (2959, 4.2080516346000385), (904, 4.199410448437276), (50, 4.169882446850988), (48516, 4.169227246183659), (1221, 4.157864608112027), (912, 4.155959863479013), (1208, 4.15309173402408), (1197, 4.152061495545527)]), (608, [(1204, 4.144342111711777), (904, 4.130245283225676), (48516, 4.101432258178), (912, 4.0854859469847975), (1197, 4.082017953212671), (1276, 4.07731213447813), (4973, 4.076130822206681), (898, 4.0755136815917705), (1198, 4.066988779487236), (1199, 4.064843569605927)]), (609, [(750, 3.9142516155990026), (858, 3.9002078409525125), (1204, 3.893924445294355), (2959, 3.890200199083739), (904, 3.886804098765258), (48516, 3.860423466370643), (3275, 3.8537025723770757), (50, 3.844718830738093), (1221, 3.844177078864543), (1213, 3.842244308030905)]), (610, [(1204, 4.180172178710875), (1104, 4.117237270234968), (898, 4.1155795377420805), (3275, 4.109938995842356), (2329, 4.104885997122488), (2324, 4.0974704268913555), (246, 4.086739126233356), (1225, 4.08623816314398), (2019, 4.084785171748612), (1193, 4.0841024273429785)])])"
            ]
          },
          "metadata": {
            "tags": []
          },
          "execution_count": 44
        }
      ]
    },
    {
      "cell_type": "code",
      "metadata": {
        "id": "U2ElCZzT4EC1",
        "colab_type": "code",
        "outputId": "ca995f50-2c8b-4617-bc5d-c928e741c87c",
        "colab": {
          "base_uri": "https://localhost:8080/",
          "height": 34
        }
      },
      "source": [
        "# Print the recommended items for all user 1\n",
        "for uid, user_ratings in top_n.items():\n",
        "    print(uid, [iid for (iid, _) in user_ratings])\n",
        "    if uid == 1:\n",
        "        break"
      ],
      "execution_count": 0,
      "outputs": [
        {
          "output_type": "stream",
          "text": [
            "1 [318, 750, 858, 1204, 904, 48516, 1221, 912, 1104, 1276]\n"
          ],
          "name": "stdout"
        }
      ]
    },
    {
      "cell_type": "code",
      "metadata": {
        "id": "3OVCCW1C4ziF",
        "colab_type": "code",
        "outputId": "c83c5d8c-1f02-497e-a89e-48a789bcff48",
        "colab": {
          "base_uri": "https://localhost:8080/",
          "height": 359
        }
      },
      "source": [
        "df_movies[df_movies.itemId.isin([318, 750, 1204, 858, 904, 48516, 1221, 912, 1276, 4973])]"
      ],
      "execution_count": 0,
      "outputs": [
        {
          "output_type": "execute_result",
          "data": {
            "text/html": [
              "<div>\n",
              "<style scoped>\n",
              "    .dataframe tbody tr th:only-of-type {\n",
              "        vertical-align: middle;\n",
              "    }\n",
              "\n",
              "    .dataframe tbody tr th {\n",
              "        vertical-align: top;\n",
              "    }\n",
              "\n",
              "    .dataframe thead th {\n",
              "        text-align: right;\n",
              "    }\n",
              "</style>\n",
              "<table border=\"1\" class=\"dataframe\">\n",
              "  <thead>\n",
              "    <tr style=\"text-align: right;\">\n",
              "      <th></th>\n",
              "      <th>itemId</th>\n",
              "      <th>title</th>\n",
              "      <th>genres</th>\n",
              "    </tr>\n",
              "  </thead>\n",
              "  <tbody>\n",
              "    <tr>\n",
              "      <th>277</th>\n",
              "      <td>318</td>\n",
              "      <td>Shawshank Redemption, The (1994)</td>\n",
              "      <td>Crime|Drama</td>\n",
              "    </tr>\n",
              "    <tr>\n",
              "      <th>602</th>\n",
              "      <td>750</td>\n",
              "      <td>Dr. Strangelove or: How I Learned to Stop Worr...</td>\n",
              "      <td>Comedy|War</td>\n",
              "    </tr>\n",
              "    <tr>\n",
              "      <th>659</th>\n",
              "      <td>858</td>\n",
              "      <td>Godfather, The (1972)</td>\n",
              "      <td>Crime|Drama</td>\n",
              "    </tr>\n",
              "    <tr>\n",
              "      <th>686</th>\n",
              "      <td>904</td>\n",
              "      <td>Rear Window (1954)</td>\n",
              "      <td>Mystery|Thriller</td>\n",
              "    </tr>\n",
              "    <tr>\n",
              "      <th>694</th>\n",
              "      <td>912</td>\n",
              "      <td>Casablanca (1942)</td>\n",
              "      <td>Drama|Romance</td>\n",
              "    </tr>\n",
              "    <tr>\n",
              "      <th>906</th>\n",
              "      <td>1204</td>\n",
              "      <td>Lawrence of Arabia (1962)</td>\n",
              "      <td>Adventure|Drama|War</td>\n",
              "    </tr>\n",
              "    <tr>\n",
              "      <th>922</th>\n",
              "      <td>1221</td>\n",
              "      <td>Godfather: Part II, The (1974)</td>\n",
              "      <td>Crime|Drama</td>\n",
              "    </tr>\n",
              "    <tr>\n",
              "      <th>975</th>\n",
              "      <td>1276</td>\n",
              "      <td>Cool Hand Luke (1967)</td>\n",
              "      <td>Drama</td>\n",
              "    </tr>\n",
              "    <tr>\n",
              "      <th>3622</th>\n",
              "      <td>4973</td>\n",
              "      <td>Amelie (Fabuleux destin d'Amélie Poulain, Le) ...</td>\n",
              "      <td>Comedy|Romance</td>\n",
              "    </tr>\n",
              "    <tr>\n",
              "      <th>6315</th>\n",
              "      <td>48516</td>\n",
              "      <td>Departed, The (2006)</td>\n",
              "      <td>Crime|Drama|Thriller</td>\n",
              "    </tr>\n",
              "  </tbody>\n",
              "</table>\n",
              "</div>"
            ],
            "text/plain": [
              "      itemId                                              title  \\\n",
              "277      318                   Shawshank Redemption, The (1994)   \n",
              "602      750  Dr. Strangelove or: How I Learned to Stop Worr...   \n",
              "659      858                              Godfather, The (1972)   \n",
              "686      904                                 Rear Window (1954)   \n",
              "694      912                                  Casablanca (1942)   \n",
              "906     1204                          Lawrence of Arabia (1962)   \n",
              "922     1221                     Godfather: Part II, The (1974)   \n",
              "975     1276                              Cool Hand Luke (1967)   \n",
              "3622    4973  Amelie (Fabuleux destin d'Amélie Poulain, Le) ...   \n",
              "6315   48516                               Departed, The (2006)   \n",
              "\n",
              "                    genres  \n",
              "277            Crime|Drama  \n",
              "602             Comedy|War  \n",
              "659            Crime|Drama  \n",
              "686       Mystery|Thriller  \n",
              "694          Drama|Romance  \n",
              "906    Adventure|Drama|War  \n",
              "922            Crime|Drama  \n",
              "975                  Drama  \n",
              "3622        Comedy|Romance  \n",
              "6315  Crime|Drama|Thriller  "
            ]
          },
          "metadata": {
            "tags": []
          },
          "execution_count": 46
        }
      ]
    },
    {
      "cell_type": "code",
      "metadata": {
        "id": "uNVZSfS35PSo",
        "colab_type": "code",
        "colab": {}
      },
      "source": [
        ""
      ],
      "execution_count": 0,
      "outputs": []
    }
  ]
}